{
 "cells": [
  {
   "cell_type": "code",
   "execution_count": 81,
   "metadata": {},
   "outputs": [],
   "source": [
    "import numpy as np"
   ]
  },
  {
   "cell_type": "code",
   "execution_count": 46,
   "metadata": {},
   "outputs": [],
   "source": [
    "data = open('data/day13.txt', 'r').read()"
   ]
  },
  {
   "cell_type": "code",
   "execution_count": 47,
   "metadata": {},
   "outputs": [],
   "source": [
    "data_test = open('other/day13_test.txt', 'r').read()"
   ]
  },
  {
   "cell_type": "code",
   "execution_count": 48,
   "metadata": {},
   "outputs": [],
   "source": [
    "def get_data(texte):\n",
    "    split_0 = texte.split('\\n')\n",
    "    XA, YA = [int(elem.split('+')[1]) for elem in split_0[0].split(',')]\n",
    "    XB, YB = [int(elem.split('+')[1]) for elem in split_0[1].split(',')]\n",
    "    XP, YP = [int(elem.split('=')[1]) for elem in split_0[2].split(',')]\n",
    "    return XA, YA, XB, YB, XP, YP"
   ]
  },
  {
   "cell_type": "code",
   "execution_count": 49,
   "metadata": {},
   "outputs": [],
   "source": [
    "def get_price(line):\n",
    "    a, b, c, d, e, f = line\n",
    "    fact = 1/((a*d)-(b*c))\n",
    "    da, db, dc, dd = fact*d, fact*(-c), fact*(-b), fact*a\n",
    "    X = round(da*e + db*f, 5)\n",
    "    Y = round(dc*e + dd*f, 5)\n",
    "    if (X, Y) != (int(X), int(Y)):\n",
    "        return 0\n",
    "    return 3*int(X)+ int(Y)"
   ]
  },
  {
   "cell_type": "code",
   "execution_count": 50,
   "metadata": {},
   "outputs": [
    {
     "data": {
      "text/plain": [
       "480"
      ]
     },
     "execution_count": 50,
     "metadata": {},
     "output_type": "execute_result"
    }
   ],
   "source": [
    "sum([get_price(get_data(elem)) for elem in data_test.split('\\n\\n')])"
   ]
  },
  {
   "cell_type": "code",
   "execution_count": 51,
   "metadata": {},
   "outputs": [
    {
     "data": {
      "text/plain": [
       "37680"
      ]
     },
     "execution_count": 51,
     "metadata": {},
     "output_type": "execute_result"
    }
   ],
   "source": [
    "sum([get_price(get_data(elem)) for elem in data.split('\\n\\n')])"
   ]
  },
  {
   "cell_type": "code",
   "execution_count": 161,
   "metadata": {},
   "outputs": [],
   "source": [
    "def get_price_2(line):\n",
    "    a, b, c, d, e, f = line\n",
    "    # a, b, c, d, e, f = np.int64(a),np.int64(b),np.int64(c),np.int64(d),np.int64(e),np.int64(f)\n",
    "    e, f = e + 10000000000000, f + 10000000000000\n",
    "    fact = 1/((a*d)-(b*c))\n",
    "    da, db, dc, dd = d/((a*d)-(b*c)), (-c/((a*d)-(b*c))), (-b/((a*d)-(b*c))), a/((a*d)-(b*c))\n",
    "    X = da*e + db*f\n",
    "    Y = dc*e + dd*f\n",
    "    print(X, Y)\n",
    "    seuil = 0.0000001\n",
    "    if (abs(X-int(X)) < seuil or abs(int(X)-X) < seuil) and (abs(Y-int(Y)) < seuil or abs(int(Y)-Y) < seuil):\n",
    "        print(\"oui\")\n",
    "        return 3*int(X)+ int(Y)\n",
    "    return 0"
   ]
  },
  {
   "cell_type": "code",
   "execution_count": 181,
   "metadata": {},
   "outputs": [],
   "source": [
    "import math\n",
    "\n",
    "def get_price_2bis(line):\n",
    "    a, b, c, d, e, f = line\n",
    "    e, f = e + 10000000000000, f + 10000000000000\n",
    "    calc_1, calc_2 = e/math.gcd(a, c), f/math.gcd(b, d)\n",
    "    print(line)\n",
    "    print(calc_1, calc_2)\n",
    "    if calc_1 != int(calc_1) or calc_2 != int(calc_2):\n",
    "        return 'no'\n",
    "    return 'perhaps'\n"
   ]
  },
  {
   "cell_type": "code",
   "execution_count": 182,
   "metadata": {},
   "outputs": [
    {
     "name": "stdout",
     "output_type": "stream",
     "text": [
      "(94, 34, 22, 67, 8400, 5400)\n",
      "5000000004200.0 10000000005400.0\n",
      "(26, 66, 67, 21, 12748, 12176)\n",
      "10000000012748.0 3333333337392.0\n",
      "(17, 86, 84, 37, 7870, 6450)\n",
      "10000000007870.0 10000000006450.0\n",
      "(69, 23, 27, 71, 18641, 10279)\n",
      "3333333339547.0 10000000010279.0\n"
     ]
    },
    {
     "data": {
      "text/plain": [
       "['perhaps', 'perhaps', 'perhaps', 'perhaps']"
      ]
     },
     "execution_count": 182,
     "metadata": {},
     "output_type": "execute_result"
    }
   ],
   "source": [
    "[get_price_2bis(get_data(elem)) for elem in data_test.split('\\n\\n')]"
   ]
  },
  {
   "cell_type": "code",
   "execution_count": 180,
   "metadata": {},
   "outputs": [
    {
     "data": {
      "text/plain": [
       "434782609506.13043"
      ]
     },
     "execution_count": 180,
     "metadata": {},
     "output_type": "execute_result"
    }
   ],
   "source": [
    "10000000018641/math.gcd(69, 23)"
   ]
  },
  {
   "cell_type": "code",
   "execution_count": 162,
   "metadata": {},
   "outputs": [
    {
     "name": "stdout",
     "output_type": "stream",
     "text": [
      "81081081161.08109 108108108148.10811\n",
      "118679050709.0 103199174541.99998\n",
      "71266110727.9166 104624715779.70737\n",
      "102851800151.0 107526881786.0\n",
      "oui\n"
     ]
    },
    {
     "data": {
      "text/plain": [
       "416082282239"
      ]
     },
     "execution_count": 162,
     "metadata": {},
     "output_type": "execute_result"
    }
   ],
   "source": [
    "sum([get_price_2(get_data(elem)) for elem in data_test.split('\\n\\n')])"
   ]
  },
  {
   "cell_type": "code",
   "execution_count": 94,
   "metadata": {},
   "outputs": [
    {
     "data": {
      "text/plain": [
       "28288004144913"
      ]
     },
     "execution_count": 94,
     "metadata": {},
     "output_type": "execute_result"
    }
   ],
   "source": [
    "sum([get_price_2(get_data(elem)) for elem in data.split('\\n\\n')])"
   ]
  },
  {
   "cell_type": "code",
   "execution_count": null,
   "metadata": {},
   "outputs": [],
   "source": [
    "26141759542091\n",
    "29018195285899"
   ]
  }
 ],
 "metadata": {
  "kernelspec": {
   "display_name": "env_perso",
   "language": "python",
   "name": "python3"
  },
  "language_info": {
   "codemirror_mode": {
    "name": "ipython",
    "version": 3
   },
   "file_extension": ".py",
   "mimetype": "text/x-python",
   "name": "python",
   "nbconvert_exporter": "python",
   "pygments_lexer": "ipython3",
   "version": "3.10.6"
  }
 },
 "nbformat": 4,
 "nbformat_minor": 2
}
