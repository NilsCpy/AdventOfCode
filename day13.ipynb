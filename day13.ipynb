{
 "cells": [
  {
   "cell_type": "code",
   "execution_count": 76,
   "metadata": {},
   "outputs": [],
   "source": [
    "import numpy as np"
   ]
  },
  {
   "cell_type": "code",
   "execution_count": 77,
   "metadata": {},
   "outputs": [],
   "source": [
    "data = open('data/day13.txt', 'r').read()"
   ]
  },
  {
   "cell_type": "code",
   "execution_count": 78,
   "metadata": {},
   "outputs": [],
   "source": [
    "data_test = open('other/day13_test.txt', 'r').read()"
   ]
  },
  {
   "cell_type": "code",
   "execution_count": 79,
   "metadata": {},
   "outputs": [],
   "source": [
    "def get_data(texte):\n",
    "    split_0 = texte.split('\\n')\n",
    "    XA, YA = [int(elem.split('+')[1]) for elem in split_0[0].split(',')]\n",
    "    XB, YB = [int(elem.split('+')[1]) for elem in split_0[1].split(',')]\n",
    "    XP, YP = [int(elem.split('=')[1]) for elem in split_0[2].split(',')]\n",
    "    return XA, YA, XB, YB, XP, YP"
   ]
  },
  {
   "cell_type": "code",
   "execution_count": 80,
   "metadata": {},
   "outputs": [],
   "source": [
    "def get_price(line, add = 0):\n",
    "    a, b, c, d, e, f = line\n",
    "    A = np.array([[a, c],[b, d]])\n",
    "    Y = np.array([[e+add, f+add]])\n",
    "    A_inv = np.linalg.inv(A)\n",
    "    X = A_inv @ Y.T\n",
    "    a = round(X[0, 0], 2)\n",
    "    b = round(X[1, 0], 2)\n",
    "    if a.is_integer() and b.is_integer():\n",
    "        return int(3*a+b)\n",
    "    return 0"
   ]
  },
  {
   "cell_type": "code",
   "execution_count": 81,
   "metadata": {},
   "outputs": [
    {
     "data": {
      "text/plain": [
       "480"
      ]
     },
     "execution_count": 81,
     "metadata": {},
     "output_type": "execute_result"
    }
   ],
   "source": [
    "sum([get_price(get_data(elem)) for elem in data_test.split('\\n\\n')])"
   ]
  },
  {
   "cell_type": "code",
   "execution_count": 82,
   "metadata": {},
   "outputs": [
    {
     "data": {
      "text/plain": [
       "37680"
      ]
     },
     "execution_count": 82,
     "metadata": {},
     "output_type": "execute_result"
    }
   ],
   "source": [
    "sum([get_price(get_data(elem)) for elem in data.split('\\n\\n')])"
   ]
  },
  {
   "cell_type": "code",
   "execution_count": 83,
   "metadata": {},
   "outputs": [
    {
     "data": {
      "text/plain": [
       "87550094242995"
      ]
     },
     "execution_count": 83,
     "metadata": {},
     "output_type": "execute_result"
    }
   ],
   "source": [
    "sum([get_price(get_data(elem), 10000000000000) for elem in data.split('\\n\\n')])"
   ]
  }
 ],
 "metadata": {
  "kernelspec": {
   "display_name": "env_perso",
   "language": "python",
   "name": "python3"
  },
  "language_info": {
   "codemirror_mode": {
    "name": "ipython",
    "version": 3
   },
   "file_extension": ".py",
   "mimetype": "text/x-python",
   "name": "python",
   "nbconvert_exporter": "python",
   "pygments_lexer": "ipython3",
   "version": "3.10.6"
  }
 },
 "nbformat": 4,
 "nbformat_minor": 2
}
