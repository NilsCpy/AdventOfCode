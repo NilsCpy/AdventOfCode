{
 "cells": [
  {
   "cell_type": "code",
   "execution_count": 118,
   "metadata": {},
   "outputs": [],
   "source": [
    "import numpy as np"
   ]
  },
  {
   "cell_type": "code",
   "execution_count": 119,
   "metadata": {},
   "outputs": [],
   "source": [
    "data = open('data/day8.txt', 'r').read()\n",
    "\n",
    "data_arr = np.zeros((50, 50)).astype(str)\n",
    "for index, line in enumerate(data.split('\\n')[:-1]):\n",
    "    data_arr[index] = list(line)"
   ]
  },
  {
   "cell_type": "code",
   "execution_count": 120,
   "metadata": {},
   "outputs": [],
   "source": [
    "data_test = open('other/day8_test.txt', 'r').read()\n",
    "\n",
    "data_arr_test = np.zeros((12, 12)).astype(str)\n",
    "for index, line in enumerate(data_test.split('\\n')[:-1]):\n",
    "    data_arr_test[index] = list(line)"
   ]
  },
  {
   "cell_type": "code",
   "execution_count": null,
   "metadata": {},
   "outputs": [
    {
     "data": {
      "text/plain": [
       "359"
      ]
     },
     "execution_count": 121,
     "metadata": {},
     "output_type": "execute_result"
    }
   ],
   "source": [
    "arr = data_arr.copy()\n",
    "ind_max = len(arr)-1\n",
    "\n",
    "list_char = list(np.unique(arr))\n",
    "list_char.remove('.')\n",
    "\n",
    "symmetrics = []\n",
    "\n",
    "for char in list_char:\n",
    "    coords = list(np.argwhere(arr == char))\n",
    "    for index, coord in enumerate(coords):\n",
    "        other_coords = coords[:index] + coords[index+1:]\n",
    "        for other_coord in other_coords:\n",
    "            lin, col = 2*coord[0] - other_coord[0], 2*coord[1] - other_coord[1]\n",
    "            if 0<=lin<=ind_max and 0<=col<=ind_max:\n",
    "                symmetrics.append((lin, col))\n",
    "\n",
    "len(list(set(symmetrics)))"
   ]
  },
  {
   "cell_type": "code",
   "execution_count": null,
   "metadata": {},
   "outputs": [
    {
     "data": {
      "text/plain": [
       "1293"
      ]
     },
     "execution_count": 122,
     "metadata": {},
     "output_type": "execute_result"
    }
   ],
   "source": [
    "arr = data_arr.copy()\n",
    "ind_max = len(arr)-1\n",
    "\n",
    "list_char = list(np.unique(arr))\n",
    "list_char.remove('.')\n",
    "\n",
    "symmetrics = []\n",
    "\n",
    "for char in list_char:\n",
    "    coords = list(np.argwhere(arr == char))\n",
    "    for index, coord in enumerate(coords):\n",
    "        other_coords = coords[:index] + coords[index+1:]\n",
    "        for other_coord in other_coords:\n",
    "            lin, col = 2*coord[0] - other_coord[0], 2*coord[1] - other_coord[1]\n",
    "            dir_lin, dir_col = lin - coord[0] , col - coord[1]\n",
    "            while 0<=lin<=ind_max and 0<=col<=ind_max:\n",
    "                symmetrics.append((lin, col))\n",
    "                lin, col = lin+dir_lin, col+dir_col\n",
    "\n",
    "\n",
    "for elem in list(set(symmetrics)):\n",
    "    if arr[elem[0]][elem[1]] == '.':\n",
    "        arr[elem[0]][elem[1]] = '#'\n",
    "\n",
    "len(arr)**2 - len(np.argwhere(arr == '.'))"
   ]
  }
 ],
 "metadata": {
  "kernelspec": {
   "display_name": "env_perso",
   "language": "python",
   "name": "python3"
  },
  "language_info": {
   "codemirror_mode": {
    "name": "ipython",
    "version": 3
   },
   "file_extension": ".py",
   "mimetype": "text/x-python",
   "name": "python",
   "nbconvert_exporter": "python",
   "pygments_lexer": "ipython3",
   "version": "3.10.6"
  }
 },
 "nbformat": 4,
 "nbformat_minor": 2
}
