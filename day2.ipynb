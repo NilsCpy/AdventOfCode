{
 "cells": [
  {
   "cell_type": "code",
   "execution_count": null,
   "metadata": {},
   "outputs": [],
   "source": [
    "import pandas as pd"
   ]
  },
  {
   "cell_type": "code",
   "execution_count": 2,
   "metadata": {},
   "outputs": [],
   "source": [
    "data = pd.read_csv('data/day2.csv', header = None)"
   ]
  },
  {
   "cell_type": "code",
   "execution_count": 3,
   "metadata": {},
   "outputs": [
    {
     "data": {
      "text/plain": [
       "639"
      ]
     },
     "execution_count": 3,
     "metadata": {},
     "output_type": "execute_result"
    }
   ],
   "source": [
    "step_1 = lambda x:set(pd.Series([int(elem) for elem in x.split(' ')]).diff()[1:].astype(int)).issubset({1, 2, 3}) or set(pd.Series([int(elem) for elem in x.split(' ')]).diff()[1:].astype(int)).issubset({-1, -2, -3})\n",
    "data[0].apply(step_1).astype(int).sum()"
   ]
  },
  {
   "cell_type": "code",
   "execution_count": 4,
   "metadata": {},
   "outputs": [
    {
     "data": {
      "text/plain": [
       "674"
      ]
     },
     "execution_count": 4,
     "metadata": {},
     "output_type": "execute_result"
    }
   ],
   "source": [
    "step_2 = lambda x:[step_1(y) for y in [' '.join(x.split(' ')[:i]+x.split(' ')[i+1:]) for i in range(len(x.split(' ')))]].count(True) >= 1\n",
    "data[0].apply(step_2).astype(int).sum()"
   ]
  }
 ],
 "metadata": {
  "kernelspec": {
   "display_name": "env_perso",
   "language": "python",
   "name": "python3"
  },
  "language_info": {
   "codemirror_mode": {
    "name": "ipython",
    "version": 3
   },
   "file_extension": ".py",
   "mimetype": "text/x-python",
   "name": "python",
   "nbconvert_exporter": "python",
   "pygments_lexer": "ipython3",
   "version": "3.10.6"
  }
 },
 "nbformat": 4,
 "nbformat_minor": 2
}
