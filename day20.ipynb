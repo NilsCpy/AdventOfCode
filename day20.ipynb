{
 "cells": [
  {
   "cell_type": "code",
   "execution_count": 1,
   "metadata": {},
   "outputs": [
    {
     "name": "stdout",
     "output_type": "stream",
     "text": [
      "3000\n"
     ]
    }
   ],
   "source": [
    "import numpy as np\n",
    "\n",
    "import sys\n",
    "print(sys.getrecursionlimit())\n",
    "sys.setrecursionlimit(10000)"
   ]
  },
  {
   "cell_type": "code",
   "execution_count": 14,
   "metadata": {},
   "outputs": [],
   "source": [
    "class Day20():\n",
    "\n",
    "    def __init__(self, data_link):\n",
    "        self.data_flat = open(data_link, 'r').read().split('\\n')[:-1]\n",
    "        self.board = np.array([[elem for elem in line] for line in self.data_flat], dtype = '<U8')\n",
    "        self.start = np.argwhere(self.board == 'S')[0]\n",
    "        self.end = np.argwhere(self.board == 'E')[0]\n",
    "        self.directions = [(0, 1), (1, 0), (0, -1), (-1, 0)]\n",
    "\n",
    "    def __str__(self):\n",
    "        return '\\n'.join([''.join(list(line)) for line in self.board])\n",
    "\n",
    "    def sum_tuple(self, tuple_a, tuple_b):\n",
    "        return tuple([tuple_a[index] + tuple_b[index] for index in range(len(tuple_a))]) if len(tuple_a)==len(tuple_b) else False\n",
    "\n",
    "    def get_neighbours(self, pos):\n",
    "        if pos[0] in [0, len(self.board)-1] or pos[1] in [0, len(self.board)-1]:\n",
    "            return []\n",
    "        return [self.sum_tuple(pos, direction) for direction in self.directions if self.board[self.sum_tuple(pos, direction)] in ['E', '.']]\n",
    "\n",
    "    def solve(self, pos = None, dist = 0):\n",
    "        if not pos:\n",
    "            pos = tuple(self.start)\n",
    "        if self.board[pos] == 'E':\n",
    "            self.board[pos] = 0\n",
    "            return 0\n",
    "        self.board[pos] = 'x'\n",
    "        for neigh in self.get_neighbours(pos):\n",
    "            dist = 1 + self.solve(neigh)\n",
    "        self.board[pos] = dist\n",
    "        return dist\n",
    "\n",
    "    def get_walls(self):\n",
    "        return [wall for wall in np.argwhere(self.board == '#') if len(self.get_neighbours(wall)) >= 2]"
   ]
  },
  {
   "cell_type": "code",
   "execution_count": 15,
   "metadata": {},
   "outputs": [
    {
     "name": "stdout",
     "output_type": "stream",
     "text": [
      "###############\n",
      "#...#...#.....#\n",
      "#.#.#.#.#.###.#\n",
      "#S#...#.#.#...#\n",
      "#######.#.#.###\n",
      "#######.#.#...#\n",
      "#######.#.###.#\n",
      "###..E#...#...#\n",
      "###.#######.###\n",
      "#...###...#...#\n",
      "#.#####.#.###.#\n",
      "#.#...#.#.#...#\n",
      "#.#.#.#.#.#.###\n",
      "#...#...#...###\n",
      "###############\n"
     ]
    },
    {
     "data": {
      "text/plain": [
       "(array([3, 1]), array([7, 5]))"
      ]
     },
     "execution_count": 15,
     "metadata": {},
     "output_type": "execute_result"
    }
   ],
   "source": [
    "day20_test = Day20('other/day20_test.txt')\n",
    "print(day20_test)\n",
    "day20_test.start, day20_test.end"
   ]
  },
  {
   "cell_type": "code",
   "execution_count": 16,
   "metadata": {},
   "outputs": [
    {
     "data": {
      "text/plain": [
       "[array([1, 4]),\n",
       " array([1, 8]),\n",
       " array([2, 2]),\n",
       " array([2, 4]),\n",
       " array([2, 6]),\n",
       " array([2, 8]),\n",
       " array([ 2, 10]),\n",
       " array([ 2, 11]),\n",
       " array([ 2, 12]),\n",
       " array([3, 6]),\n",
       " array([3, 8]),\n",
       " array([ 3, 10]),\n",
       " array([4, 8]),\n",
       " array([ 4, 10]),\n",
       " array([ 4, 12]),\n",
       " array([ 4, 13]),\n",
       " array([5, 8]),\n",
       " array([ 5, 10]),\n",
       " array([6, 8]),\n",
       " array([ 6, 11]),\n",
       " array([ 6, 12]),\n",
       " array([7, 6]),\n",
       " array([ 7, 10]),\n",
       " array([8, 2]),\n",
       " array([8, 4]),\n",
       " array([8, 7]),\n",
       " array([8, 8]),\n",
       " array([8, 9]),\n",
       " array([ 8, 12]),\n",
       " array([ 8, 13]),\n",
       " array([ 9, 10]),\n",
       " array([10,  2]),\n",
       " array([10,  3]),\n",
       " array([10,  8]),\n",
       " array([10, 11]),\n",
       " array([10, 12]),\n",
       " array([11,  2]),\n",
       " array([11,  6]),\n",
       " array([11,  8]),\n",
       " array([11, 10]),\n",
       " array([12,  2]),\n",
       " array([12,  4]),\n",
       " array([12,  6]),\n",
       " array([12,  8]),\n",
       " array([12, 10]),\n",
       " array([12, 12]),\n",
       " array([13,  4]),\n",
       " array([13,  8])]"
      ]
     },
     "execution_count": 16,
     "metadata": {},
     "output_type": "execute_result"
    }
   ],
   "source": [
    "day20_test.get_walls()"
   ]
  },
  {
   "cell_type": "code",
   "execution_count": 138,
   "metadata": {},
   "outputs": [
    {
     "name": "stdout",
     "output_type": "stream",
     "text": [
      "9379\n",
      "9380\n",
      "0\n"
     ]
    }
   ],
   "source": [
    "day20 = Day20('data/day20.txt')\n",
    "print(len(np.argwhere(day20.board == '.')))\n",
    "print(day20.solve())\n",
    "print(len(np.argwhere(day20.board == '.')))"
   ]
  },
  {
   "cell_type": "code",
   "execution_count": null,
   "metadata": {},
   "outputs": [],
   "source": []
  }
 ],
 "metadata": {
  "kernelspec": {
   "display_name": "env_perso",
   "language": "python",
   "name": "python3"
  },
  "language_info": {
   "codemirror_mode": {
    "name": "ipython",
    "version": 3
   },
   "file_extension": ".py",
   "mimetype": "text/x-python",
   "name": "python",
   "nbconvert_exporter": "python",
   "pygments_lexer": "ipython3",
   "version": "3.10.6"
  }
 },
 "nbformat": 4,
 "nbformat_minor": 2
}
