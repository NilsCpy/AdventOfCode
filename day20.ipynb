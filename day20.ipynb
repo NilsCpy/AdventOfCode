{
 "cells": [
  {
   "cell_type": "code",
   "execution_count": 300,
   "metadata": {},
   "outputs": [
    {
     "name": "stdout",
     "output_type": "stream",
     "text": [
      "10000\n"
     ]
    }
   ],
   "source": [
    "import numpy as np\n",
    "\n",
    "import sys\n",
    "print(sys.getrecursionlimit())\n",
    "sys.setrecursionlimit(10000)"
   ]
  },
  {
   "cell_type": "code",
   "execution_count": 301,
   "metadata": {},
   "outputs": [],
   "source": [
    "class Day20():\n",
    "\n",
    "    def __init__(self, data_link):\n",
    "        self.data_flat = open(data_link, 'r').read().split('\\n')[:-1]\n",
    "        self.board = np.array([[elem for elem in line] for line in self.data_flat], dtype = '<U8')\n",
    "        self.start = np.argwhere(self.board == 'S')[0]\n",
    "        self.end = np.argwhere(self.board == 'E')[0]\n",
    "        self.directions = [(0, 1), (1, 0), (0, -1), (-1, 0)]\n",
    "\n",
    "    def __str__(self):\n",
    "        return '\\n'.join([''.join(list(line)) for line in self.board])\n",
    "\n",
    "    def sum_tuple(self, tuple_a, tuple_b):\n",
    "        return tuple([tuple_a[index] + tuple_b[index] for index in range(len(tuple_a))]) if len(tuple_a)==len(tuple_b) else False\n",
    "\n",
    "    def get_neighbours(self, pos):\n",
    "        if pos[0] in [0, len(self.board)-1] or pos[1] in [0, len(self.board)-1]:\n",
    "            return []\n",
    "        return [self.sum_tuple(pos, direction) for direction in self.directions if self.board[self.sum_tuple(pos, direction)] in ['E', '.']]\n",
    "\n",
    "    def solve(self, pos = None, dist = 0):\n",
    "        if not pos:\n",
    "            pos = tuple(self.start)\n",
    "        if self.board[pos] == 'E':\n",
    "            self.board[pos] = 0\n",
    "            return 0\n",
    "        self.board[pos] = 'x'\n",
    "        for neigh in self.get_neighbours(pos):\n",
    "            dist = 1 + self.solve(neigh)\n",
    "        self.board[pos] = dist\n",
    "        return dist\n",
    "\n",
    "    def get_walls(self):\n",
    "        return [tuple(wall) for wall in np.argwhere(self.board == '#') if len(self.get_neighbours(wall)) >= 2]\n",
    "\n",
    "    def solve_cheating(self, pos_wall):\n",
    "        neighs = [int(self.board[self.sum_tuple(pos_wall, direction)]) for direction in self.directions if (self.board[self.sum_tuple(pos_wall, direction)]).isnumeric()]\n",
    "        return max(neighs)-min(neighs)-2\n",
    "\n",
    "    def main(self):\n",
    "        self.board[tuple(self.start)] = '.'\n",
    "        walls = self.get_walls()\n",
    "        self.solve()\n",
    "\n",
    "        # -> To get all cheats :\n",
    "        # result = {}\n",
    "        # for wall in walls:\n",
    "        #     result[self.solve_cheating(wall)] = result.get(self.solve_cheating(wall), 0) +1\n",
    "        #     if self.solve_cheating(wall) == 4:\n",
    "        #         print(wall)\n",
    "        # return result\n",
    "\n",
    "        return len([wall for wall in walls if self.solve_cheating(wall) >= 100])\n",
    "\n",
    "    def get_far_neighs(self, pos, dist = 20):\n",
    "        result = []\n",
    "        x, y = pos\n",
    "        for d in range(dist+1):\n",
    "            for a in range(0, d+1):\n",
    "                if x+a < len(self.board) and y+d-a < len(self.board[0]):\n",
    "                    result.append((x+a, y+d-a))\n",
    "                if x-a >= 0 and y+d-a < len(self.board[0]):\n",
    "                    result.append((x-a, y+d-a))\n",
    "                if x+a < len(self.board) and y+a-d >= 0:\n",
    "                    result.append((x+a, y+a-d))\n",
    "                if x-a >= 0 and y+a-d >= 0:\n",
    "                    result.append((x-a, y+a-d))\n",
    "        return [elem for elem in list(set(result)) if self.board[elem].isnumeric()]\n",
    "\n",
    "    def get_dist_cheated(self, pos):\n",
    "        far_neighs = self.get_far_neighs(pos)\n",
    "        result = []\n",
    "        for neigh in far_neighs:\n",
    "            dist = abs(pos[0] - neigh[0]) + abs(pos[1] - neigh[1])\n",
    "            if int(self.board[pos]) - dist > int(self.board[neigh]):\n",
    "                result.append(int(self.board[pos]) - int(self.board[neigh]) - dist)\n",
    "        return result\n",
    "\n",
    "    def main_2(self, dist_max = 100):\n",
    "        self.board[tuple(self.start)] = '.'\n",
    "        positions = np.argwhere(self.board == '.')\n",
    "        self.solve()\n",
    "        result = {}\n",
    "        total = 0\n",
    "        for elem in positions:\n",
    "            cheats = self.get_dist_cheated(tuple(elem))\n",
    "            for cheat in cheats:\n",
    "                result[cheat] = result.get(cheat, 0) +1\n",
    "                if cheat >= dist_max:\n",
    "                    total += 1\n",
    "        return total\n"
   ]
  },
  {
   "cell_type": "code",
   "execution_count": 302,
   "metadata": {},
   "outputs": [
    {
     "name": "stdout",
     "output_type": "stream",
     "text": [
      "###############\n",
      "#...#...#.....#\n",
      "#.#.#.#.#.###.#\n",
      "#S#...#.#.#...#\n",
      "#######.#.#.###\n",
      "#######.#.#...#\n",
      "#######.#.###.#\n",
      "###..E#...#...#\n",
      "###.#######.###\n",
      "#...###...#...#\n",
      "#.#####.#.###.#\n",
      "#.#...#.#.#...#\n",
      "#.#.#.#.#.#.###\n",
      "#...#...#...###\n",
      "###############\n"
     ]
    }
   ],
   "source": [
    "day20_test = Day20('other/day20_test.txt')\n",
    "print(day20_test)"
   ]
  },
  {
   "cell_type": "code",
   "execution_count": 303,
   "metadata": {},
   "outputs": [
    {
     "data": {
      "text/plain": [
       "1317"
      ]
     },
     "execution_count": 303,
     "metadata": {},
     "output_type": "execute_result"
    }
   ],
   "source": [
    "day20 = Day20('data/day20.txt')\n",
    "day20.main()"
   ]
  },
  {
   "cell_type": "code",
   "execution_count": 304,
   "metadata": {},
   "outputs": [
    {
     "data": {
      "text/plain": [
       "285"
      ]
     },
     "execution_count": 304,
     "metadata": {},
     "output_type": "execute_result"
    }
   ],
   "source": [
    "day20_test = Day20('other/day20_test.txt')\n",
    "day20_test.main_2(50)"
   ]
  },
  {
   "cell_type": "code",
   "execution_count": 305,
   "metadata": {},
   "outputs": [
    {
     "data": {
      "text/plain": [
       "982474"
      ]
     },
     "execution_count": 305,
     "metadata": {},
     "output_type": "execute_result"
    }
   ],
   "source": [
    "day20 = Day20('data/day20.txt')\n",
    "day20.main_2()"
   ]
  }
 ],
 "metadata": {
  "kernelspec": {
   "display_name": "env_perso",
   "language": "python",
   "name": "python3"
  },
  "language_info": {
   "codemirror_mode": {
    "name": "ipython",
    "version": 3
   },
   "file_extension": ".py",
   "mimetype": "text/x-python",
   "name": "python",
   "nbconvert_exporter": "python",
   "pygments_lexer": "ipython3",
   "version": "3.10.6"
  }
 },
 "nbformat": 4,
 "nbformat_minor": 2
}
