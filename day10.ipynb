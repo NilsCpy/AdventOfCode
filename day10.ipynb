{
 "cells": [
  {
   "cell_type": "code",
   "execution_count": 85,
   "metadata": {},
   "outputs": [],
   "source": [
    "import numpy as np"
   ]
  },
  {
   "cell_type": "code",
   "execution_count": 86,
   "metadata": {},
   "outputs": [],
   "source": [
    "data = open('data/day10.txt', 'r').read()\n",
    "\n",
    "data_arr = np.zeros((50, 50)).astype(str)\n",
    "for index, line in enumerate(data.split('\\n')[:-1]):\n",
    "    data_arr[index] = list(line)"
   ]
  },
  {
   "cell_type": "code",
   "execution_count": 87,
   "metadata": {},
   "outputs": [],
   "source": [
    "data_test = open('other/day10_test.txt', 'r').read()\n",
    "\n",
    "data_test_arr = np.zeros((8, 8)).astype(str)\n",
    "for index, line in enumerate(data_test.split('\\n')[:-1]):\n",
    "    data_test_arr[index] = list(line)"
   ]
  },
  {
   "cell_type": "code",
   "execution_count": 88,
   "metadata": {},
   "outputs": [
    {
     "data": {
      "text/plain": [
       "array([['8', '9', '0', '1', '0', '1', '2', '3'],\n",
       "       ['7', '8', '1', '2', '1', '8', '7', '4'],\n",
       "       ['8', '7', '4', '3', '0', '9', '6', '5'],\n",
       "       ['9', '6', '5', '4', '9', '8', '7', '4'],\n",
       "       ['4', '5', '6', '7', '8', '9', '0', '3'],\n",
       "       ['3', '2', '0', '1', '9', '0', '1', '2'],\n",
       "       ['0', '1', '3', '2', '9', '8', '0', '1'],\n",
       "       ['1', '0', '4', '5', '6', '7', '3', '2']], dtype='<U32')"
      ]
     },
     "execution_count": 88,
     "metadata": {},
     "output_type": "execute_result"
    }
   ],
   "source": [
    "data_test_arr"
   ]
  },
  {
   "cell_type": "code",
   "execution_count": 89,
   "metadata": {},
   "outputs": [],
   "source": [
    "def get_neighbours(data, x, y):\n",
    "    l = len(data)-1\n",
    "    result = []\n",
    "    if x != 0:\n",
    "        result.append((x-1, y))\n",
    "    if x != l:\n",
    "        result.append((x+1, y))\n",
    "    if y != 0:\n",
    "        result.append((x, y-1))\n",
    "    if y != l:\n",
    "        result.append((x, y+1))\n",
    "    # print('result :', result)\n",
    "    return result"
   ]
  },
  {
   "cell_type": "code",
   "execution_count": 90,
   "metadata": {},
   "outputs": [],
   "source": [
    "def get_score(data, x, y, value, nines):\n",
    "    # print(x, y, value)\n",
    "    score = 0\n",
    "    if value == '9':\n",
    "        if (x, y) in nines:\n",
    "            return 0, (x, y)\n",
    "        return 1, (x, y)\n",
    "    neighbours = get_neighbours(data, x, y)\n",
    "    for neighbour in neighbours:\n",
    "        # print('x, y :', x, y, ', neighbour :', neighbour)\n",
    "        i, j = neighbour\n",
    "        if int(data[i][j]) == int(data[x][y]) + 1:\n",
    "            new_score, new_nine = get_score(data, i, j, data[i][j], nines)\n",
    "            nines.append(new_nine)\n",
    "            score = score + new_score\n",
    "    return score, (x, y)\n"
   ]
  },
  {
   "cell_type": "code",
   "execution_count": 91,
   "metadata": {},
   "outputs": [
    {
     "data": {
      "text/plain": [
       "array([['8', '9', '0', '1', '0', '1', '2', '3'],\n",
       "       ['7', '8', '1', '2', '1', '8', '7', '4'],\n",
       "       ['8', '7', '4', '3', '0', '9', '6', '5'],\n",
       "       ['9', '6', '5', '4', '9', '8', '7', '4'],\n",
       "       ['4', '5', '6', '7', '8', '9', '0', '3'],\n",
       "       ['3', '2', '0', '1', '9', '0', '1', '2'],\n",
       "       ['0', '1', '3', '2', '9', '8', '0', '1'],\n",
       "       ['1', '0', '4', '5', '6', '7', '3', '2']], dtype='<U32')"
      ]
     },
     "execution_count": 91,
     "metadata": {},
     "output_type": "execute_result"
    }
   ],
   "source": [
    "data_test_arr"
   ]
  },
  {
   "cell_type": "code",
   "execution_count": 92,
   "metadata": {},
   "outputs": [
    {
     "data": {
      "text/plain": [
       "(6, (0, 4))"
      ]
     },
     "execution_count": 92,
     "metadata": {},
     "output_type": "execute_result"
    }
   ],
   "source": [
    "get_score(data_test_arr, 0, 4, '0', [])"
   ]
  },
  {
   "cell_type": "code",
   "execution_count": 93,
   "metadata": {},
   "outputs": [],
   "source": [
    "def get_hiking(data):\n",
    "    score = 0\n",
    "    for lin in range(len(data)):\n",
    "        for col in range(len(data)):\n",
    "            if data[lin][col] == '0':\n",
    "                score += get_score(data, lin, col, '0', [])[0]\n",
    "    return score"
   ]
  },
  {
   "cell_type": "code",
   "execution_count": 94,
   "metadata": {},
   "outputs": [
    {
     "data": {
      "text/plain": [
       "36"
      ]
     },
     "execution_count": 94,
     "metadata": {},
     "output_type": "execute_result"
    }
   ],
   "source": [
    "get_hiking(data_test_arr)"
   ]
  },
  {
   "cell_type": "code",
   "execution_count": 95,
   "metadata": {},
   "outputs": [
    {
     "data": {
      "text/plain": [
       "638"
      ]
     },
     "execution_count": 95,
     "metadata": {},
     "output_type": "execute_result"
    }
   ],
   "source": [
    "get_hiking(data_arr)"
   ]
  },
  {
   "cell_type": "code",
   "execution_count": 96,
   "metadata": {},
   "outputs": [],
   "source": [
    "def get_score_2(data, x, y, value):\n",
    "    # print(x, y, value)\n",
    "    score = 0\n",
    "    if value == '9':\n",
    "        return 1\n",
    "    neighbours = get_neighbours(data, x, y)\n",
    "    for neighbour in neighbours:\n",
    "        i, j = neighbour\n",
    "        if int(data[i][j]) == int(data[x][y]) + 1:\n",
    "            new_score = get_score_2(data, i, j, data[i][j])\n",
    "            score = score + new_score\n",
    "    return score\n"
   ]
  },
  {
   "cell_type": "code",
   "execution_count": 97,
   "metadata": {},
   "outputs": [],
   "source": [
    "def get_hiking_2(data):\n",
    "    score = 0\n",
    "    for lin in range(len(data)):\n",
    "        for col in range(len(data)):\n",
    "            if data[lin][col] == '0':\n",
    "                score += get_score_2(data, lin, col, '0')\n",
    "    return score"
   ]
  },
  {
   "cell_type": "code",
   "execution_count": 98,
   "metadata": {},
   "outputs": [
    {
     "data": {
      "text/plain": [
       "81"
      ]
     },
     "execution_count": 98,
     "metadata": {},
     "output_type": "execute_result"
    }
   ],
   "source": [
    "get_hiking_2(data_test_arr)"
   ]
  },
  {
   "cell_type": "code",
   "execution_count": 99,
   "metadata": {},
   "outputs": [
    {
     "data": {
      "text/plain": [
       "1289"
      ]
     },
     "execution_count": 99,
     "metadata": {},
     "output_type": "execute_result"
    }
   ],
   "source": [
    "get_hiking_2(data_arr)"
   ]
  },
  {
   "cell_type": "code",
   "execution_count": null,
   "metadata": {},
   "outputs": [],
   "source": []
  }
 ],
 "metadata": {
  "kernelspec": {
   "display_name": "env_perso",
   "language": "python",
   "name": "python3"
  },
  "language_info": {
   "codemirror_mode": {
    "name": "ipython",
    "version": 3
   },
   "file_extension": ".py",
   "mimetype": "text/x-python",
   "name": "python",
   "nbconvert_exporter": "python",
   "pygments_lexer": "ipython3",
   "version": "3.10.6"
  }
 },
 "nbformat": 4,
 "nbformat_minor": 2
}
