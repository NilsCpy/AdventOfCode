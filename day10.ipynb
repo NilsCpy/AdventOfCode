{
 "cells": [
  {
   "cell_type": "code",
   "execution_count": 1,
   "metadata": {},
   "outputs": [],
   "source": [
    "import numpy as np"
   ]
  },
  {
   "cell_type": "code",
   "execution_count": 2,
   "metadata": {},
   "outputs": [],
   "source": [
    "data = open('data/day10.txt', 'r').read()\n",
    "\n",
    "data_arr = np.zeros((50, 50)).astype(str)\n",
    "for index, line in enumerate(data.split('\\n')[:-1]):\n",
    "    data_arr[index] = list(line)"
   ]
  },
  {
   "cell_type": "code",
   "execution_count": 5,
   "metadata": {},
   "outputs": [],
   "source": [
    "data_test = open('other/day10_test.txt', 'r').read()\n",
    "\n",
    "data_test_arr = np.zeros((8, 8)).astype(str)\n",
    "for index, line in enumerate(data_test.split('\\n')[:-1]):\n",
    "    data_test_arr[index] = list(line)"
   ]
  },
  {
   "cell_type": "code",
   "execution_count": 6,
   "metadata": {},
   "outputs": [
    {
     "data": {
      "text/plain": [
       "array([['8', '9', '0', '1', '0', '1', '2', '3'],\n",
       "       ['7', '8', '1', '2', '1', '8', '7', '4'],\n",
       "       ['8', '7', '4', '3', '0', '9', '6', '5'],\n",
       "       ['9', '6', '5', '4', '9', '8', '7', '4'],\n",
       "       ['4', '5', '6', '7', '8', '9', '0', '3'],\n",
       "       ['3', '2', '0', '1', '9', '0', '1', '2'],\n",
       "       ['0', '1', '3', '2', '9', '8', '0', '1'],\n",
       "       ['1', '0', '4', '5', '6', '7', '3', '2']], dtype='<U32')"
      ]
     },
     "execution_count": 6,
     "metadata": {},
     "output_type": "execute_result"
    }
   ],
   "source": [
    "data_test_arr"
   ]
  },
  {
   "cell_type": "code",
   "execution_count": 9,
   "metadata": {},
   "outputs": [],
   "source": [
    "def get_neighbours(data, x, y):\n",
    "    l = len(data)\n",
    "    result = []\n",
    "    if x != 0:\n",
    "        result.append((x-1, y))\n",
    "    if x != l:\n",
    "        result.append((x+1, y))\n",
    "    if y != 0:\n",
    "        result.append((x, y-1))\n",
    "    if y != l:\n",
    "        result.append((x, y+1))\n",
    "    return result"
   ]
  },
  {
   "cell_type": "code",
   "execution_count": null,
   "metadata": {},
   "outputs": [],
   "source": [
    "def get_score(data, x, y, value):\n",
    "    print(x, y, value)\n",
    "    score = 0\n",
    "    neighbours = get_neighbours(data, x, y)\n",
    "    for neighbour in neighbours:\n",
    "        print(neighbour)\n",
    "        i, j = neighbour\n",
    "        if value == '8' and data[i][j] == '9':\n",
    "            print('yes')\n",
    "            return score + 1\n",
    "        if int(data[i][j]) == int(data[x][y]) + 1:\n",
    "            return score + get_score(data, i, j, data[i][j])\n",
    "    return score\n"
   ]
  },
  {
   "cell_type": "code",
   "execution_count": 32,
   "metadata": {},
   "outputs": [
    {
     "data": {
      "text/plain": [
       "array([['8', '9', '0', '1', '0', '1', '2', '3'],\n",
       "       ['7', '8', '1', '2', '1', '8', '7', '4'],\n",
       "       ['8', '7', '4', '3', '0', '9', '6', '5'],\n",
       "       ['9', '6', '5', '4', '9', '8', '7', '4'],\n",
       "       ['4', '5', '6', '7', '8', '9', '0', '3'],\n",
       "       ['3', '2', '0', '1', '9', '0', '1', '2'],\n",
       "       ['0', '1', '3', '2', '9', '8', '0', '1'],\n",
       "       ['1', '0', '4', '5', '6', '7', '3', '2']], dtype='<U32')"
      ]
     },
     "execution_count": 32,
     "metadata": {},
     "output_type": "execute_result"
    }
   ],
   "source": [
    "data_test_arr"
   ]
  },
  {
   "cell_type": "code",
   "execution_count": 33,
   "metadata": {},
   "outputs": [
    {
     "name": "stdout",
     "output_type": "stream",
     "text": [
      "0 2 0\n",
      "(1, 2)\n",
      "1 2 1\n",
      "(0, 2)\n",
      "(2, 2)\n",
      "(1, 1)\n",
      "(1, 3)\n",
      "1 3 2\n",
      "(0, 3)\n",
      "(2, 3)\n",
      "2 3 3\n",
      "(1, 3)\n",
      "(3, 3)\n",
      "3 3 4\n",
      "(2, 3)\n",
      "(4, 3)\n",
      "(3, 2)\n",
      "3 2 5\n",
      "(2, 2)\n",
      "(4, 2)\n",
      "4 2 6\n",
      "(3, 2)\n",
      "(5, 2)\n",
      "(4, 1)\n",
      "(4, 3)\n",
      "4 3 7\n",
      "(3, 3)\n",
      "(5, 3)\n",
      "(4, 2)\n",
      "(4, 4)\n",
      "4 4 8\n",
      "(3, 4)\n",
      "yes\n"
     ]
    },
    {
     "data": {
      "text/plain": [
       "1"
      ]
     },
     "execution_count": 33,
     "metadata": {},
     "output_type": "execute_result"
    }
   ],
   "source": [
    "get_score(data_test_arr, 0, 2, '0')"
   ]
  },
  {
   "cell_type": "code",
   "execution_count": null,
   "metadata": {},
   "outputs": [],
   "source": [
    "def get_hiking(data):\n",
    "    score = 0\n",
    "    for lin in range(len(data)):\n",
    "        for col in range(len(data[line])):\n",
    "            if data[line][col] == '0':\n",
    "                score += get_score(data, lin, col, '0')\n",
    "    return score"
   ]
  },
  {
   "cell_type": "code",
   "execution_count": null,
   "metadata": {},
   "outputs": [],
   "source": []
  }
 ],
 "metadata": {
  "kernelspec": {
   "display_name": "env_perso",
   "language": "python",
   "name": "python3"
  },
  "language_info": {
   "codemirror_mode": {
    "name": "ipython",
    "version": 3
   },
   "file_extension": ".py",
   "mimetype": "text/x-python",
   "name": "python",
   "nbconvert_exporter": "python",
   "pygments_lexer": "ipython3",
   "version": "3.10.6"
  }
 },
 "nbformat": 4,
 "nbformat_minor": 2
}
