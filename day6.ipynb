{
 "cells": [
  {
   "cell_type": "code",
   "execution_count": 2,
   "metadata": {},
   "outputs": [],
   "source": [
    "import time\n",
    "\n",
    "import numpy as np\n",
    "\n",
    "from IPython.display import display, clear_output"
   ]
  },
  {
   "cell_type": "code",
   "execution_count": 5,
   "metadata": {},
   "outputs": [],
   "source": [
    "data = open('data/data6_theo.txt', 'r').read()\n",
    "\n",
    "data_arr = np.zeros((130, 130)).astype(str)\n",
    "for index, line in enumerate(data.split('\\n')[:-1]):\n",
    "    data_arr[index] = list(line)"
   ]
  },
  {
   "cell_type": "code",
   "execution_count": 6,
   "metadata": {},
   "outputs": [],
   "source": [
    "class Day6():\n",
    "    def __init__(self, map):\n",
    "        self.map = map.copy()\n",
    "        self.line, self.col = np.argwhere(self.map == '^')[0]\n",
    "        self.state = '^'\n",
    "        self.out = False\n",
    "\n",
    "    def move(self):\n",
    "        # En haut\n",
    "        if self.state == '^':\n",
    "            if self.line == 0:\n",
    "                self.map[self.line, self.col] = 'X'\n",
    "                self.out = True\n",
    "                return self\n",
    "            if self.map[self.line-1, self.col] == '#':\n",
    "                self.map[self.line, self.col] = '>'\n",
    "                self.state = '>'\n",
    "            else:\n",
    "                self.map[self.line, self.col] = 'X'\n",
    "                self.map[self.line-1, self.col] = '^'\n",
    "                self.line = self.line-1\n",
    "            return self\n",
    "\n",
    "        # En bas\n",
    "        if self.state == 'v':\n",
    "            if self.line == len(self.map)-1:\n",
    "                self.map[self.line, self.col] = 'X'\n",
    "                self.out = True\n",
    "                return self\n",
    "            if self.map[self.line+1, self.col] == '#':\n",
    "                self.map[self.line, self.col] = '<'\n",
    "                self.state = '<'\n",
    "            else:\n",
    "                self.map[self.line, self.col] = 'X'\n",
    "                self.map[self.line+1, self.col] = 'v'\n",
    "                self.line = self.line+1\n",
    "            return self\n",
    "\n",
    "        # A droite\n",
    "        if self.state == '>':\n",
    "            if self.col == len(self.map[0])-1:\n",
    "                self.map[self.line, self.col] = 'X'\n",
    "                self.out = True\n",
    "                return self\n",
    "            if self.map[self.line, self.col+1] == '#':\n",
    "                self.map[self.line, self.col] = 'v'\n",
    "                self.state = 'v'\n",
    "            else:\n",
    "                self.map[self.line, self.col] = 'X'\n",
    "                self.map[self.line, self.col+1] = '>'\n",
    "                self.col = self.col+1\n",
    "            return self\n",
    "\n",
    "        # A gauche\n",
    "        if self.state == '<':\n",
    "            if self.col == 0:\n",
    "                self.map[self.line, self.col] = 'X'\n",
    "                self.out = True\n",
    "                return self\n",
    "            if self.map[self.line, self.col-1] == '#':\n",
    "                self.map[self.line, self.col] = '^'\n",
    "                self.state = '^'\n",
    "            else:\n",
    "                self.map[self.line, self.col] = 'X'\n",
    "                self.map[self.line, self.col-1] = '<'\n",
    "                self.col = self.col-1\n",
    "            return self\n",
    "\n",
    "    def main(self):\n",
    "        while not self.out:\n",
    "            self.move()\n",
    "            # time.sleep(0.2)\n",
    "            # print(self.map)\n",
    "            # clear_output(wait=True)\n",
    "        return self\n",
    "\n",
    "    def count_X(self):\n",
    "        return len(np.argwhere(self.map == 'X'))"
   ]
  },
  {
   "cell_type": "code",
   "execution_count": 7,
   "metadata": {},
   "outputs": [
    {
     "ename": "FileNotFoundError",
     "evalue": "[Errno 2] No such file or directory: 'other/day6_test.txt'",
     "output_type": "error",
     "traceback": [
      "\u001b[0;31m---------------------------------------------------------------------------\u001b[0m",
      "\u001b[0;31mFileNotFoundError\u001b[0m                         Traceback (most recent call last)",
      "Cell \u001b[0;32mIn [7], line 1\u001b[0m\n\u001b[0;32m----> 1\u001b[0m data_test \u001b[38;5;241m=\u001b[39m \u001b[38;5;28;43mopen\u001b[39;49m\u001b[43m(\u001b[49m\u001b[38;5;124;43m'\u001b[39;49m\u001b[38;5;124;43mother/day6_test.txt\u001b[39;49m\u001b[38;5;124;43m'\u001b[39;49m\u001b[43m,\u001b[49m\u001b[43m \u001b[49m\u001b[38;5;124;43m'\u001b[39;49m\u001b[38;5;124;43mr\u001b[39;49m\u001b[38;5;124;43m'\u001b[39;49m\u001b[43m)\u001b[49m\u001b[38;5;241m.\u001b[39mread()\n\u001b[1;32m      3\u001b[0m data_arr_test \u001b[38;5;241m=\u001b[39m np\u001b[38;5;241m.\u001b[39mzeros((\u001b[38;5;241m10\u001b[39m, \u001b[38;5;241m10\u001b[39m))\u001b[38;5;241m.\u001b[39mastype(\u001b[38;5;28mstr\u001b[39m)\n\u001b[1;32m      4\u001b[0m \u001b[38;5;28;01mfor\u001b[39;00m index, line \u001b[38;5;129;01min\u001b[39;00m \u001b[38;5;28menumerate\u001b[39m(data_test\u001b[38;5;241m.\u001b[39msplit(\u001b[38;5;124m'\u001b[39m\u001b[38;5;130;01m\\n\u001b[39;00m\u001b[38;5;124m'\u001b[39m)[:\u001b[38;5;241m-\u001b[39m\u001b[38;5;241m1\u001b[39m]):\n",
      "\u001b[0;31mFileNotFoundError\u001b[0m: [Errno 2] No such file or directory: 'other/day6_test.txt'"
     ]
    }
   ],
   "source": [
    "data_test = open('other/day6_test.txt', 'r').read()\n",
    "\n",
    "data_arr_test = np.zeros((10, 10)).astype(str)\n",
    "for index, line in enumerate(data_test.split('\\n')[:-1]):\n",
    "    data_arr_test[index] = list(line)"
   ]
  },
  {
   "cell_type": "code",
   "execution_count": 7,
   "metadata": {},
   "outputs": [
    {
     "data": {
      "text/plain": [
       "41"
      ]
     },
     "execution_count": 7,
     "metadata": {},
     "output_type": "execute_result"
    }
   ],
   "source": [
    "game = Day6(data_arr_test)\n",
    "game.main()\n",
    "game.count_X()"
   ]
  },
  {
   "cell_type": "code",
   "execution_count": 8,
   "metadata": {},
   "outputs": [
    {
     "data": {
      "text/plain": [
       "5242"
      ]
     },
     "execution_count": 8,
     "metadata": {},
     "output_type": "execute_result"
    }
   ],
   "source": [
    "game = Day6(data_arr)\n",
    "game.main()\n",
    "game.count_X()"
   ]
  },
  {
   "cell_type": "code",
   "execution_count": 9,
   "metadata": {},
   "outputs": [],
   "source": [
    "class Day6_2():\n",
    "    def __init__(self, map):\n",
    "        self.map_init = map.copy()\n",
    "        self.map = map.copy()\n",
    "        self.line, self.col = np.argwhere(self.map == '^')[0]\n",
    "        self.state = '^'\n",
    "        self.out = False\n",
    "        self.hist_turn = []\n",
    "\n",
    "    def move(self):\n",
    "        # En haut\n",
    "        if self.state == '^':\n",
    "            if self.line == 0:\n",
    "                self.map[self.line, self.col] = 'X'\n",
    "                self.out = True\n",
    "                return 'out'\n",
    "            if self.map[self.line-1, self.col] == '#':\n",
    "                self.map[self.line, self.col] = 'X'\n",
    "                self.state = '>'\n",
    "                self.hist_turn.append((self.state, self.line, self.col))\n",
    "            else:\n",
    "                self.map[self.line, self.col] = '^'\n",
    "                self.map[self.line-1, self.col] = '^'\n",
    "                self.line = self.line-1\n",
    "            return None\n",
    "\n",
    "        # En bas\n",
    "        if self.state == 'v':\n",
    "            if self.line == len(self.map)-1:\n",
    "                self.map[self.line, self.col] = 'X'\n",
    "                self.out = True\n",
    "                return 'out'\n",
    "            if self.map[self.line+1, self.col] == '#':\n",
    "                self.map[self.line, self.col] = 'X'\n",
    "                self.state = '<'\n",
    "                self.hist_turn.append((self.state, self.line, self.col))\n",
    "            else:\n",
    "                self.map[self.line, self.col] = 'v'\n",
    "                self.map[self.line+1, self.col] = 'v'\n",
    "                self.line = self.line+1\n",
    "            return None\n",
    "\n",
    "        # A droite\n",
    "        if self.state == '>':\n",
    "            if self.col == len(self.map[0])-1:\n",
    "                self.map[self.line, self.col] = 'X'\n",
    "                self.out = True\n",
    "                return 'out'\n",
    "            if self.map[self.line, self.col+1] == '#':\n",
    "                self.map[self.line, self.col] = 'X'\n",
    "                self.state = 'v'\n",
    "                self.hist_turn.append((self.state, self.line, self.col))\n",
    "            else:\n",
    "                self.map[self.line, self.col] = '>'\n",
    "                self.map[self.line, self.col+1] = '>'\n",
    "                self.col = self.col+1\n",
    "            return None\n",
    "\n",
    "        # A gauche\n",
    "        if self.state == '<':\n",
    "            if self.col == 0:\n",
    "                self.map[self.line, self.col] = 'X'\n",
    "                self.out = True\n",
    "                return 'out'\n",
    "            if self.map[self.line, self.col-1] == '#':\n",
    "                self.map[self.line, self.col] = 'X'\n",
    "                self.state = '^'\n",
    "                self.hist_turn.append((self.state, self.line, self.col))\n",
    "            else:\n",
    "                self.map[self.line, self.col] = '<'\n",
    "                self.map[self.line, self.col-1] = '<'\n",
    "                self.col = self.col-1\n",
    "            return None\n",
    "\n",
    "    def main(self):\n",
    "        while not self.out:\n",
    "            self.move()\n",
    "            # time.sleep(0.2)\n",
    "            # print(self.map)\n",
    "            # clear_output(wait=True)\n",
    "        return self\n",
    "\n",
    "    def count_X(self):\n",
    "        return len(np.argwhere(self.map == 'X'))\n",
    "\n",
    "    def main_2(self):\n",
    "        self.loops = 0\n",
    "        self.final_map = Day6(self.map).main().map\n",
    "\n",
    "        for l, c in np.argwhere(self.final_map=='X'):\n",
    "\n",
    "            self.out = False\n",
    "            self.map = self.map_init.copy()\n",
    "            self.line, self.col = np.argwhere(self.map == '^')[0]\n",
    "            self.state = '^'\n",
    "            self.map[l, c] = '#'\n",
    "            self.hist_turn = []\n",
    "\n",
    "            stop = None\n",
    "\n",
    "            while not stop:\n",
    "                stop = self.move()\n",
    "\n",
    "                if len(set(self.hist_turn)) != len(self.hist_turn):\n",
    "                    stop = 'loop'\n",
    "\n",
    "            if stop == 'loop':\n",
    "                self.loops += 1\n",
    "\n",
    "        return self.loops"
   ]
  },
  {
   "cell_type": "code",
   "execution_count": 10,
   "metadata": {},
   "outputs": [
    {
     "data": {
      "text/plain": [
       "1423"
      ]
     },
     "execution_count": 10,
     "metadata": {},
     "output_type": "execute_result"
    }
   ],
   "source": [
    "game = Day6_2(data_arr)\n",
    "game.main_2()"
   ]
  },
  {
   "cell_type": "code",
   "execution_count": 15,
   "metadata": {},
   "outputs": [
    {
     "data": {
      "text/plain": [
       "6"
      ]
     },
     "execution_count": 15,
     "metadata": {},
     "output_type": "execute_result"
    }
   ],
   "source": [
    "game = Day6_2(data_arr_test)\n",
    "game.main_2()"
   ]
  },
  {
   "cell_type": "code",
   "execution_count": null,
   "metadata": {},
   "outputs": [],
   "source": []
  }
 ],
 "metadata": {
  "kernelspec": {
   "display_name": "global_env",
   "language": "python",
   "name": "python3"
  },
  "language_info": {
   "codemirror_mode": {
    "name": "ipython",
    "version": 3
   },
   "file_extension": ".py",
   "mimetype": "text/x-python",
   "name": "python",
   "nbconvert_exporter": "python",
   "pygments_lexer": "ipython3",
   "version": "3.10.6"
  }
 },
 "nbformat": 4,
 "nbformat_minor": 2
}
