{
 "cells": [
  {
   "cell_type": "code",
   "execution_count": 3,
   "metadata": {},
   "outputs": [],
   "source": [
    "import time\n",
    "\n",
    "import numpy as np\n",
    "\n",
    "from IPython.display import display, clear_output"
   ]
  },
  {
   "cell_type": "code",
   "execution_count": 4,
   "metadata": {},
   "outputs": [],
   "source": [
    "data = open('data/day6.txt', 'r').read()\n",
    "\n",
    "data_arr = np.zeros((130, 130)).astype(str)\n",
    "for index, line in enumerate(data.split('\\n')[:-1]):\n",
    "    data_arr[index] = list(line)"
   ]
  },
  {
   "cell_type": "code",
   "execution_count": 5,
   "metadata": {},
   "outputs": [],
   "source": [
    "class Day6():\n",
    "    def __init__(self, map):\n",
    "        self.map = map.copy()\n",
    "        self.line, self.col = np.argwhere(self.map == '^')[0]\n",
    "        self.state = '^'\n",
    "        self.out = False\n",
    "\n",
    "    def move(self):\n",
    "        # En haut\n",
    "        if self.state == '^':\n",
    "            if self.line == 0:\n",
    "                self.map[self.line, self.col] = 'X'\n",
    "                self.out = True\n",
    "                return self\n",
    "            if self.map[self.line-1, self.col] == '#':\n",
    "                self.map[self.line, self.col] = '>'\n",
    "                self.state = '>'\n",
    "            else:\n",
    "                self.map[self.line, self.col] = 'X'\n",
    "                self.map[self.line-1, self.col] = '^'\n",
    "                self.line = self.line-1\n",
    "            return self\n",
    "\n",
    "        # En bas\n",
    "        if self.state == 'v':\n",
    "            if self.line == len(self.map)-1:\n",
    "                self.map[self.line, self.col] = 'X'\n",
    "                self.out = True\n",
    "                return self\n",
    "            if self.map[self.line+1, self.col] == '#':\n",
    "                self.map[self.line, self.col] = '<'\n",
    "                self.state = '<'\n",
    "            else:\n",
    "                self.map[self.line, self.col] = 'X'\n",
    "                self.map[self.line+1, self.col] = 'v'\n",
    "                self.line = self.line+1\n",
    "            return self\n",
    "\n",
    "        # A droite\n",
    "        if self.state == '>':\n",
    "            if self.col == len(self.map[0])-1:\n",
    "                self.map[self.line, self.col] = 'X'\n",
    "                self.out = True\n",
    "                return self\n",
    "            if self.map[self.line, self.col+1] == '#':\n",
    "                self.map[self.line, self.col] = 'v'\n",
    "                self.state = 'v'\n",
    "            else:\n",
    "                self.map[self.line, self.col] = 'X'\n",
    "                self.map[self.line, self.col+1] = '>'\n",
    "                self.col = self.col+1\n",
    "            return self\n",
    "\n",
    "        # A gauche\n",
    "        if self.state == '<':\n",
    "            if self.col == 0:\n",
    "                self.map[self.line, self.col] = 'X'\n",
    "                self.out = True\n",
    "                return self\n",
    "            if self.map[self.line, self.col-1] == '#':\n",
    "                self.map[self.line, self.col] = '^'\n",
    "                self.state = '^'\n",
    "            else:\n",
    "                self.map[self.line, self.col] = 'X'\n",
    "                self.map[self.line, self.col-1] = '<'\n",
    "                self.col = self.col-1\n",
    "            return self\n",
    "\n",
    "    def main(self):\n",
    "        while not self.out:\n",
    "            self.move()\n",
    "            # time.sleep(0.2)\n",
    "            # print(self.map)\n",
    "            # clear_output(wait=True)\n",
    "        return self\n",
    "\n",
    "    def count_X(self):\n",
    "        return len(np.argwhere(self.map == 'X'))"
   ]
  },
  {
   "cell_type": "code",
   "execution_count": 6,
   "metadata": {},
   "outputs": [],
   "source": [
    "data_test = open('other/day6_test.txt', 'r').read()\n",
    "\n",
    "data_arr_test = np.zeros((10, 10)).astype(str)\n",
    "for index, line in enumerate(data_test.split('\\n')[:-1]):\n",
    "    data_arr_test[index] = list(line)"
   ]
  },
  {
   "cell_type": "code",
   "execution_count": 7,
   "metadata": {},
   "outputs": [
    {
     "data": {
      "text/plain": [
       "41"
      ]
     },
     "execution_count": 7,
     "metadata": {},
     "output_type": "execute_result"
    }
   ],
   "source": [
    "game = Day6(data_arr_test)\n",
    "game.main()\n",
    "game.count_X()"
   ]
  },
  {
   "cell_type": "code",
   "execution_count": 8,
   "metadata": {},
   "outputs": [
    {
     "data": {
      "text/plain": [
       "5444"
      ]
     },
     "execution_count": 8,
     "metadata": {},
     "output_type": "execute_result"
    }
   ],
   "source": [
    "game = Day6(data_arr)\n",
    "game.main()\n",
    "game.count_X()"
   ]
  },
  {
   "cell_type": "code",
   "execution_count": null,
   "metadata": {},
   "outputs": [],
   "source": [
    "class Day6_2():\n",
    "    def __init__(self, map):\n",
    "        self.map_init = map.copy()\n",
    "        self.map = map.copy()\n",
    "        self.line, self.col = np.argwhere(self.map == '^')[0]\n",
    "        self.state = '^'\n",
    "        self.out = False\n",
    "        self.hist_turn = []\n",
    "\n",
    "    def move(self):\n",
    "        # En haut\n",
    "        if self.state == '^':\n",
    "            if self.line == 0:\n",
    "                self.map[self.line, self.col] = 'X'\n",
    "                self.out = True\n",
    "                return 'out'\n",
    "            if self.map[self.line-1, self.col] == '#':\n",
    "                self.map[self.line, self.col] = 'X'\n",
    "                self.state = '>'\n",
    "                self.hist_turn.append((self.state, self.line, self.col))\n",
    "            else:\n",
    "                self.map[self.line, self.col] = '^'\n",
    "                self.map[self.line-1, self.col] = '^'\n",
    "                self.line = self.line-1\n",
    "            return None\n",
    "\n",
    "        # En bas\n",
    "        if self.state == 'v':\n",
    "            if self.line == len(self.map)-1:\n",
    "                self.map[self.line, self.col] = 'X'\n",
    "                self.out = True\n",
    "                return 'out'\n",
    "            if self.map[self.line+1, self.col] == '#':\n",
    "                self.map[self.line, self.col] = 'X'\n",
    "                self.state = '<'\n",
    "                self.hist_turn.append((self.state, self.line, self.col))\n",
    "            else:\n",
    "                self.map[self.line, self.col] = 'v'\n",
    "                self.map[self.line+1, self.col] = 'v'\n",
    "                self.line = self.line+1\n",
    "            return None\n",
    "\n",
    "        # A droite\n",
    "        if self.state == '>':\n",
    "            if self.col == len(self.map[0])-1:\n",
    "                self.map[self.line, self.col] = 'X'\n",
    "                self.out = True\n",
    "                return 'out'\n",
    "            if self.map[self.line, self.col+1] == '#':\n",
    "                self.map[self.line, self.col] = 'X'\n",
    "                self.state = 'v'\n",
    "                self.hist_turn.append((self.state, self.line, self.col))\n",
    "            else:\n",
    "                self.map[self.line, self.col] = '>'\n",
    "                self.map[self.line, self.col+1] = '>'\n",
    "                self.col = self.col+1\n",
    "            return None\n",
    "\n",
    "        # A gauche\n",
    "        if self.state == '<':\n",
    "            if self.col == 0:\n",
    "                self.map[self.line, self.col] = 'X'\n",
    "                self.out = True\n",
    "                return 'out'\n",
    "            if self.map[self.line, self.col-1] == '#':\n",
    "                self.map[self.line, self.col] = 'X'\n",
    "                self.state = '^'\n",
    "                self.hist_turn.append((self.state, self.line, self.col))\n",
    "            else:\n",
    "                self.map[self.line, self.col] = '<'\n",
    "                self.map[self.line, self.col-1] = '<'\n",
    "                self.col = self.col-1\n",
    "            return None\n",
    "\n",
    "    def main(self):\n",
    "        while not self.out:\n",
    "            self.move()\n",
    "            # time.sleep(0.2)\n",
    "            # print(self.map)\n",
    "            # clear_output(wait=True)\n",
    "        return self\n",
    "\n",
    "    def count_X(self):\n",
    "        return len(np.argwhere(self.map == 'X'))\n",
    "\n",
    "    def main_2(self):\n",
    "        self.loops = 0\n",
    "        self.final_map = Day6(self.map).main().map\n",
    "\n",
    "        for l, c in np.argwhere(self.final_map=='X'):\n",
    "\n",
    "            self.out = False\n",
    "            self.map = self.map_init.copy()\n",
    "            self.line, self.col = np.argwhere(self.map == '^')[0]\n",
    "            self.state = '^'\n",
    "            self.map[l, c] = '#'\n",
    "            self.hist_turn = []\n",
    "\n",
    "            stop = None\n",
    "\n",
    "            while not stop:\n",
    "                stop = self.move()\n",
    "\n",
    "                if len(set(self.hist_turn)) != len(self.hist_turn):\n",
    "                    stop = 'loop'\n",
    "\n",
    "            if stop == 'loop':\n",
    "                self.loops += 1\n",
    "\n",
    "        return self.loops"
   ]
  },
  {
   "cell_type": "code",
   "execution_count": 14,
   "metadata": {},
   "outputs": [
    {
     "data": {
      "text/plain": [
       "1946"
      ]
     },
     "execution_count": 14,
     "metadata": {},
     "output_type": "execute_result"
    }
   ],
   "source": [
    "game = Day6_2(data_arr)\n",
    "game.main_2()"
   ]
  },
  {
   "cell_type": "code",
   "execution_count": 15,
   "metadata": {},
   "outputs": [
    {
     "data": {
      "text/plain": [
       "6"
      ]
     },
     "execution_count": 15,
     "metadata": {},
     "output_type": "execute_result"
    }
   ],
   "source": [
    "game = Day6_2(data_arr_test)\n",
    "game.main_2()"
   ]
  },
  {
   "cell_type": "code",
   "execution_count": null,
   "metadata": {},
   "outputs": [],
   "source": []
  }
 ],
 "metadata": {
  "kernelspec": {
   "display_name": "env_perso",
   "language": "python",
   "name": "python3"
  },
  "language_info": {
   "codemirror_mode": {
    "name": "ipython",
    "version": 3
   },
   "file_extension": ".py",
   "mimetype": "text/x-python",
   "name": "python",
   "nbconvert_exporter": "python",
   "pygments_lexer": "ipython3",
   "version": "3.10.6"
  }
 },
 "nbformat": 4,
 "nbformat_minor": 2
}
