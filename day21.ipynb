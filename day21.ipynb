{
 "cells": [
  {
   "cell_type": "code",
   "execution_count": 2,
   "metadata": {},
   "outputs": [],
   "source": [
    "import numpy as np"
   ]
  },
  {
   "cell_type": "code",
   "execution_count": 32,
   "metadata": {},
   "outputs": [],
   "source": [
    "class Day21():\n",
    "\n",
    "    def __init__(self, data_link):\n",
    "        self.data = open(data_link, 'r').read().split('\\n')[:-1]\n",
    "        self.num_pad = np.array([[7, 8, 9], [4, 5, 6], [1, 2, 3], ['x', 0, 'A']])\n",
    "        self.num_pos = np.argwhere(self.num_pad == 'A')[0]\n",
    "        self.arr_pad = np.array([['x', '^', 'A'], ['<', 'v', '>']])\n",
    "        self.arr_pos = np.argwhere(self.arr_pad == 'A')[0]\n",
    "\n",
    "    def decode_num(self, code):\n",
    "        seq = []\n",
    "        for letter in code:\n",
    "\n",
    "            final_pos = np.argwhere(self.num_pad == letter)[0]\n",
    "            ver, hor = final_pos[0] - self.num_pos[0], final_pos[1] - self.num_pos[1]\n",
    "\n",
    "            sub_seq = ''\n",
    "\n",
    "            if self.num_pos[0] == 3 and final_pos[1] == 0:\n",
    "                hor_seq, ver_seq = '<'*(-hor), '^'*(-ver)\n",
    "                sub_seq = [ver_seq + hor_seq + 'A']\n",
    "            elif self.num_pos[1] == 0 and final_pos[0] == 3:\n",
    "                hor_seq, ver_seq = '>'*hor, 'v'*ver\n",
    "                sub_seq = [hor_seq + ver_seq + 'A']\n",
    "            else:\n",
    "                if hor > 0:\n",
    "                    hor_seq = '>'*hor\n",
    "                else:\n",
    "                    hor_seq = '<'*(-hor)\n",
    "                if ver > 0:\n",
    "                    ver_seq = 'v'*ver\n",
    "                else:\n",
    "                    ver_seq = '^'*(-ver)\n",
    "\n",
    "                sub_seq = list(set([hor_seq + ver_seq + 'A', ver_seq + hor_seq + 'A']))\n",
    "\n",
    "            if not seq:\n",
    "                seq = sub_seq\n",
    "            else:\n",
    "                seq = [elem+sub for elem in seq for sub in sub_seq]\n",
    "\n",
    "            self.num_pos = final_pos.copy()\n",
    "\n",
    "        return seq\n",
    "\n",
    "\n",
    "\n",
    "    def decode_arr(self, code):\n",
    "        seq = []\n",
    "        for letter in code:\n",
    "\n",
    "            final_pos = np.argwhere(self.arr_pad == letter)[0]\n",
    "            ver, hor = final_pos[0] - self.arr_pos[0], final_pos[1] - self.arr_pos[1]\n",
    "\n",
    "            sub_seq = ''\n",
    "\n",
    "            if self.arr_pos[0] == 1 and self.arr_pos[1] == 0:\n",
    "                hor_seq, ver_seq = '>'*(hor), '^'*(-ver)\n",
    "                sub_seq = [hor_seq + ver_seq + 'A']\n",
    "            elif final_pos[1] == 0 and final_pos[0] == 1:\n",
    "                hor_seq, ver_seq = '<'*(-hor), 'v'*ver\n",
    "                sub_seq = [ver_seq + hor_seq + 'A']\n",
    "            else:\n",
    "                if hor > 0:\n",
    "                    hor_seq = '>'*hor\n",
    "                else:\n",
    "                    hor_seq = '<'*(-hor)\n",
    "                if ver > 0:\n",
    "                    ver_seq = 'v'*ver\n",
    "                else:\n",
    "                    ver_seq = '^'*(-ver)\n",
    "\n",
    "                sub_seq = list(set([hor_seq + ver_seq + 'A', ver_seq + hor_seq + 'A']))\n",
    "\n",
    "            if not seq:\n",
    "                seq = sub_seq\n",
    "            else:\n",
    "                seq = [elem+sub for elem in seq for sub in sub_seq]\n",
    "\n",
    "            self.arr_pos = final_pos.copy()\n",
    "\n",
    "        return seq\n",
    "\n",
    "    def main(self):\n",
    "        result = 0\n",
    "        for code in self.data:\n",
    "            seqs = []\n",
    "            seq_1 = self.decode_num(code)\n",
    "            for seq in seq_1:\n",
    "                seq_2 = self.decode_arr(seq)\n",
    "                for seq_bis in seq_2:\n",
    "                    seq_3 = self.decode_arr(seq_bis)\n",
    "                    for seq_ter in seq_3:\n",
    "                        seqs.append(len(seq_ter))\n",
    "            result += min(seqs) * int(code[:-1])\n",
    "            print(min(seqs), int(code[:-1]))\n",
    "        return result\n",
    "\n",
    "    def main_2(self):\n",
    "        # 1 : décoder le premier code\n",
    "        # 2: stocker dans un dico chaque direction/profondeur la plus courte possible\n",
    "        # Récursif + memory"
   ]
  },
  {
   "cell_type": "code",
   "execution_count": 33,
   "metadata": {},
   "outputs": [
    {
     "name": "stdout",
     "output_type": "stream",
     "text": [
      "68 29\n",
      "60 980\n",
      "68 179\n",
      "64 456\n",
      "64 379\n"
     ]
    },
    {
     "data": {
      "text/plain": [
       "126384"
      ]
     },
     "execution_count": 33,
     "metadata": {},
     "output_type": "execute_result"
    }
   ],
   "source": [
    "day21_test = Day21('other/day21_test.txt')\n",
    "day21_test.main()"
   ]
  },
  {
   "cell_type": "code",
   "execution_count": 34,
   "metadata": {},
   "outputs": [
    {
     "name": "stdout",
     "output_type": "stream",
     "text": [
      "68 286\n",
      "74 480\n",
      "70 140\n",
      "70 413\n",
      "72 964\n"
     ]
    },
    {
     "data": {
      "text/plain": [
       "163086"
      ]
     },
     "execution_count": 34,
     "metadata": {},
     "output_type": "execute_result"
    }
   ],
   "source": [
    "day21 = Day21('data/day21.txt')\n",
    "day21.main()"
   ]
  },
  {
   "cell_type": "code",
   "execution_count": null,
   "metadata": {},
   "outputs": [],
   "source": []
  }
 ],
 "metadata": {
  "kernelspec": {
   "display_name": "env_perso",
   "language": "python",
   "name": "python3"
  },
  "language_info": {
   "codemirror_mode": {
    "name": "ipython",
    "version": 3
   },
   "file_extension": ".py",
   "mimetype": "text/x-python",
   "name": "python",
   "nbconvert_exporter": "python",
   "pygments_lexer": "ipython3",
   "version": "3.10.6"
  }
 },
 "nbformat": 4,
 "nbformat_minor": 2
}
