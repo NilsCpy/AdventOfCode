{
 "cells": [
  {
   "cell_type": "code",
   "execution_count": 3,
   "metadata": {},
   "outputs": [],
   "source": [
    "import numpy as np"
   ]
  },
  {
   "cell_type": "code",
   "execution_count": 61,
   "metadata": {},
   "outputs": [],
   "source": [
    "class Day21():\n",
    "\n",
    "    def __init__(self, data_link):\n",
    "        self.data = open(data_link, 'r').read().split('\\n')[:-1]\n",
    "        self.num_pad = np.array([[7, 8, 9], [4, 5, 6], [1, 2, 3], ['x', 0, 'A']])\n",
    "        self.num_pos = np.argwhere(self.num_pad == 'A')[0]\n",
    "        self.arr_pad = np.array([['x', '^', 'A'], ['<', 'v', '>']])\n",
    "        self.arr_pos = np.argwhere(self.arr_pad == 'A')[0]\n",
    "        self.memory = {}\n",
    "\n",
    "    def decode_num(self, code):\n",
    "        self.num_pos = np.argwhere(self.num_pad == 'A')[0]\n",
    "        seq = []\n",
    "        for letter in code:\n",
    "\n",
    "            final_pos = np.argwhere(self.num_pad == letter)[0]\n",
    "            ver, hor = final_pos[0] - self.num_pos[0], final_pos[1] - self.num_pos[1]\n",
    "\n",
    "            sub_seq = ''\n",
    "\n",
    "            if self.num_pos[0] == 3 and final_pos[1] == 0:\n",
    "                hor_seq, ver_seq = '<'*(-hor), '^'*(-ver)\n",
    "                sub_seq = [ver_seq + hor_seq + 'A']\n",
    "            elif self.num_pos[1] == 0 and final_pos[0] == 3:\n",
    "                hor_seq, ver_seq = '>'*hor, 'v'*ver\n",
    "                sub_seq = [hor_seq + ver_seq + 'A']\n",
    "            else:\n",
    "                if hor > 0:\n",
    "                    hor_seq = '>'*hor\n",
    "                else:\n",
    "                    hor_seq = '<'*(-hor)\n",
    "                if ver > 0:\n",
    "                    ver_seq = 'v'*ver\n",
    "                else:\n",
    "                    ver_seq = '^'*(-ver)\n",
    "\n",
    "                sub_seq = list(set([hor_seq + ver_seq + 'A', ver_seq + hor_seq + 'A']))\n",
    "\n",
    "            if not seq:\n",
    "                seq = sub_seq\n",
    "            else:\n",
    "                seq = [elem+sub for elem in seq for sub in sub_seq]\n",
    "\n",
    "            self.num_pos = final_pos.copy()\n",
    "\n",
    "        return seq\n",
    "\n",
    "\n",
    "\n",
    "    def decode_arr(self, code):\n",
    "        self.arr_pos = np.argwhere(self.arr_pad == 'A')[0]\n",
    "        seq = []\n",
    "        for letter in code:\n",
    "\n",
    "            final_pos = np.argwhere(self.arr_pad == letter)[0]\n",
    "            ver, hor = final_pos[0] - self.arr_pos[0], final_pos[1] - self.arr_pos[1]\n",
    "\n",
    "            sub_seq = ''\n",
    "\n",
    "            if self.arr_pos[0] == 1 and self.arr_pos[1] == 0:\n",
    "                hor_seq, ver_seq = '>'*(hor), '^'*(-ver)\n",
    "                sub_seq = [hor_seq + ver_seq + 'A']\n",
    "            elif final_pos[1] == 0 and final_pos[0] == 1:\n",
    "                hor_seq, ver_seq = '<'*(-hor), 'v'*ver\n",
    "                sub_seq = [ver_seq + hor_seq + 'A']\n",
    "            else:\n",
    "                if hor > 0:\n",
    "                    hor_seq = '>'*hor\n",
    "                else:\n",
    "                    hor_seq = '<'*(-hor)\n",
    "                if ver > 0:\n",
    "                    ver_seq = 'v'*ver\n",
    "                else:\n",
    "                    ver_seq = '^'*(-ver)\n",
    "\n",
    "                sub_seq = list(set([hor_seq + ver_seq + 'A', ver_seq + hor_seq + 'A']))\n",
    "\n",
    "            if not seq:\n",
    "                seq = sub_seq\n",
    "            else:\n",
    "                seq = [elem+sub for elem in seq for sub in sub_seq]\n",
    "\n",
    "            self.arr_pos = final_pos.copy()\n",
    "\n",
    "        return seq\n",
    "\n",
    "    def main(self):\n",
    "        result = 0\n",
    "        for code in self.data:\n",
    "            seqs = []\n",
    "            seq_1 = self.decode_num(code)\n",
    "            for seq in seq_1:\n",
    "                seq_2 = self.decode_arr(seq)\n",
    "                for seq_bis in seq_2:\n",
    "                    seq_3 = self.decode_arr(seq_bis)\n",
    "                    for seq_ter in seq_3:\n",
    "                        seqs.append(len(seq_ter))\n",
    "            result += min(seqs) * int(code[:-1])\n",
    "            print(min(seqs), int(code[:-1]))\n",
    "        return result\n",
    "\n",
    "    def get_len(self, char, depth):\n",
    "        print('--->', char, depth)\n",
    "        if depth == 0:\n",
    "            self.memory[(char, depth)] = 1\n",
    "            return 1\n",
    "        if (char, depth) in self.memory.keys():\n",
    "            return self.memory[(char, depth)]\n",
    "        sum = 0\n",
    "        seqs = self.decode_arr(char)\n",
    "        print(seqs)\n",
    "        lens = []\n",
    "        for seq in seqs:\n",
    "            len = 0\n",
    "            for elem in seq:\n",
    "                len += self.get_len(elem, depth-1)\n",
    "            lens.append(len)\n",
    "\n",
    "        print('->', char, depth)\n",
    "        print(lens)\n",
    "        sum += min(lens)\n",
    "        self.memory[(char, depth)] = sum\n",
    "        return sum\n",
    "\n",
    "    def main_2(self, depth = 3):\n",
    "        result = 0\n",
    "        for code in self.data:\n",
    "            seq_1 = self.decode_num(code)\n",
    "            lens = []\n",
    "            for seq in seq_1:\n",
    "                len_seq = 0\n",
    "                for char in seq:\n",
    "                    len_seq += self.get_len(char, depth)\n",
    "                lens.append(len_seq)\n",
    "            print(lens)\n"
   ]
  },
  {
   "cell_type": "code",
   "execution_count": 62,
   "metadata": {},
   "outputs": [
    {
     "name": "stdout",
     "output_type": "stream",
     "text": [
      "68 29\n",
      "60 980\n",
      "68 179\n",
      "64 456\n",
      "64 379\n"
     ]
    },
    {
     "data": {
      "text/plain": [
       "126384"
      ]
     },
     "execution_count": 62,
     "metadata": {},
     "output_type": "execute_result"
    }
   ],
   "source": [
    "day21_test = Day21('other/day21_test.txt')\n",
    "day21_test.main()"
   ]
  },
  {
   "cell_type": "code",
   "execution_count": 63,
   "metadata": {},
   "outputs": [
    {
     "name": "stdout",
     "output_type": "stream",
     "text": [
      "68 286\n",
      "74 480\n",
      "70 140\n",
      "70 413\n",
      "72 964\n"
     ]
    },
    {
     "data": {
      "text/plain": [
       "163086"
      ]
     },
     "execution_count": 63,
     "metadata": {},
     "output_type": "execute_result"
    }
   ],
   "source": [
    "day21 = Day21('data/day21.txt')\n",
    "day21.main()"
   ]
  },
  {
   "cell_type": "code",
   "execution_count": 64,
   "metadata": {},
   "outputs": [
    {
     "name": "stdout",
     "output_type": "stream",
     "text": [
      "---> v 2\n",
      "['v<A', '<vA']\n",
      "---> v 1\n",
      "['v<A', '<vA']\n",
      "---> v 0\n",
      "---> < 0\n",
      "---> A 0\n",
      "---> < 0\n",
      "---> v 0\n",
      "---> A 0\n",
      "-> v 1\n",
      "[3, 3]\n",
      "---> < 1\n",
      "['v<<A']\n",
      "---> v 0\n",
      "---> < 0\n",
      "---> < 0\n",
      "---> A 0\n",
      "-> < 1\n",
      "[4]\n",
      "---> A 1\n",
      "['A']\n",
      "---> A 0\n",
      "-> A 1\n",
      "[1]\n",
      "---> < 1\n",
      "---> v 1\n",
      "---> A 1\n",
      "-> v 2\n",
      "[8, 8]\n"
     ]
    },
    {
     "data": {
      "text/plain": [
       "8"
      ]
     },
     "execution_count": 64,
     "metadata": {},
     "output_type": "execute_result"
    }
   ],
   "source": [
    "day21_test = Day21('other/day21_test.txt')\n",
    "day21_test.get_len('v', 2)"
   ]
  },
  {
   "cell_type": "code",
   "execution_count": 33,
   "metadata": {},
   "outputs": [
    {
     "data": {
      "text/plain": [
       "{('>', 0): 1,\n",
       " ('A', 0): 1,\n",
       " ('v', 1): 2,\n",
       " ('<', 0): 1,\n",
       " ('<', 1): 2,\n",
       " ('^', 0): 1,\n",
       " ('A', 1): 4,\n",
       " ('<', 2): 10,\n",
       " ('^', 2): 6,\n",
       " ('v', 0): 1,\n",
       " ('>', 1): 2,\n",
       " ('A', 2): 6,\n",
       " ('>', 2): 4,\n",
       " ('v', 2): 6}"
      ]
     },
     "execution_count": 33,
     "metadata": {},
     "output_type": "execute_result"
    }
   ],
   "source": [
    "day21.memory"
   ]
  },
  {
   "cell_type": "code",
   "execution_count": null,
   "metadata": {},
   "outputs": [],
   "source": []
  }
 ],
 "metadata": {
  "kernelspec": {
   "display_name": "global_env",
   "language": "python",
   "name": "python3"
  },
  "language_info": {
   "codemirror_mode": {
    "name": "ipython",
    "version": 3
   },
   "file_extension": ".py",
   "mimetype": "text/x-python",
   "name": "python",
   "nbconvert_exporter": "python",
   "pygments_lexer": "ipython3",
   "version": "3.10.6"
  }
 },
 "nbformat": 4,
 "nbformat_minor": 2
}
