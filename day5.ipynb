{
 "cells": [
  {
   "cell_type": "code",
   "execution_count": 136,
   "metadata": {},
   "outputs": [],
   "source": [
    "import pandas as pd"
   ]
  },
  {
   "cell_type": "code",
   "execution_count": 137,
   "metadata": {},
   "outputs": [],
   "source": [
    "rules, data = open('data/day5.txt', 'r').read().split('\\n\\n')"
   ]
  },
  {
   "cell_type": "code",
   "execution_count": 138,
   "metadata": {},
   "outputs": [],
   "source": [
    "data = data.split('\\n')[:-1]\n",
    "rules = rules.split('\\n')"
   ]
  },
  {
   "cell_type": "code",
   "execution_count": null,
   "metadata": {},
   "outputs": [],
   "source": [
    "# On regarde si une ligne de donnée remplie bien une règle\n",
    "def check_rule(line, rule):\n",
    "    line_int = [int(elem) for elem in line.split(',')]\n",
    "    if (int(rule[:2]) in line_int) and (int(rule[3:]) in line_int):\n",
    "        return line_int.index(int(rule[:2]))<line_int.index(int(rule[3:]))\n",
    "    return True\n"
   ]
  },
  {
   "cell_type": "code",
   "execution_count": null,
   "metadata": {},
   "outputs": [],
   "source": [
    "# On regarde si une ligne de donnée remplie bien toutes les règles\n",
    "def check_all_rule(line, all_rule):\n",
    "    for rule in all_rule:\n",
    "        if not(check_rule(line, rule)):\n",
    "            return False\n",
    "    return True"
   ]
  },
  {
   "cell_type": "code",
   "execution_count": null,
   "metadata": {},
   "outputs": [
    {
     "data": {
      "text/plain": [
       "5762"
      ]
     },
     "execution_count": 141,
     "metadata": {},
     "output_type": "execute_result"
    }
   ],
   "source": [
    "# Pour chaque ligne de donnée qui remplie toutes les règles, on somme les éléments centraux\n",
    "count = 0\n",
    "for index, boolean in enumerate([check_all_rule(x, rules) for x in data]):\n",
    "    if boolean:\n",
    "        size = len(data[index].split(','))\n",
    "        count += int(data[index].split(',')[len(data[index].split(','))//2])\n",
    "count"
   ]
  },
  {
   "cell_type": "code",
   "execution_count": null,
   "metadata": {},
   "outputs": [],
   "source": [
    "# On récupère toutes les règles importantes pour une ligne de donnée\n",
    "def get_rules(line, rules):\n",
    "    line_int = [int(elem) for elem in line.split(',')]\n",
    "    result = []\n",
    "    for rule in rules:\n",
    "        if (int(rule[:2]) in line_int) and(int(rule[3:]) in line_int):\n",
    "            result.append(rule)\n",
    "    return result"
   ]
  },
  {
   "cell_type": "code",
   "execution_count": null,
   "metadata": {},
   "outputs": [],
   "source": [
    "# On trie la ligne de donnée selon toutes les règles importantes pour celle ci\n",
    "def get_global_rule(line, rules):\n",
    "    rules_line = get_rules(line, rules)\n",
    "    result = []\n",
    "    numb_g = [int(rule[:2]) for rule in rules_line]\n",
    "    numb_d = [int(rule[3:]) for rule in rules_line]\n",
    "    l_max = []\n",
    "    for elem_d in numb_d:\n",
    "        if not(elem_d in numb_g):\n",
    "            l_max.append(elem_d)\n",
    "    while len(numb_d) > 0 and len(numb_g) > 0:\n",
    "        for elem_g in numb_g:\n",
    "            if not(elem_g in numb_d):\n",
    "                indexes = [i for i in range(len(numb_g)) if numb_g[i]==elem_g]\n",
    "                result.append(elem_g)\n",
    "                for ind in indexes[::-1]:\n",
    "                    numb_g.pop(ind)\n",
    "                    numb_d.pop(ind)\n",
    "    return result + list(set(l_max))"
   ]
  },
  {
   "cell_type": "code",
   "execution_count": null,
   "metadata": {},
   "outputs": [
    {
     "data": {
      "text/plain": [
       "4130"
      ]
     },
     "execution_count": 305,
     "metadata": {},
     "output_type": "execute_result"
    }
   ],
   "source": [
    "# Pour toutes les lignes qui ne remplissent pas une règle de base, on les trie et on somme les éléments centraux\n",
    "count_2 = 0\n",
    "for index, boolean in enumerate([check_all_rule(x, rules) for x in data]):\n",
    "    if not boolean:\n",
    "        size = len(data[index].split(','))\n",
    "        sorted_data = get_global_rule(data[index], rules)\n",
    "        count_2 += int(sorted_data[len(data[index].split(','))//2])\n",
    "count_2"
   ]
  }
 ],
 "metadata": {
  "kernelspec": {
   "display_name": "env_perso",
   "language": "python",
   "name": "python3"
  },
  "language_info": {
   "codemirror_mode": {
    "name": "ipython",
    "version": 3
   },
   "file_extension": ".py",
   "mimetype": "text/x-python",
   "name": "python",
   "nbconvert_exporter": "python",
   "pygments_lexer": "ipython3",
   "version": "3.10.6"
  }
 },
 "nbformat": 4,
 "nbformat_minor": 2
}
