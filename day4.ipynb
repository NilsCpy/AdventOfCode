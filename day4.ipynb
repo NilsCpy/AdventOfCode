{
 "cells": [
  {
   "cell_type": "code",
   "execution_count": 1,
   "metadata": {},
   "outputs": [],
   "source": [
    "import re\n",
    "import numpy as np"
   ]
  },
  {
   "cell_type": "code",
   "execution_count": 2,
   "metadata": {},
   "outputs": [],
   "source": [
    "data = open('data/day4.txt', 'r').read()\n",
    "\n",
    "data_arr = np.zeros((140, 140)).astype(str)\n",
    "for index, line in enumerate(data.split('\\n')[:-1]):\n",
    "    data_arr[index] = list(line)"
   ]
  },
  {
   "cell_type": "code",
   "execution_count": 3,
   "metadata": {},
   "outputs": [
    {
     "data": {
      "text/plain": [
       "2554"
      ]
     },
     "execution_count": 3,
     "metadata": {},
     "output_type": "execute_result"
    }
   ],
   "source": [
    "lin, col = np.where(data_arr == 'X')\n",
    "\n",
    "size = len(data_arr)\n",
    "\n",
    "count = 0\n",
    "\n",
    "for index in range(len(lin)):\n",
    "    ind_lin = lin[index]\n",
    "    ind_col = col[index]\n",
    "\n",
    "    # Cas D\n",
    "    if ind_col <= size -4:\n",
    "        letter_2 = data_arr[ind_lin][ind_col+1]\n",
    "        letter_3 = data_arr[ind_lin][ind_col+2]\n",
    "        letter_4 = data_arr[ind_lin][ind_col+3]\n",
    "        if (letter_2, letter_3, letter_4) == ('M', 'A', 'S'):\n",
    "            count += 1\n",
    "\n",
    "    # Cas G\n",
    "    if ind_col >= 3:\n",
    "        letter_2 = data_arr[ind_lin][ind_col-1]\n",
    "        letter_3 = data_arr[ind_lin][ind_col-2]\n",
    "        letter_4 = data_arr[ind_lin][ind_col-3]\n",
    "        if (letter_2, letter_3, letter_4) == ('M', 'A', 'S'):\n",
    "            count += 1\n",
    "\n",
    "    # Cas H\n",
    "    if ind_lin >= 3:\n",
    "        letter_2 = data_arr[ind_lin-1][ind_col]\n",
    "        letter_3 = data_arr[ind_lin-2][ind_col]\n",
    "        letter_4 = data_arr[ind_lin-3][ind_col]\n",
    "        if (letter_2, letter_3, letter_4) == ('M', 'A', 'S'):\n",
    "            count += 1\n",
    "\n",
    "    # Cas B\n",
    "    if ind_lin <= size-4:\n",
    "        letter_2 = data_arr[ind_lin+1][ind_col]\n",
    "        letter_3 = data_arr[ind_lin+2][ind_col]\n",
    "        letter_4 = data_arr[ind_lin+3][ind_col]\n",
    "        if (letter_2, letter_3, letter_4) == ('M', 'A', 'S'):\n",
    "            count += 1\n",
    "\n",
    "    # Cas BD\n",
    "    if ind_lin <= size-4 and ind_col <= size-4:\n",
    "        letter_2 = data_arr[ind_lin+1][ind_col+1]\n",
    "        letter_3 = data_arr[ind_lin+2][ind_col+2]\n",
    "        letter_4 = data_arr[ind_lin+3][ind_col+3]\n",
    "        if (letter_2, letter_3, letter_4) == ('M', 'A', 'S'):\n",
    "            count += 1\n",
    "\n",
    "    # Cas HD\n",
    "    if ind_lin <= size-4 and ind_col >=3:\n",
    "        letter_2 = data_arr[ind_lin+1][ind_col-1]\n",
    "        letter_3 = data_arr[ind_lin+2][ind_col-2]\n",
    "        letter_4 = data_arr[ind_lin+3][ind_col-3]\n",
    "        if (letter_2, letter_3, letter_4) == ('M', 'A', 'S'):\n",
    "            count += 1\n",
    "\n",
    "    # Cas HD\n",
    "    if ind_lin >=3 and ind_col >=3:\n",
    "        letter_2 = data_arr[ind_lin-1][ind_col-1]\n",
    "        letter_3 = data_arr[ind_lin-2][ind_col-2]\n",
    "        letter_4 = data_arr[ind_lin-3][ind_col-3]\n",
    "        if (letter_2, letter_3, letter_4) == ('M', 'A', 'S'):\n",
    "            count += 1\n",
    "\n",
    "    # Cas BG\n",
    "    if ind_lin >=3 and ind_col <= size-4:\n",
    "        letter_2 = data_arr[ind_lin-1][ind_col+1]\n",
    "        letter_3 = data_arr[ind_lin-2][ind_col+2]\n",
    "        letter_4 = data_arr[ind_lin-3][ind_col+3]\n",
    "        if (letter_2, letter_3, letter_4) == ('M', 'A', 'S'):\n",
    "            count += 1\n",
    "\n",
    "count"
   ]
  },
  {
   "cell_type": "code",
   "execution_count": null,
   "metadata": {},
   "outputs": [
    {
     "data": {
      "text/plain": [
       "2554"
      ]
     },
     "execution_count": 56,
     "metadata": {},
     "output_type": "execute_result"
    }
   ],
   "source": [
    "len(re.findall(r'XMAS', data)+\n",
    "    re.findall(r'SAMX', data)+\n",
    "    re.findall(re.compile(r'X(?=.{140}M.{140}A.{140}S)',re.DOTALL), data)+\n",
    "    re.findall(re.compile(r'S(?=.{140}A.{140}M.{140}X)',re.DOTALL), data)+\n",
    "    re.findall(re.compile(r'X(?=.{141}M.{141}A.{141}S)',re.DOTALL), data)+\n",
    "    re.findall(re.compile(r'S(?=.{141}A.{141}M.{141}X)',re.DOTALL), data)+\n",
    "    re.findall(re.compile(r'X(?=.{139}M.{139}A.{139}S)',re.DOTALL), data)+\n",
    "    re.findall(re.compile(r'S(?=.{139}A.{139}M.{139}X)',re.DOTALL), data))"
   ]
  },
  {
   "cell_type": "code",
   "execution_count": 4,
   "metadata": {},
   "outputs": [
    {
     "data": {
      "text/plain": [
       "1916"
      ]
     },
     "execution_count": 4,
     "metadata": {},
     "output_type": "execute_result"
    }
   ],
   "source": [
    "lin, col = np.where(data_arr == 'A')\n",
    "\n",
    "size = len(data_arr)\n",
    "\n",
    "count = 0\n",
    "\n",
    "for index in range(len(lin)):\n",
    "    ind_lin = lin[index]\n",
    "    ind_col = col[index]\n",
    "\n",
    "    if ind_lin==0 or ind_col==0 or ind_lin==size-1 or ind_col==size-1:\n",
    "        continue\n",
    "\n",
    "    if (set([data_arr[ind_lin-1][ind_col-1], data_arr[ind_lin+1][ind_col+1]]) == {'M', 'S'}) and (set([data_arr[ind_lin-1][ind_col+1], data_arr[ind_lin+1][ind_col-1]]) == {'M', 'S'}):\n",
    "        count += 1\n",
    "\n",
    "count"
   ]
  },
  {
   "cell_type": "code",
   "execution_count": 55,
   "metadata": {},
   "outputs": [
    {
     "data": {
      "text/plain": [
       "1916"
      ]
     },
     "execution_count": 55,
     "metadata": {},
     "output_type": "execute_result"
    }
   ],
   "source": [
    "len(re.findall(re.compile(r'M(?=.S.{139}A.{139}M.S)', re.DOTALL), data) + re.findall(re.compile(r'M(?=.M.{139}A.{139}S.S)', re.DOTALL), data) + re.findall(re.compile(r'S(?=.M.{139}A.{139}S.M)', re.DOTALL), data) + re.findall(re.compile(r'S(?=.S.{139}A.{139}M.M)', re.DOTALL), data))"
   ]
  }
 ],
 "metadata": {
  "kernelspec": {
   "display_name": "env_perso",
   "language": "python",
   "name": "python3"
  },
  "language_info": {
   "codemirror_mode": {
    "name": "ipython",
    "version": 3
   },
   "file_extension": ".py",
   "mimetype": "text/x-python",
   "name": "python",
   "nbconvert_exporter": "python",
   "pygments_lexer": "ipython3",
   "version": "3.10.6"
  }
 },
 "nbformat": 4,
 "nbformat_minor": 2
}
