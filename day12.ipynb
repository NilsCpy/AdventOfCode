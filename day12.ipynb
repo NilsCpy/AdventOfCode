{
 "cells": [
  {
   "cell_type": "code",
   "execution_count": 2,
   "metadata": {},
   "outputs": [],
   "source": [
    "import numpy as np"
   ]
  },
  {
   "cell_type": "code",
   "execution_count": 3,
   "metadata": {},
   "outputs": [
    {
     "data": {
      "text/plain": [
       "array([['U', 'U', 'U', ..., 'R', 'R', 'R'],\n",
       "       ['U', 'U', 'U', ..., 'R', 'R', 'R'],\n",
       "       ['U', 'U', 'U', ..., 'B', 'R', 'R'],\n",
       "       ...,\n",
       "       ['R', 'R', 'R', ..., 'J', 'O', 'O'],\n",
       "       ['R', 'R', 'R', ..., 'J', 'O', 'O'],\n",
       "       ['R', 'R', 'R', ..., 'J', 'O', 'O']], dtype='<U32')"
      ]
     },
     "execution_count": 3,
     "metadata": {},
     "output_type": "execute_result"
    }
   ],
   "source": [
    "data = open('data/day12.txt', 'r').read()\n",
    "\n",
    "data_arr = np.zeros((140, 140)).astype(str)\n",
    "for index, line in enumerate(data.split('\\n')[:-1]):\n",
    "    data_arr[index] = list(line)\n",
    "\n",
    "data_arr"
   ]
  },
  {
   "cell_type": "code",
   "execution_count": 105,
   "metadata": {},
   "outputs": [
    {
     "data": {
      "text/plain": [
       "array([['R', 'R', 'R', 'R', 'I', 'I', 'C', 'C', 'F', 'F'],\n",
       "       ['R', 'R', 'R', 'R', 'I', 'I', 'C', 'C', 'C', 'F'],\n",
       "       ['V', 'V', 'R', 'R', 'R', 'C', 'C', 'F', 'F', 'F'],\n",
       "       ['V', 'V', 'R', 'C', 'C', 'C', 'J', 'F', 'F', 'F'],\n",
       "       ['V', 'V', 'V', 'V', 'C', 'J', 'J', 'C', 'F', 'E'],\n",
       "       ['V', 'V', 'I', 'V', 'C', 'C', 'J', 'J', 'E', 'E'],\n",
       "       ['V', 'V', 'I', 'I', 'I', 'C', 'J', 'J', 'E', 'E'],\n",
       "       ['M', 'I', 'I', 'I', 'I', 'I', 'J', 'J', 'E', 'E'],\n",
       "       ['M', 'I', 'I', 'I', 'S', 'I', 'J', 'E', 'E', 'E'],\n",
       "       ['M', 'M', 'M', 'I', 'S', 'S', 'J', 'E', 'E', 'E']], dtype='<U32')"
      ]
     },
     "execution_count": 105,
     "metadata": {},
     "output_type": "execute_result"
    }
   ],
   "source": [
    "data_test = open('other/day12_test.txt', 'r').read()\n",
    "\n",
    "data_test_arr = np.zeros((10, 10)).astype(str)\n",
    "for index, line in enumerate(data_test.split('\\n')[:-1]):\n",
    "    data_test_arr[index] = list(line)\n",
    "\n",
    "data_test_arr"
   ]
  },
  {
   "cell_type": "code",
   "execution_count": 50,
   "metadata": {},
   "outputs": [],
   "source": [
    "def get_neighbours(data, x, y):\n",
    "    l = len(data)\n",
    "    result = []\n",
    "    if x != 0:\n",
    "        result.append((x-1, y))\n",
    "    if x != l-1:\n",
    "        result.append((x+1, y))\n",
    "    if y != 0:\n",
    "        result.append((x, y-1))\n",
    "    if y != l-1:\n",
    "        result.append((x, y+1))\n",
    "    return result"
   ]
  },
  {
   "cell_type": "code",
   "execution_count": 51,
   "metadata": {},
   "outputs": [],
   "source": [
    "def nb_split(field, x, y):\n",
    "    return 4-sum([1 for neigh in get_neighbours(field, x, y) if field[neigh] == field[x][y]])"
   ]
  },
  {
   "cell_type": "code",
   "execution_count": 54,
   "metadata": {},
   "outputs": [],
   "source": [
    "def price_field(field):\n",
    "    l = len(field)\n",
    "    counts = np.unique(field, return_counts=True)\n",
    "    result = {counts[0][index]:[counts[1][index], 0] for index in range(len(counts[0]))}\n",
    "    for lin in range(l):\n",
    "        for col in range(l):\n",
    "            result[field[lin][col]][1] += nb_split(field, lin, col)\n",
    "    price = 0\n",
    "    for elem in result.values():\n",
    "        price += elem[0]*elem[1]\n",
    "    return price\n"
   ]
  },
  {
   "cell_type": "code",
   "execution_count": 55,
   "metadata": {},
   "outputs": [
    {
     "data": {
      "text/plain": [
       "2214"
      ]
     },
     "execution_count": 55,
     "metadata": {},
     "output_type": "execute_result"
    }
   ],
   "source": [
    "price_field(data_test_arr)"
   ]
  },
  {
   "cell_type": "code",
   "execution_count": 62,
   "metadata": {},
   "outputs": [],
   "source": [
    "fieldo = data_test_arr.copy()"
   ]
  },
  {
   "cell_type": "code",
   "execution_count": 63,
   "metadata": {},
   "outputs": [
    {
     "data": {
      "text/plain": [
       "array(['C', 'E', 'F', 'I', 'J', 'M', 'R', 'S', 'V'], dtype='<U32')"
      ]
     },
     "execution_count": 63,
     "metadata": {},
     "output_type": "execute_result"
    }
   ],
   "source": [
    "letters = np.unique(fieldo)\n",
    "letters"
   ]
  },
  {
   "cell_type": "code",
   "execution_count": 76,
   "metadata": {},
   "outputs": [
    {
     "name": "stdout",
     "output_type": "stream",
     "text": [
      "old : I new : .0\n",
      "old : I new : .3\n",
      "old : I new : .4\n",
      "old : I new : .6\n",
      "old : I new : .8\n",
      "old : I new : .11\n",
      "old : I new : .14\n",
      "old : I new : .16\n",
      "old : I new : .17\n"
     ]
    }
   ],
   "source": [
    "fieldo = data_test_arr.copy()\n",
    "letters = np.unique(fieldo)\n",
    "\n",
    "letter = letters[3]\n",
    "for index, coord in enumerate(np.argwhere(fieldo == letter)):\n",
    "    x, y = coord\n",
    "    if fieldo[x][y][0] != '.':\n",
    "        old_val = fieldo[x][y]\n",
    "        fieldo[x][y] = '.' + str(index)\n",
    "        print('old :', old_val, 'new :', fieldo[x][y])\n",
    "        neighs = get_neighbours(fieldo,x, y)\n",
    "        for neigh in neighs:\n",
    "            if fieldo[neigh] == old_val:\n",
    "                fieldo[neigh] = fieldo[x][y]\n"
   ]
  },
  {
   "cell_type": "code",
   "execution_count": 77,
   "metadata": {},
   "outputs": [
    {
     "data": {
      "text/plain": [
       "array([['R', 'R', 'R', 'R', 'I', 'I', 'C', 'C', 'F', 'F'],\n",
       "       ['R', 'R', 'R', 'R', 'I', 'I', 'C', 'C', 'C', 'F'],\n",
       "       ['V', 'V', 'R', 'R', 'R', 'C', 'C', 'F', 'F', 'F'],\n",
       "       ['V', 'V', 'R', 'C', 'C', 'C', 'J', 'F', 'F', 'F'],\n",
       "       ['V', 'V', 'V', 'V', 'C', 'J', 'J', 'C', 'F', 'E'],\n",
       "       ['V', 'V', 'I', 'V', 'C', 'C', 'J', 'J', 'E', 'E'],\n",
       "       ['V', 'V', 'I', 'I', 'I', 'C', 'J', 'J', 'E', 'E'],\n",
       "       ['M', 'I', 'I', 'I', 'I', 'I', 'J', 'J', 'E', 'E'],\n",
       "       ['M', 'I', 'I', 'I', 'S', 'I', 'J', 'E', 'E', 'E'],\n",
       "       ['M', 'M', 'M', 'I', 'S', 'S', 'J', 'E', 'E', 'E']], dtype='<U32')"
      ]
     },
     "execution_count": 77,
     "metadata": {},
     "output_type": "execute_result"
    }
   ],
   "source": [
    "data_test_arr"
   ]
  },
  {
   "cell_type": "code",
   "execution_count": 78,
   "metadata": {},
   "outputs": [
    {
     "data": {
      "text/plain": [
       "array([['R', 'R', 'R', 'R', '.0', '.0', 'C', 'C', 'F', 'F'],\n",
       "       ['R', 'R', 'R', 'R', '.0', '.3', 'C', 'C', 'C', 'F'],\n",
       "       ['V', 'V', 'R', 'R', 'R', 'C', 'C', 'F', 'F', 'F'],\n",
       "       ['V', 'V', 'R', 'C', 'C', 'C', 'J', 'F', 'F', 'F'],\n",
       "       ['V', 'V', 'V', 'V', 'C', 'J', 'J', 'C', 'F', 'E'],\n",
       "       ['V', 'V', '.4', 'V', 'C', 'C', 'J', 'J', 'E', 'E'],\n",
       "       ['V', 'V', '.4', '.6', '.6', 'C', 'J', 'J', 'E', 'E'],\n",
       "       ['M', '.8', '.8', '.6', '.11', '.11', 'J', 'J', 'E', 'E'],\n",
       "       ['M', '.8', '.14', '.14', 'S', '.16', 'J', 'E', 'E', 'E'],\n",
       "       ['M', 'M', 'M', '.17', 'S', 'S', 'J', 'E', 'E', 'E']], dtype='<U32')"
      ]
     },
     "execution_count": 78,
     "metadata": {},
     "output_type": "execute_result"
    }
   ],
   "source": [
    "fieldo"
   ]
  },
  {
   "cell_type": "code",
   "execution_count": null,
   "metadata": {},
   "outputs": [],
   "source": [
    "def change_group(data, x, y, old, new):\n",
    "    neighs = get_neighbours(data, x, y)\n"
   ]
  },
  {
   "cell_type": "code",
   "execution_count": 129,
   "metadata": {},
   "outputs": [],
   "source": [
    "class Field():\n",
    "    def __init__(self, data):\n",
    "        self.field_init = data.copy()\n",
    "        self.field = data.copy()\n",
    "        self.size = len(self.field)\n",
    "        self.vege = np.unique(self.field)\n",
    "\n",
    "    def get_neighbours(self, x, y):\n",
    "        result = []\n",
    "        if x != 0:\n",
    "            result.append((x-1, y))\n",
    "        if x != self.size-1:\n",
    "            result.append((x+1, y))\n",
    "        if y != 0:\n",
    "            result.append((x, y-1))\n",
    "        if y != self.size-1:\n",
    "            result.append((x, y+1))\n",
    "        return result\n",
    "\n",
    "    def nb_split(self, x, y):\n",
    "        return 4-sum([1 for neigh in get_neighbours(self.field, x, y) if self.field[neigh] == self.field[x][y]])\n",
    "\n",
    "    def change_part(self, x, y, old_value, new_value):\n",
    "        for neigh in self.get_neighbours(x, y):\n",
    "            if self.field[neigh] == old_value:\n",
    "                self.field[neigh] = new_value\n",
    "                self.change_part(neigh[0], neigh[1], old_value, new_value)\n",
    "        return self\n",
    "\n",
    "    def change_field(self):\n",
    "        for lin in range(self.size):\n",
    "            for col in range(self.size):\n",
    "                if self.field[lin][col][0] != '.':\n",
    "                    new_val = f'.{lin}-{col}'\n",
    "                    self.change_part(lin, col, self.field[lin][col],new_val)\n",
    "                    self.field[lin][col] = new_val\n",
    "        return self\n",
    "\n",
    "    def price_field(self):\n",
    "        self.change_field()\n",
    "        counts = np.unique(self.field, return_counts=True)\n",
    "        result = {counts[0][index]:[counts[1][index], 0] for index in range(len(counts[0]))}\n",
    "        for lin in range(self.size):\n",
    "            for col in range(self.size):\n",
    "                result[self.field[lin][col]][1] += nb_split(self.field, lin, col)\n",
    "        price = 0\n",
    "        for elem in result.values():\n",
    "            price += elem[0]*elem[1]\n",
    "        return price"
   ]
  },
  {
   "cell_type": "code",
   "execution_count": 134,
   "metadata": {},
   "outputs": [],
   "source": [
    "field = Field(data_arr)"
   ]
  },
  {
   "cell_type": "code",
   "execution_count": 135,
   "metadata": {},
   "outputs": [
    {
     "data": {
      "text/plain": [
       "1370100"
      ]
     },
     "execution_count": 135,
     "metadata": {},
     "output_type": "execute_result"
    }
   ],
   "source": [
    "field.price_field()"
   ]
  },
  {
   "cell_type": "code",
   "execution_count": 127,
   "metadata": {},
   "outputs": [
    {
     "data": {
      "text/plain": [
       "<__main__.Field at 0x7ff4140b6da0>"
      ]
     },
     "execution_count": 127,
     "metadata": {},
     "output_type": "execute_result"
    }
   ],
   "source": [
    "field.change_field()"
   ]
  },
  {
   "cell_type": "code",
   "execution_count": 128,
   "metadata": {},
   "outputs": [
    {
     "data": {
      "text/plain": [
       "array([['.0-0', '.0-0', '.0-0', '.0-0', '.0-4', '.0-4', '.0-6', '.0-6',\n",
       "        '.0-8', '.0-8'],\n",
       "       ['.0-0', '.0-0', '.0-0', '.0-0', '.0-4', '.0-4', '.0-6', '.0-6',\n",
       "        '.0-6', '.0-8'],\n",
       "       ['.2-0', '.2-0', '.0-0', '.0-0', '.0-0', '.0-6', '.0-6', '.0-8',\n",
       "        '.0-8', '.0-8'],\n",
       "       ['.2-0', '.2-0', '.0-0', '.0-6', '.0-6', '.0-6', '.3-6', '.0-8',\n",
       "        '.0-8', '.0-8'],\n",
       "       ['.2-0', '.2-0', '.2-0', '.2-0', '.0-6', '.3-6', '.3-6', '.4-7',\n",
       "        '.0-8', '.4-9'],\n",
       "       ['.2-0', '.2-0', '.5-2', '.2-0', '.0-6', '.0-6', '.3-6', '.3-6',\n",
       "        '.4-9', '.4-9'],\n",
       "       ['.2-0', '.2-0', '.5-2', '.5-2', '.5-2', '.0-6', '.3-6', '.3-6',\n",
       "        '.4-9', '.4-9'],\n",
       "       ['.7-0', '.5-2', '.5-2', '.5-2', '.5-2', '.5-2', '.3-6', '.3-6',\n",
       "        '.4-9', '.4-9'],\n",
       "       ['.7-0', '.5-2', '.5-2', '.5-2', '.8-4', '.5-2', '.3-6', '.4-9',\n",
       "        '.4-9', '.4-9'],\n",
       "       ['.7-0', '.7-0', '.7-0', '.5-2', '.8-4', '.8-4', '.3-6', '.4-9',\n",
       "        '.4-9', '.4-9']], dtype='<U32')"
      ]
     },
     "execution_count": 128,
     "metadata": {},
     "output_type": "execute_result"
    }
   ],
   "source": [
    "field.field"
   ]
  },
  {
   "cell_type": "code",
   "execution_count": 111,
   "metadata": {},
   "outputs": [
    {
     "data": {
      "text/plain": [
       "array([['R', 'R', 'R', 'R', 'I', 'I', 'C', 'C', 'F', 'F'],\n",
       "       ['R', 'R', 'R', 'R', 'I', 'I', 'C', 'C', 'C', 'F'],\n",
       "       ['V', 'V', 'R', 'R', 'R', 'C', 'C', 'F', 'F', 'F'],\n",
       "       ['V', 'V', 'R', 'C', 'C', 'C', 'J', 'F', 'F', 'F'],\n",
       "       ['V', 'V', 'V', 'V', 'C', 'J', 'J', 'C', 'F', 'E'],\n",
       "       ['V', 'V', 'I', 'V', 'C', 'C', 'J', 'J', 'E', 'E'],\n",
       "       ['V', 'V', 'I', 'I', 'I', 'C', 'J', 'J', 'E', 'E'],\n",
       "       ['M', 'I', 'I', 'I', 'I', 'I', 'J', 'J', 'E', 'E'],\n",
       "       ['M', 'I', 'I', 'I', 'S', 'I', 'J', 'E', 'E', 'E'],\n",
       "       ['M', 'M', 'M', 'I', 'S', 'S', 'J', 'E', 'E', 'E']], dtype='<U32')"
      ]
     },
     "execution_count": 111,
     "metadata": {},
     "output_type": "execute_result"
    }
   ],
   "source": [
    "field.field_init"
   ]
  },
  {
   "cell_type": "code",
   "execution_count": null,
   "metadata": {},
   "outputs": [],
   "source": []
  }
 ],
 "metadata": {
  "kernelspec": {
   "display_name": "env_perso",
   "language": "python",
   "name": "python3"
  },
  "language_info": {
   "codemirror_mode": {
    "name": "ipython",
    "version": 3
   },
   "file_extension": ".py",
   "mimetype": "text/x-python",
   "name": "python",
   "nbconvert_exporter": "python",
   "pygments_lexer": "ipython3",
   "version": "3.10.6"
  }
 },
 "nbformat": 4,
 "nbformat_minor": 2
}
