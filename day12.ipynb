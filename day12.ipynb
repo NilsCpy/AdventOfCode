{
 "cells": [
  {
   "cell_type": "code",
   "execution_count": 5,
   "metadata": {},
   "outputs": [],
   "source": [
    "import numpy as np"
   ]
  },
  {
   "cell_type": "code",
   "execution_count": 7,
   "metadata": {},
   "outputs": [
    {
     "data": {
      "text/plain": [
       "array([['U', 'U', 'U', ..., 'R', 'R', 'R'],\n",
       "       ['U', 'U', 'U', ..., 'R', 'R', 'R'],\n",
       "       ['U', 'U', 'U', ..., 'B', 'R', 'R'],\n",
       "       ...,\n",
       "       ['R', 'R', 'R', ..., 'J', 'O', 'O'],\n",
       "       ['R', 'R', 'R', ..., 'J', 'O', 'O'],\n",
       "       ['R', 'R', 'R', ..., 'J', 'O', 'O']], dtype='<U32')"
      ]
     },
     "execution_count": 7,
     "metadata": {},
     "output_type": "execute_result"
    }
   ],
   "source": [
    "data = open('data/day12.txt', 'r').read()\n",
    "\n",
    "data_arr = np.zeros((140, 140)).astype(str)\n",
    "for index, line in enumerate(data.split('\\n')[:-1]):\n",
    "    data_arr[index] = list(line)\n",
    "\n",
    "data_arr"
   ]
  },
  {
   "cell_type": "code",
   "execution_count": null,
   "metadata": {},
   "outputs": [
    {
     "data": {
      "text/plain": [
       "array([['R', 'R', 'R', 'R', 'I', 'I', 'C', 'C', 'F', 'F'],\n",
       "       ['R', 'R', 'R', 'R', 'I', 'I', 'C', 'C', 'C', 'F'],\n",
       "       ['V', 'V', 'R', 'R', 'R', 'C', 'C', 'F', 'F', 'F'],\n",
       "       ['V', 'V', 'R', 'C', 'C', 'C', 'J', 'F', 'F', 'F'],\n",
       "       ['V', 'V', 'V', 'V', 'C', 'J', 'J', 'C', 'F', 'E'],\n",
       "       ['V', 'V', 'I', 'V', 'C', 'C', 'J', 'J', 'E', 'E'],\n",
       "       ['V', 'V', 'I', 'I', 'I', 'C', 'J', 'J', 'E', 'E'],\n",
       "       ['M', 'I', 'I', 'I', 'I', 'I', 'J', 'J', 'E', 'E'],\n",
       "       ['M', 'I', 'I', 'I', 'S', 'I', 'J', 'E', 'E', 'E'],\n",
       "       ['M', 'M', 'M', 'I', 'S', 'S', 'J', 'E', 'E', 'E']], dtype='<U32')"
      ]
     },
     "execution_count": 105,
     "metadata": {},
     "output_type": "execute_result"
    }
   ],
   "source": [
    "data_test = open('other/day12_test.txt', 'r').read()\n",
    "\n",
    "data_test_arr = np.zeros((10, 10)).astype(str)\n",
    "for index, line in enumerate(data_test.split('\\n')[:-1]):\n",
    "    data_test_arr[index] = list(line)\n",
    "\n",
    "data_test_arr"
   ]
  },
  {
   "cell_type": "code",
   "execution_count": null,
   "metadata": {},
   "outputs": [],
   "source": [
    "class Field():\n",
    "    def __init__(self, data):\n",
    "        self.field_init = data.copy()\n",
    "        self.field = data.copy()\n",
    "        self.size = len(self.field)\n",
    "        self.vege = np.unique(self.field)\n",
    "\n",
    "    def get_neighbours(self, x, y):\n",
    "        result = []\n",
    "        if x != 0:\n",
    "            result.append((x-1, y))\n",
    "        if x != self.size-1:\n",
    "            result.append((x+1, y))\n",
    "        if y != 0:\n",
    "            result.append((x, y-1))\n",
    "        if y != self.size-1:\n",
    "            result.append((x, y+1))\n",
    "        return result\n",
    "\n",
    "    def nb_split(self, x, y):\n",
    "        return 4-sum([1 for neigh in self.get_neighbours(x, y) if self.field[neigh] == self.field[x][y]])\n",
    "\n",
    "    def change_part(self, x, y, old_value, new_value):\n",
    "        for neigh in self.get_neighbours(x, y):\n",
    "            if self.field[neigh] == old_value:\n",
    "                self.field[neigh] = new_value\n",
    "                self.change_part(neigh[0], neigh[1], old_value, new_value)\n",
    "        return self\n",
    "\n",
    "    def change_field(self):\n",
    "        for lin in range(self.size):\n",
    "            for col in range(self.size):\n",
    "                if self.field[lin][col][0] != '.':\n",
    "                    new_val = f'.{lin}-{col}'\n",
    "                    self.change_part(lin, col, self.field[lin][col],new_val)\n",
    "                    self.field[lin][col] = new_val\n",
    "        return self\n",
    "\n",
    "    def price_field(self):\n",
    "        self.change_field()\n",
    "        counts = np.unique(self.field, return_counts=True)\n",
    "        result = {counts[0][index]:[counts[1][index], 0] for index in range(len(counts[0]))}\n",
    "        for lin in range(self.size):\n",
    "            for col in range(self.size):\n",
    "                result[self.field[lin][col]][1] += self.nb_split(lin, col)\n",
    "        price = 0\n",
    "        for elem in result.values():\n",
    "            price += elem[0]*elem[1]\n",
    "        return price"
   ]
  },
  {
   "cell_type": "code",
   "execution_count": 15,
   "metadata": {},
   "outputs": [],
   "source": [
    "field = Field(data_arr)"
   ]
  },
  {
   "cell_type": "code",
   "execution_count": 16,
   "metadata": {},
   "outputs": [
    {
     "data": {
      "text/plain": [
       "1370100"
      ]
     },
     "execution_count": 16,
     "metadata": {},
     "output_type": "execute_result"
    }
   ],
   "source": [
    "field.price_field()"
   ]
  },
  {
   "cell_type": "code",
   "execution_count": 17,
   "metadata": {},
   "outputs": [
    {
     "data": {
      "text/plain": [
       "array([['.0-0', '.0-0', '.0-0', ..., '.0-136', '.0-136', '.0-136'],\n",
       "       ['.0-0', '.0-0', '.0-0', ..., '.0-136', '.0-136', '.0-136'],\n",
       "       ['.0-0', '.0-0', '.0-0', ..., '.0-128', '.0-136', '.0-136'],\n",
       "       ...,\n",
       "       ['.125-4', '.125-4', '.125-4', ..., '.126-132', '.136-138',\n",
       "        '.136-138'],\n",
       "       ['.125-4', '.125-4', '.125-4', ..., '.126-132', '.136-138',\n",
       "        '.136-138'],\n",
       "       ['.125-4', '.125-4', '.125-4', ..., '.126-132', '.136-138',\n",
       "        '.136-138']], dtype='<U32')"
      ]
     },
     "execution_count": 17,
     "metadata": {},
     "output_type": "execute_result"
    }
   ],
   "source": [
    "field.field"
   ]
  },
  {
   "cell_type": "code",
   "execution_count": 18,
   "metadata": {},
   "outputs": [
    {
     "data": {
      "text/plain": [
       "array([['U', 'U', 'U', ..., 'R', 'R', 'R'],\n",
       "       ['U', 'U', 'U', ..., 'R', 'R', 'R'],\n",
       "       ['U', 'U', 'U', ..., 'B', 'R', 'R'],\n",
       "       ...,\n",
       "       ['R', 'R', 'R', ..., 'J', 'O', 'O'],\n",
       "       ['R', 'R', 'R', ..., 'J', 'O', 'O'],\n",
       "       ['R', 'R', 'R', ..., 'J', 'O', 'O']], dtype='<U32')"
      ]
     },
     "execution_count": 18,
     "metadata": {},
     "output_type": "execute_result"
    }
   ],
   "source": [
    "field.field_init"
   ]
  },
  {
   "cell_type": "code",
   "execution_count": null,
   "metadata": {},
   "outputs": [],
   "source": []
  }
 ],
 "metadata": {
  "kernelspec": {
   "display_name": "global_env",
   "language": "python",
   "name": "python3"
  },
  "language_info": {
   "codemirror_mode": {
    "name": "ipython",
    "version": 3
   },
   "file_extension": ".py",
   "mimetype": "text/x-python",
   "name": "python",
   "nbconvert_exporter": "python",
   "pygments_lexer": "ipython3",
   "version": "3.10.6"
  }
 },
 "nbformat": 4,
 "nbformat_minor": 2
}
