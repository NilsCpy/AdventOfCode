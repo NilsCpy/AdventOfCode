{
 "cells": [
  {
   "cell_type": "code",
   "execution_count": 2,
   "metadata": {},
   "outputs": [],
   "source": [
    "import numpy as np"
   ]
  },
  {
   "cell_type": "code",
   "execution_count": 3,
   "metadata": {},
   "outputs": [
    {
     "data": {
      "text/plain": [
       "array([['U', 'U', 'U', ..., 'R', 'R', 'R'],\n",
       "       ['U', 'U', 'U', ..., 'R', 'R', 'R'],\n",
       "       ['U', 'U', 'U', ..., 'B', 'R', 'R'],\n",
       "       ...,\n",
       "       ['R', 'R', 'R', ..., 'J', 'O', 'O'],\n",
       "       ['R', 'R', 'R', ..., 'J', 'O', 'O'],\n",
       "       ['R', 'R', 'R', ..., 'J', 'O', 'O']], dtype='<U32')"
      ]
     },
     "execution_count": 3,
     "metadata": {},
     "output_type": "execute_result"
    }
   ],
   "source": [
    "data = open('data/day12.txt', 'r').read()\n",
    "\n",
    "data_arr = np.zeros((140, 140)).astype(str)\n",
    "for index, line in enumerate(data.split('\\n')[:-1]):\n",
    "    data_arr[index] = list(line)\n",
    "\n",
    "data_arr"
   ]
  },
  {
   "cell_type": "code",
   "execution_count": 4,
   "metadata": {},
   "outputs": [
    {
     "data": {
      "text/plain": [
       "array([['R', 'R', 'R', 'R', 'I', 'I', 'C', 'C', 'F', 'F'],\n",
       "       ['R', 'R', 'R', 'R', 'I', 'I', 'C', 'C', 'C', 'F'],\n",
       "       ['V', 'V', 'R', 'R', 'R', 'C', 'C', 'F', 'F', 'F'],\n",
       "       ['V', 'V', 'R', 'C', 'C', 'C', 'J', 'F', 'F', 'F'],\n",
       "       ['V', 'V', 'V', 'V', 'C', 'J', 'J', 'C', 'F', 'E'],\n",
       "       ['V', 'V', 'I', 'V', 'C', 'C', 'J', 'J', 'E', 'E'],\n",
       "       ['V', 'V', 'I', 'I', 'I', 'C', 'J', 'J', 'E', 'E'],\n",
       "       ['M', 'I', 'I', 'I', 'I', 'I', 'J', 'J', 'E', 'E'],\n",
       "       ['M', 'I', 'I', 'I', 'S', 'I', 'J', 'E', 'E', 'E'],\n",
       "       ['M', 'M', 'M', 'I', 'S', 'S', 'J', 'E', 'E', 'E']], dtype='<U32')"
      ]
     },
     "execution_count": 4,
     "metadata": {},
     "output_type": "execute_result"
    }
   ],
   "source": [
    "data_test = open('other/day12_test.txt', 'r').read()\n",
    "\n",
    "data_test_arr = np.zeros((10, 10)).astype(str)\n",
    "for index, line in enumerate(data_test.split('\\n')[:-1]):\n",
    "    data_test_arr[index] = list(line)\n",
    "\n",
    "data_test_arr"
   ]
  },
  {
   "cell_type": "code",
   "execution_count": 264,
   "metadata": {},
   "outputs": [
    {
     "data": {
      "text/plain": [
       "array([['A', 'A', 'A', 'A', 'A', 'A'],\n",
       "       ['A', 'A', 'A', 'B', 'B', 'A'],\n",
       "       ['A', 'A', 'A', 'B', 'B', 'A'],\n",
       "       ['A', 'B', 'B', 'A', 'A', 'A'],\n",
       "       ['A', 'B', 'B', 'A', 'A', 'A'],\n",
       "       ['A', 'A', 'A', 'A', 'A', 'A']], dtype='<U32')"
      ]
     },
     "execution_count": 264,
     "metadata": {},
     "output_type": "execute_result"
    }
   ],
   "source": [
    "data2_test = open('other/day12_test2.txt', 'r').read()\n",
    "\n",
    "data2_test_arr = np.zeros((6, 6)).astype(str)\n",
    "for index, line in enumerate(data2_test.split('\\n')[:-1]):\n",
    "    data2_test_arr[index] = list(line)\n",
    "\n",
    "data2_test_arr"
   ]
  },
  {
   "cell_type": "code",
   "execution_count": 274,
   "metadata": {},
   "outputs": [],
   "source": [
    "class Field():\n",
    "    def __init__(self, data):\n",
    "        self.field_init = data.copy()\n",
    "        self.field = data.copy()\n",
    "        self.size = len(self.field)\n",
    "        self.vege = np.unique(self.field)\n",
    "        self.vege_new = self.vege\n",
    "\n",
    "    def get_neighbours(self, x, y):\n",
    "        result = []\n",
    "        if x != 0:\n",
    "            result.append((x-1, y))\n",
    "        if x != self.size-1:\n",
    "            result.append((x+1, y))\n",
    "        if y != 0:\n",
    "            result.append((x, y-1))\n",
    "        if y != self.size-1:\n",
    "            result.append((x, y+1))\n",
    "        return result\n",
    "\n",
    "    def nb_split(self, x, y):\n",
    "        return 4-sum([1 for neigh in self.get_neighbours(x, y) if self.field[neigh] == self.field[x][y]])\n",
    "\n",
    "    def change_part(self, x, y, old_value, new_value):\n",
    "        for neigh in self.get_neighbours(x, y):\n",
    "            if self.field[neigh] == old_value:\n",
    "                self.field[neigh] = new_value\n",
    "                self.change_part(neigh[0], neigh[1], old_value, new_value)\n",
    "        return self\n",
    "\n",
    "    def change_field(self):\n",
    "        for lin in range(self.size):\n",
    "            for col in range(self.size):\n",
    "                if self.field[lin][col][0] != '.':\n",
    "                    new_val = f'.{lin}-{col}'\n",
    "                    self.change_part(lin, col, self.field[lin][col],new_val)\n",
    "                    self.field[lin][col] = new_val\n",
    "        self.vege_new = np.unique(self.field)\n",
    "        return self\n",
    "\n",
    "    def price_field(self):\n",
    "        self.change_field()\n",
    "        counts = np.unique(self.field, return_counts=True)\n",
    "        result = {counts[0][index]:[counts[1][index], 0] for index in range(len(counts[0]))}\n",
    "        for lin in range(self.size):\n",
    "            for col in range(self.size):\n",
    "                result[self.field[lin][col]][1] += self.nb_split(lin, col)\n",
    "        price = 0\n",
    "        for elem in result.values():\n",
    "            price += elem[0]*elem[1]\n",
    "        return price\n",
    "\n",
    "    ## Part 2\n",
    "    def get_parcel(self, type_vege):\n",
    "        xs, ys = np.where(self.field == type_vege)\n",
    "        min_x, max_x = np.min(xs), np.max(xs)\n",
    "        min_y, max_y = np.min(ys), np.max(ys)\n",
    "        return self.field[min_x:max_x+1, min_y: max_y+1]\n",
    "\n",
    "    def expand_parcel(self, parcel):\n",
    "        height, width = len(parcel), len(parcel[0])\n",
    "        exp_parcel = []\n",
    "        for lin in range(2*height+1):\n",
    "            if lin % 2 == 0:\n",
    "                exp_parcel.append(['.']*(2*width+1))\n",
    "            else:\n",
    "                line = ['.']\n",
    "                for col in range(width):\n",
    "                    line.append(parcel[(lin-1)//2, col])\n",
    "                    line.append('.')\n",
    "                exp_parcel.append(line)\n",
    "        return np.array(exp_parcel)\n",
    "\n",
    "    def draw_bounds(self, exp_parcel, type_vege):\n",
    "        height, width = len(exp_parcel), len(exp_parcel[0])\n",
    "        for lin in range(height):\n",
    "            for col in range(width):\n",
    "\n",
    "                vert_n, horiz_n = [], []\n",
    "                if lin != 0:\n",
    "                    vert_n.append((lin-1, col))\n",
    "                if lin != height-1:\n",
    "                    vert_n.append((lin+1, col))\n",
    "                if col != 0:\n",
    "                    horiz_n.append((lin, col-1))\n",
    "                if col != width-1:\n",
    "                    horiz_n.append((lin, col+1))\n",
    "\n",
    "                if len(vert_n) == 1:\n",
    "                    if exp_parcel[vert_n[0]] == type_vege:\n",
    "                        exp_parcel[lin, col] = '----'\n",
    "                else:\n",
    "                    if (exp_parcel[vert_n[0]] == type_vege and exp_parcel[vert_n[1]] != type_vege) or (exp_parcel[vert_n[0]] != type_vege and exp_parcel[vert_n[1]] == type_vege):\n",
    "                        exp_parcel[lin, col] = '----'\n",
    "\n",
    "                if len(horiz_n) == 1:\n",
    "                    if exp_parcel[horiz_n[0]] == type_vege:\n",
    "                        exp_parcel[lin, col] = '|'\n",
    "                else:\n",
    "                    if (exp_parcel[horiz_n[0]] == type_vege and exp_parcel[horiz_n[1]] != type_vege) or (exp_parcel[horiz_n[0]] != type_vege and exp_parcel[horiz_n[1]] == type_vege):\n",
    "                        exp_parcel[lin, col] = '|'\n",
    "\n",
    "        return exp_parcel\n",
    "\n",
    "    def count_angles(self, bounded_parcel):\n",
    "        nb_angles = 0\n",
    "        height, width = len(bounded_parcel), len(bounded_parcel[0])\n",
    "        for lin in range(height):\n",
    "            for col in range(width):\n",
    "\n",
    "                neighs = []\n",
    "                if lin != 0:\n",
    "                    if bounded_parcel[lin-1, col] == '|':\n",
    "                        neighs.append(1)\n",
    "                if lin != height-1:\n",
    "                    if bounded_parcel[lin+1, col] == '|':\n",
    "                        neighs.append(1)\n",
    "                if col != 0:\n",
    "                    if bounded_parcel[lin, col-1] == '----':\n",
    "                        neighs.append(2)\n",
    "                if col != width-1:\n",
    "                    if bounded_parcel[lin, col+1] == '----':\n",
    "                        neighs.append(2)\n",
    "\n",
    "                neighs.sort()\n",
    "                if neighs == [1, 2]:\n",
    "                    nb_angles += 1\n",
    "                if neighs == [1, 1, 2, 2]:\n",
    "                    nb_angles += 2\n",
    "\n",
    "\n",
    "        return nb_angles\n",
    "\n",
    "    def price_field_2(self):\n",
    "        self.change_field()\n",
    "        counts = np.unique(self.field, return_counts=True)\n",
    "        result = {counts[0][index]:[counts[1][index], 0] for index in range(len(counts[0]))}\n",
    "        for vege in self.vege_new:\n",
    "            result[vege][1] = self.count_angles(self.draw_bounds(self.expand_parcel(self.get_parcel(vege)), vege))\n",
    "\n",
    "        price = 0\n",
    "        for elem in result.values():\n",
    "            price += elem[0]*elem[1]\n",
    "        return price"
   ]
  },
  {
   "cell_type": "code",
   "execution_count": 275,
   "metadata": {},
   "outputs": [],
   "source": [
    "field = Field(data_arr)"
   ]
  },
  {
   "cell_type": "code",
   "execution_count": 276,
   "metadata": {},
   "outputs": [
    {
     "data": {
      "text/plain": [
       "1370100"
      ]
     },
     "execution_count": 276,
     "metadata": {},
     "output_type": "execute_result"
    }
   ],
   "source": [
    "field.price_field()"
   ]
  },
  {
   "cell_type": "code",
   "execution_count": 277,
   "metadata": {},
   "outputs": [
    {
     "data": {
      "text/plain": [
       "818286"
      ]
     },
     "execution_count": 277,
     "metadata": {},
     "output_type": "execute_result"
    }
   ],
   "source": [
    "field.price_field_2()"
   ]
  }
 ],
 "metadata": {
  "kernelspec": {
   "display_name": "env_perso",
   "language": "python",
   "name": "python3"
  },
  "language_info": {
   "codemirror_mode": {
    "name": "ipython",
    "version": 3
   },
   "file_extension": ".py",
   "mimetype": "text/x-python",
   "name": "python",
   "nbconvert_exporter": "python",
   "pygments_lexer": "ipython3",
   "version": "3.10.6"
  }
 },
 "nbformat": 4,
 "nbformat_minor": 2
}
