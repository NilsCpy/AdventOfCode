{
 "cells": [
  {
   "cell_type": "code",
   "execution_count": 1,
   "metadata": {},
   "outputs": [],
   "source": [
    "import numpy as np"
   ]
  },
  {
   "cell_type": "code",
   "execution_count": 5,
   "metadata": {},
   "outputs": [
    {
     "data": {
      "text/plain": [
       "array([['U', 'U', 'U', ..., 'R', 'R', 'R'],\n",
       "       ['U', 'U', 'U', ..., 'R', 'R', 'R'],\n",
       "       ['U', 'U', 'U', ..., 'B', 'R', 'R'],\n",
       "       ...,\n",
       "       ['R', 'R', 'R', ..., 'J', 'O', 'O'],\n",
       "       ['R', 'R', 'R', ..., 'J', 'O', 'O'],\n",
       "       ['R', 'R', 'R', ..., 'J', 'O', 'O']], dtype='<U32')"
      ]
     },
     "execution_count": 5,
     "metadata": {},
     "output_type": "execute_result"
    }
   ],
   "source": [
    "data = open('data/day12.txt', 'r').read()\n",
    "\n",
    "data_arr = np.zeros((140, 140)).astype(str)\n",
    "for index, line in enumerate(data.split('\\n')[:-1]):\n",
    "    data_arr[index] = list(line)\n",
    "\n",
    "data_arr"
   ]
  },
  {
   "cell_type": "code",
   "execution_count": null,
   "metadata": {},
   "outputs": [],
   "source": []
  }
 ],
 "metadata": {
  "kernelspec": {
   "display_name": "env_perso",
   "language": "python",
   "name": "python3"
  },
  "language_info": {
   "codemirror_mode": {
    "name": "ipython",
    "version": 3
   },
   "file_extension": ".py",
   "mimetype": "text/x-python",
   "name": "python",
   "nbconvert_exporter": "python",
   "pygments_lexer": "ipython3",
   "version": "3.10.6"
  }
 },
 "nbformat": 4,
 "nbformat_minor": 2
}
