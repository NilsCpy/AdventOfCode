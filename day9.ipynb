{
 "cells": [
  {
   "cell_type": "code",
   "execution_count": 113,
   "metadata": {},
   "outputs": [],
   "source": [
    "import numpy as np\n",
    "import pandas as pd"
   ]
  },
  {
   "cell_type": "code",
   "execution_count": 114,
   "metadata": {},
   "outputs": [],
   "source": [
    "data = open('data/day9.txt', 'r').read()\n",
    "data_test = '2333133121414131402'"
   ]
  },
  {
   "cell_type": "code",
   "execution_count": 115,
   "metadata": {},
   "outputs": [],
   "source": [
    "data_list = [elem for elem in data][:-1]"
   ]
  },
  {
   "cell_type": "code",
   "execution_count": 116,
   "metadata": {},
   "outputs": [
    {
     "data": {
      "text/plain": [
       "95112"
      ]
     },
     "execution_count": 116,
     "metadata": {},
     "output_type": "execute_result"
    }
   ],
   "source": [
    "prod = 0\n",
    "for elem in data_list:\n",
    "    prod += int(elem)\n",
    "prod"
   ]
  },
  {
   "cell_type": "code",
   "execution_count": 117,
   "metadata": {},
   "outputs": [],
   "source": [
    "def generate_disk(data_l):\n",
    "    result = []\n",
    "    for index, elem in enumerate(data_l):\n",
    "        # file\n",
    "        if index % 2 == 0:\n",
    "            result = result + [int(index/2)] * int(elem)\n",
    "        # empty space\n",
    "        else:\n",
    "            result = result + ['.'] * int(elem)\n",
    "    return result"
   ]
  },
  {
   "cell_type": "code",
   "execution_count": 118,
   "metadata": {},
   "outputs": [],
   "source": [
    "def del_last_pts(l):\n",
    "    result = l[::-1]\n",
    "    nb_del = 0\n",
    "    for elem in result:\n",
    "        if elem == '.':\n",
    "            nb_del += 1\n",
    "        else:\n",
    "            break\n",
    "    return result[nb_del:][::-1]"
   ]
  },
  {
   "cell_type": "code",
   "execution_count": null,
   "metadata": {},
   "outputs": [],
   "source": [
    "def compact_disk(disk_l):\n",
    "    result = disk_l.copy()\n",
    "    total_len = len([elem for elem in disk_l if elem != '.'])\n",
    "    index = 0\n",
    "    while len([elem for elem in result if elem != '.']) != len(del_last_pts(result)):\n",
    "        elem = result[index]\n",
    "\n",
    "        if elem == '.':\n",
    "            elem_repl = result[-1]\n",
    "            while elem_repl=='.':\n",
    "                result.pop(-1)\n",
    "                elem_repl = result[-1]\n",
    "            result.pop(-1)\n",
    "            result[index] = elem_repl\n",
    "\n",
    "        index = index + 1\n",
    "\n",
    "    return result"
   ]
  },
  {
   "cell_type": "code",
   "execution_count": 120,
   "metadata": {},
   "outputs": [],
   "source": [
    "def checksum(disk):\n",
    "    result = 0\n",
    "    for index, elem in enumerate(disk):\n",
    "        result = result + index*int(elem)\n",
    "    return result"
   ]
  },
  {
   "cell_type": "code",
   "execution_count": 121,
   "metadata": {},
   "outputs": [
    {
     "data": {
      "text/plain": [
       "1928"
      ]
     },
     "execution_count": 121,
     "metadata": {},
     "output_type": "execute_result"
    }
   ],
   "source": [
    "disk_test = generate_disk([elem for elem in data_test])\n",
    "disk_test_compact = compact_disk(disk_test)\n",
    "checksum(disk_test_compact)"
   ]
  },
  {
   "cell_type": "code",
   "execution_count": null,
   "metadata": {},
   "outputs": [
    {
     "name": "stdout",
     "output_type": "stream",
     "text": [
      "Generating Disk\n",
      "Compacting Disk\n",
      "Checksumming Disk\n"
     ]
    },
    {
     "data": {
      "text/plain": [
       "6390180901651"
      ]
     },
     "execution_count": 122,
     "metadata": {},
     "output_type": "execute_result"
    }
   ],
   "source": [
    "disk = generate_disk(data_list)\n",
    "disk_compact = compact_disk(disk)\n",
    "checksum(del_last_pts(disk_compact))"
   ]
  },
  {
   "cell_type": "code",
   "execution_count": null,
   "metadata": {},
   "outputs": [],
   "source": []
  }
 ],
 "metadata": {
  "kernelspec": {
   "display_name": "env_perso",
   "language": "python",
   "name": "python3"
  },
  "language_info": {
   "codemirror_mode": {
    "name": "ipython",
    "version": 3
   },
   "file_extension": ".py",
   "mimetype": "text/x-python",
   "name": "python",
   "nbconvert_exporter": "python",
   "pygments_lexer": "ipython3",
   "version": "3.10.6"
  }
 },
 "nbformat": 4,
 "nbformat_minor": 2
}
