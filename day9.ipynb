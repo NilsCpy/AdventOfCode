{
 "cells": [
  {
   "cell_type": "code",
   "execution_count": 2,
   "metadata": {},
   "outputs": [],
   "source": [
    "import numpy as np\n",
    "import pandas as pd"
   ]
  },
  {
   "cell_type": "code",
   "execution_count": 3,
   "metadata": {},
   "outputs": [],
   "source": [
    "data = open('data/day9.txt', 'r').read()\n",
    "data_test = '2333133121414131402'"
   ]
  },
  {
   "cell_type": "code",
   "execution_count": 4,
   "metadata": {},
   "outputs": [],
   "source": [
    "data_list = [elem for elem in data][:-1]"
   ]
  },
  {
   "cell_type": "code",
   "execution_count": 5,
   "metadata": {},
   "outputs": [
    {
     "data": {
      "text/plain": [
       "95112"
      ]
     },
     "execution_count": 5,
     "metadata": {},
     "output_type": "execute_result"
    }
   ],
   "source": [
    "prod = 0\n",
    "for elem in data_list:\n",
    "    prod += int(elem)\n",
    "prod"
   ]
  },
  {
   "cell_type": "code",
   "execution_count": 6,
   "metadata": {},
   "outputs": [],
   "source": [
    "def generate_disk(data_l):\n",
    "    result = []\n",
    "    for index, elem in enumerate(data_l):\n",
    "        # file\n",
    "        if index % 2 == 0:\n",
    "            result = result + [int(index/2)] * int(elem)\n",
    "        # empty space\n",
    "        else:\n",
    "            result = result + ['.'] * int(elem)\n",
    "    return result"
   ]
  },
  {
   "cell_type": "code",
   "execution_count": 7,
   "metadata": {},
   "outputs": [],
   "source": [
    "def del_last_pts(l):\n",
    "    result = l[::-1]\n",
    "    nb_del = 0\n",
    "    for elem in result:\n",
    "        if elem == '.':\n",
    "            nb_del += 1\n",
    "        else:\n",
    "            break\n",
    "    return result[nb_del:][::-1]"
   ]
  },
  {
   "cell_type": "code",
   "execution_count": 8,
   "metadata": {},
   "outputs": [],
   "source": [
    "def compact_disk(disk_l):\n",
    "    result = disk_l.copy()\n",
    "    total_len = len([elem for elem in disk_l if elem != '.'])\n",
    "    index = 0\n",
    "    while len([elem for elem in result if elem != '.']) != len(del_last_pts(result)):\n",
    "        elem = result[index]\n",
    "\n",
    "        if elem == '.':\n",
    "            elem_repl = result[-1]\n",
    "            while elem_repl=='.':\n",
    "                result.pop(-1)\n",
    "                elem_repl = result[-1]\n",
    "            result.pop(-1)\n",
    "            result[index] = elem_repl\n",
    "\n",
    "        index = index + 1\n",
    "\n",
    "    return result"
   ]
  },
  {
   "cell_type": "code",
   "execution_count": 9,
   "metadata": {},
   "outputs": [],
   "source": [
    "def checksum(disk):\n",
    "    result = 0\n",
    "    for index, elem in enumerate(disk):\n",
    "        result = result + index*int(elem)\n",
    "    return result"
   ]
  },
  {
   "cell_type": "code",
   "execution_count": 10,
   "metadata": {},
   "outputs": [
    {
     "data": {
      "text/plain": [
       "1928"
      ]
     },
     "execution_count": 10,
     "metadata": {},
     "output_type": "execute_result"
    }
   ],
   "source": [
    "disk_test = generate_disk([elem for elem in data_test])\n",
    "disk_test_compact = compact_disk(disk_test)\n",
    "checksum(disk_test_compact)"
   ]
  },
  {
   "cell_type": "code",
   "execution_count": 11,
   "metadata": {},
   "outputs": [
    {
     "ename": "KeyboardInterrupt",
     "evalue": "",
     "output_type": "error",
     "traceback": [
      "\u001b[0;31m---------------------------------------------------------------------------\u001b[0m",
      "\u001b[0;31mKeyboardInterrupt\u001b[0m                         Traceback (most recent call last)",
      "Cell \u001b[0;32mIn[11], line 2\u001b[0m\n\u001b[1;32m      1\u001b[0m disk \u001b[38;5;241m=\u001b[39m generate_disk(data_list)\n\u001b[0;32m----> 2\u001b[0m disk_compact \u001b[38;5;241m=\u001b[39m \u001b[43mcompact_disk\u001b[49m\u001b[43m(\u001b[49m\u001b[43mdisk\u001b[49m\u001b[43m)\u001b[49m\n\u001b[1;32m      3\u001b[0m checksum(del_last_pts(disk_compact))\n",
      "Cell \u001b[0;32mIn[8], line 5\u001b[0m, in \u001b[0;36mcompact_disk\u001b[0;34m(disk_l)\u001b[0m\n\u001b[1;32m      3\u001b[0m total_len \u001b[38;5;241m=\u001b[39m \u001b[38;5;28mlen\u001b[39m([elem \u001b[38;5;28;01mfor\u001b[39;00m elem \u001b[38;5;129;01min\u001b[39;00m disk_l \u001b[38;5;28;01mif\u001b[39;00m elem \u001b[38;5;241m!=\u001b[39m \u001b[38;5;124m'\u001b[39m\u001b[38;5;124m.\u001b[39m\u001b[38;5;124m'\u001b[39m])\n\u001b[1;32m      4\u001b[0m index \u001b[38;5;241m=\u001b[39m \u001b[38;5;241m0\u001b[39m\n\u001b[0;32m----> 5\u001b[0m \u001b[38;5;28;01mwhile\u001b[39;00m \u001b[38;5;28mlen\u001b[39m([elem \u001b[38;5;28;01mfor\u001b[39;00m elem \u001b[38;5;129;01min\u001b[39;00m result \u001b[38;5;28;01mif\u001b[39;00m elem \u001b[38;5;241m!=\u001b[39m \u001b[38;5;124m'\u001b[39m\u001b[38;5;124m.\u001b[39m\u001b[38;5;124m'\u001b[39m]) \u001b[38;5;241m!=\u001b[39m \u001b[38;5;28mlen\u001b[39m(del_last_pts(result)):\n\u001b[1;32m      6\u001b[0m     elem \u001b[38;5;241m=\u001b[39m result[index]\n\u001b[1;32m      8\u001b[0m     \u001b[38;5;28;01mif\u001b[39;00m elem \u001b[38;5;241m==\u001b[39m \u001b[38;5;124m'\u001b[39m\u001b[38;5;124m.\u001b[39m\u001b[38;5;124m'\u001b[39m:\n",
      "Cell \u001b[0;32mIn[8], line 5\u001b[0m, in \u001b[0;36m<listcomp>\u001b[0;34m(.0)\u001b[0m\n\u001b[1;32m      3\u001b[0m total_len \u001b[38;5;241m=\u001b[39m \u001b[38;5;28mlen\u001b[39m([elem \u001b[38;5;28;01mfor\u001b[39;00m elem \u001b[38;5;129;01min\u001b[39;00m disk_l \u001b[38;5;28;01mif\u001b[39;00m elem \u001b[38;5;241m!=\u001b[39m \u001b[38;5;124m'\u001b[39m\u001b[38;5;124m.\u001b[39m\u001b[38;5;124m'\u001b[39m])\n\u001b[1;32m      4\u001b[0m index \u001b[38;5;241m=\u001b[39m \u001b[38;5;241m0\u001b[39m\n\u001b[0;32m----> 5\u001b[0m \u001b[38;5;28;01mwhile\u001b[39;00m \u001b[38;5;28mlen\u001b[39m([elem \u001b[38;5;28;01mfor\u001b[39;00m elem \u001b[38;5;129;01min\u001b[39;00m result \u001b[38;5;28;01mif\u001b[39;00m elem \u001b[38;5;241m!=\u001b[39m \u001b[38;5;124m'\u001b[39m\u001b[38;5;124m.\u001b[39m\u001b[38;5;124m'\u001b[39m]) \u001b[38;5;241m!=\u001b[39m \u001b[38;5;28mlen\u001b[39m(del_last_pts(result)):\n\u001b[1;32m      6\u001b[0m     elem \u001b[38;5;241m=\u001b[39m result[index]\n\u001b[1;32m      8\u001b[0m     \u001b[38;5;28;01mif\u001b[39;00m elem \u001b[38;5;241m==\u001b[39m \u001b[38;5;124m'\u001b[39m\u001b[38;5;124m.\u001b[39m\u001b[38;5;124m'\u001b[39m:\n",
      "\u001b[0;31mKeyboardInterrupt\u001b[0m: "
     ]
    }
   ],
   "source": [
    "disk = generate_disk(data_list)\n",
    "disk_compact = compact_disk(disk)\n",
    "checksum(del_last_pts(disk_compact))"
   ]
  },
  {
   "cell_type": "code",
   "execution_count": 12,
   "metadata": {},
   "outputs": [],
   "source": [
    "def get_group(disk, ind):\n",
    "    group = [disk[ind]]\n",
    "    while ind+1<len(disk) and disk[ind+1] == group[-1]:\n",
    "        group.append(disk[ind+1])\n",
    "        ind = ind+1\n",
    "    return group, len(group)"
   ]
  },
  {
   "cell_type": "code",
   "execution_count": 13,
   "metadata": {},
   "outputs": [
    {
     "data": {
      "text/plain": [
       "([3, 3], 2)"
      ]
     },
     "execution_count": 13,
     "metadata": {},
     "output_type": "execute_result"
    }
   ],
   "source": [
    "get_group([1, 1, 2, 2, 2, 2, 3, 3], 6)"
   ]
  },
  {
   "cell_type": "code",
   "execution_count": 14,
   "metadata": {},
   "outputs": [],
   "source": [
    "def get_ids(data):\n",
    "    return [index//2 if index%2 == 0 else '.' for index, _ in enumerate(data)]\n"
   ]
  },
  {
   "cell_type": "code",
   "execution_count": 15,
   "metadata": {},
   "outputs": [
    {
     "name": "stdout",
     "output_type": "stream",
     "text": [
      "2333133121414131402\n"
     ]
    },
    {
     "data": {
      "text/plain": [
       "[0, '.', 1, '.', 2, '.', 3, '.', 4, '.', 5, '.', 6, '.', 7, '.', 8, '.', 9]"
      ]
     },
     "execution_count": 15,
     "metadata": {},
     "output_type": "execute_result"
    }
   ],
   "source": [
    "print(data_test)\n",
    "get_ids(data_test)"
   ]
  },
  {
   "cell_type": "code",
   "execution_count": 16,
   "metadata": {},
   "outputs": [],
   "source": [
    "# def compact_disk_2(data):\n",
    "#     result = [elem for elem in data]\n",
    "#     ids = get_ids(result)\n",
    "#     ind_min, ind_max = 0, len(result)-1\n",
    "#     while ind_min<ind_max:\n",
    "#         if ids[ind_min] == '.':\n",
    "#             size_max = int(result[ind_min])\n",
    "#             size = int(result[ind_max])\n",
    "#             while size>size_max and size > 0:\n",
    "#                 ind_max -= 1\n",
    "#                 size = int(result[ind_max])\n",
    "#             if result[ind_max] != '.':\n",
    "#                 result[ind_min], result[ind_max] = result[ind_max], result[ind_min]\n",
    "#                 ids[ind_min], ids[ind_max] = ids[ind_max], ids[ind_min]\n",
    "#         ind_min += 1\n",
    "#     return result, ids\n"
   ]
  },
  {
   "cell_type": "code",
   "execution_count": 17,
   "metadata": {},
   "outputs": [],
   "source": [
    "# def compact_disk_2(disk):\n",
    "#     result = disk.copy()\n",
    "#     ind_min, ind_max = 0, len(result)-1\n",
    "#     while ind_min < ind_max:\n",
    "#         size_max = 100000\n",
    "#         group_min, size_min = get_group(result, ind_min)\n",
    "#         print('min :', ind_min, group_min, size_min)\n",
    "#         if group_min[0] == '.':\n",
    "#             group_max, size_max = get_group(result[::-1], len(result)-ind_max-1)\n",
    "#             while size_max > size_min or group_max[0] == '.':\n",
    "#                 ind_max -= size_max\n",
    "#                 group_max, size_max = get_group(result[::-1], len(result)-ind_max-1)\n",
    "#                 if ind_min < ind_max:\n",
    "#                     break\n",
    "#             min_size = min(size_min, size_max)\n",
    "#             print('max :', ind_max, group_max, size_max)\n",
    "#             print('échange entre ', result[ind_min:ind_min+min_size], result[ind_max-min_size+1:ind_max+1])\n",
    "#             print(result)\n",
    "#             result[ind_min:ind_min+min_size], result[ind_max-min_size+1:ind_max+1] = result[ind_max-min_size+1:ind_max+1], result[ind_min:ind_min+min_size]\n",
    "#             print(result)\n",
    "\n",
    "#         ind_min += 1\n",
    "#     return result"
   ]
  },
  {
   "cell_type": "code",
   "execution_count": 18,
   "metadata": {},
   "outputs": [],
   "source": [
    "# print(disk_test)\n",
    "# iter_1 = compact_disk_2(disk_test)\n",
    "# print(iter_1)\n",
    "# iter_2 = compact_disk_2(iter_1)\n",
    "# print(iter_2)"
   ]
  },
  {
   "cell_type": "code",
   "execution_count": 20,
   "metadata": {},
   "outputs": [
    {
     "name": "stdout",
     "output_type": "stream",
     "text": [
      "[0, 0, '.', '.', '.', 1, 1, 1, '.', '.', '.', 2, '.', '.', '.', 3, 3, 3, '.', 4, 4, '.', 5, 5, 5, 5, '.', 6, 6, 6, 6, '.', 7, 7, 7, '.', 8, 8, 8, 8, 9, 9]\n"
     ]
    }
   ],
   "source": [
    "print(disk_test)"
   ]
  },
  {
   "cell_type": "code",
   "execution_count": 21,
   "metadata": {},
   "outputs": [
    {
     "data": {
      "text/plain": [
       "([0, 0], 2)"
      ]
     },
     "execution_count": 21,
     "metadata": {},
     "output_type": "execute_result"
    }
   ],
   "source": [
    "get_group(disk_test, 0)"
   ]
  },
  {
   "cell_type": "code",
   "execution_count": 22,
   "metadata": {},
   "outputs": [],
   "source": [
    "def get_groups(disk):\n",
    "    result = [get_group(disk, 0)]\n",
    "    for index, elem in enumerate(disk):\n",
    "        if elem == result[-1][0][0]:\n",
    "            continue\n",
    "        else:\n",
    "            result.append(get_group(disk, index))\n",
    "    return result"
   ]
  },
  {
   "cell_type": "code",
   "execution_count": 23,
   "metadata": {},
   "outputs": [
    {
     "data": {
      "text/plain": [
       "[([0, 0], 2),\n",
       " (['.', '.', '.'], 3),\n",
       " ([1, 1, 1], 3),\n",
       " (['.', '.', '.'], 3),\n",
       " ([2], 1),\n",
       " (['.', '.', '.'], 3),\n",
       " ([3, 3, 3], 3),\n",
       " (['.'], 1),\n",
       " ([4, 4], 2),\n",
       " (['.'], 1),\n",
       " ([5, 5, 5, 5], 4),\n",
       " (['.'], 1),\n",
       " ([6, 6, 6, 6], 4),\n",
       " (['.'], 1),\n",
       " ([7, 7, 7], 3),\n",
       " (['.'], 1),\n",
       " ([8, 8, 8, 8], 4),\n",
       " ([9, 9], 2)]"
      ]
     },
     "execution_count": 23,
     "metadata": {},
     "output_type": "execute_result"
    }
   ],
   "source": [
    "get_groups(disk_test)"
   ]
  },
  {
   "cell_type": "code",
   "execution_count": null,
   "metadata": {},
   "outputs": [],
   "source": [
    "def compact_disk_2(disk):\n",
    "    groups = get_groups(disk)\n",
    "    result = groups.copy()\n",
    "    index_max = len(groups)-1\n",
    "    for index, group in enumerate(groups):\n",
    "        if group[0][0] == '.':\n",
    "            size = group[1]\n",
    "            for ind, elem in enumerate(groups[index:index_max][::-1]):\n",
    "                print(group[0], elem)\n",
    "                if elem[0][0] != '.' and elem[1]<=size:\n",
    "                    print('echange', result[index], result[index_max])\n",
    "                    result[index], result[index_max] = (groups[index_max][0] + ['.']*(size-elem[1]), size), (['.']*elem[1], elem[1])\n",
    "                    index_max = ind\n",
    "        if index >= index_max:\n",
    "            break\n",
    "    return result\n"
   ]
  },
  {
   "cell_type": "code",
   "execution_count": 64,
   "metadata": {},
   "outputs": [
    {
     "name": "stdout",
     "output_type": "stream",
     "text": [
      "['.', '.', '.'] ([8, 8, 8, 8], 4)\n",
      "['.', '.', '.'] (['.'], 1)\n",
      "['.', '.', '.'] ([7, 7, 7], 3)\n",
      "echange (['.', '.', '.'], 3) ([9, 9], 2)\n",
      "['.', '.', '.'] (['.'], 1)\n",
      "['.', '.', '.'] ([6, 6, 6, 6], 4)\n",
      "['.', '.', '.'] (['.'], 1)\n",
      "['.', '.', '.'] ([5, 5, 5, 5], 4)\n",
      "['.', '.', '.'] (['.'], 1)\n",
      "['.', '.', '.'] ([4, 4], 2)\n",
      "echange ([9, 9], 3) ([1, 1, 1], 3)\n",
      "['.', '.', '.'] (['.'], 1)\n",
      "['.', '.', '.'] ([3, 3, 3], 3)\n",
      "echange ([1, 1, 1, '.'], 3) ([4, 4], 2)\n",
      "['.', '.', '.'] (['.', '.', '.'], 3)\n",
      "['.', '.', '.'] ([2], 1)\n",
      "echange ([4, 4], 3) ([5, 5, 5, 5], 4)\n",
      "['.', '.', '.'] (['.', '.', '.'], 3)\n",
      "['.', '.', '.'] ([1, 1, 1], 3)\n",
      "echange ([5, 5, 5, 5, '.', '.'], 3) ([6, 6, 6, 6], 4)\n",
      "['.', '.', '.'] (['.', '.', '.'], 3)\n",
      "['.', '.', '.'] (['.'], 1)\n",
      "['.', '.', '.'] ([6, 6, 6, 6], 4)\n",
      "['.', '.', '.'] (['.'], 1)\n",
      "['.', '.', '.'] ([5, 5, 5, 5], 4)\n",
      "['.', '.', '.'] (['.'], 1)\n",
      "['.', '.', '.'] ([4, 4], 2)\n",
      "echange (['.', '.', '.'], 3) ([7, 7, 7], 3)\n",
      "['.', '.', '.'] (['.'], 1)\n",
      "['.', '.', '.'] ([3, 3, 3], 3)\n",
      "echange ([7, 7, 7, '.'], 3) (['.', '.', '.'], 3)\n",
      "['.', '.', '.'] (['.', '.', '.'], 3)\n",
      "['.', '.', '.'] ([2], 1)\n",
      "echange (['.', '.', '.'], 3) (['.'], 1)\n",
      "['.', '.', '.'] (['.', '.', '.'], 3)\n",
      "['.', '.', '.'] ([4, 4], 2)\n",
      "echange (['.', '.', '.'], 3) (['.'], 1)\n",
      "['.', '.', '.'] (['.'], 1)\n",
      "['.', '.', '.'] ([3, 3, 3], 3)\n",
      "echange (['.', '.'], 3) ([0, 0], 2)\n",
      "['.', '.', '.'] (['.', '.', '.'], 3)\n"
     ]
    },
    {
     "data": {
      "text/plain": [
       "[(['.', '.', '.'], 3),\n",
       " ([6, 6, 6, 6], 3),\n",
       " (['.', '.'], 2),\n",
       " (['.', '.', '.'], 3),\n",
       " ([2], 1),\n",
       " ([0, 0], 3),\n",
       " ([3, 3, 3], 3),\n",
       " (['.'], 1),\n",
       " (['.', '.', '.'], 3),\n",
       " (['.', '.'], 2),\n",
       " (['.'], 1),\n",
       " (['.'], 1),\n",
       " (['.', '.', '.'], 3),\n",
       " (['.'], 1),\n",
       " (['.', '.'], 2),\n",
       " (['.'], 1),\n",
       " ([8, 8, 8, 8], 4),\n",
       " (['.', '.', '.'], 3)]"
      ]
     },
     "execution_count": 64,
     "metadata": {},
     "output_type": "execute_result"
    }
   ],
   "source": [
    "compact_disk_2(disk_test)"
   ]
  }
 ],
 "metadata": {
  "kernelspec": {
   "display_name": "env_perso",
   "language": "python",
   "name": "python3"
  },
  "language_info": {
   "codemirror_mode": {
    "name": "ipython",
    "version": 3
   },
   "file_extension": ".py",
   "mimetype": "text/x-python",
   "name": "python",
   "nbconvert_exporter": "python",
   "pygments_lexer": "ipython3",
   "version": "3.10.6"
  }
 },
 "nbformat": 4,
 "nbformat_minor": 2
}
