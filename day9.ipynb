{
 "cells": [
  {
   "cell_type": "code",
   "execution_count": 113,
   "metadata": {},
   "outputs": [],
   "source": [
    "import numpy as np\n",
    "import pandas as pd"
   ]
  },
  {
   "cell_type": "code",
   "execution_count": 176,
   "metadata": {},
   "outputs": [],
   "source": [
    "data = open('data/day9.txt', 'r').read()\n",
    "data_test = '2333133121414131402'"
   ]
  },
  {
   "cell_type": "code",
   "execution_count": 115,
   "metadata": {},
   "outputs": [],
   "source": [
    "data_list = [elem for elem in data][:-1]"
   ]
  },
  {
   "cell_type": "code",
   "execution_count": 116,
   "metadata": {},
   "outputs": [
    {
     "data": {
      "text/plain": [
       "95112"
      ]
     },
     "execution_count": 116,
     "metadata": {},
     "output_type": "execute_result"
    }
   ],
   "source": [
    "prod = 0\n",
    "for elem in data_list:\n",
    "    prod += int(elem)\n",
    "prod"
   ]
  },
  {
   "cell_type": "code",
   "execution_count": 117,
   "metadata": {},
   "outputs": [],
   "source": [
    "def generate_disk(data_l):\n",
    "    result = []\n",
    "    for index, elem in enumerate(data_l):\n",
    "        # file\n",
    "        if index % 2 == 0:\n",
    "            result = result + [int(index/2)] * int(elem)\n",
    "        # empty space\n",
    "        else:\n",
    "            result = result + ['.'] * int(elem)\n",
    "    return result"
   ]
  },
  {
   "cell_type": "code",
   "execution_count": 118,
   "metadata": {},
   "outputs": [],
   "source": [
    "def del_last_pts(l):\n",
    "    result = l[::-1]\n",
    "    nb_del = 0\n",
    "    for elem in result:\n",
    "        if elem == '.':\n",
    "            nb_del += 1\n",
    "        else:\n",
    "            break\n",
    "    return result[nb_del:][::-1]"
   ]
  },
  {
   "cell_type": "code",
   "execution_count": null,
   "metadata": {},
   "outputs": [],
   "source": [
    "def compact_disk(disk_l):\n",
    "    result = disk_l.copy()\n",
    "    total_len = len([elem for elem in disk_l if elem != '.'])\n",
    "    index = 0\n",
    "    while len([elem for elem in result if elem != '.']) != len(del_last_pts(result)):\n",
    "        elem = result[index]\n",
    "\n",
    "        if elem == '.':\n",
    "            elem_repl = result[-1]\n",
    "            while elem_repl=='.':\n",
    "                result.pop(-1)\n",
    "                elem_repl = result[-1]\n",
    "            result.pop(-1)\n",
    "            result[index] = elem_repl\n",
    "\n",
    "        index = index + 1\n",
    "\n",
    "    return result"
   ]
  },
  {
   "cell_type": "code",
   "execution_count": 120,
   "metadata": {},
   "outputs": [],
   "source": [
    "def checksum(disk):\n",
    "    result = 0\n",
    "    for index, elem in enumerate(disk):\n",
    "        result = result + index*int(elem)\n",
    "    return result"
   ]
  },
  {
   "cell_type": "code",
   "execution_count": 177,
   "metadata": {},
   "outputs": [
    {
     "data": {
      "text/plain": [
       "1928"
      ]
     },
     "execution_count": 177,
     "metadata": {},
     "output_type": "execute_result"
    }
   ],
   "source": [
    "disk_test = generate_disk([elem for elem in data_test])\n",
    "disk_test_compact = compact_disk(disk_test)\n",
    "checksum(disk_test_compact)"
   ]
  },
  {
   "cell_type": "code",
   "execution_count": null,
   "metadata": {},
   "outputs": [
    {
     "name": "stdout",
     "output_type": "stream",
     "text": [
      "Generating Disk\n",
      "Compacting Disk\n",
      "Checksumming Disk\n"
     ]
    },
    {
     "data": {
      "text/plain": [
       "6390180901651"
      ]
     },
     "execution_count": 122,
     "metadata": {},
     "output_type": "execute_result"
    }
   ],
   "source": [
    "disk = generate_disk(data_list)\n",
    "disk_compact = compact_disk(disk)\n",
    "checksum(del_last_pts(disk_compact))"
   ]
  },
  {
   "cell_type": "code",
   "execution_count": 134,
   "metadata": {},
   "outputs": [],
   "source": [
    "def get_group(disk, ind):\n",
    "    group = [disk[ind]]\n",
    "    while ind+1<len(disk) and disk[ind+1] == group[-1]:\n",
    "        group.append(disk[ind+1])\n",
    "        ind = ind+1\n",
    "    return group, len(group)"
   ]
  },
  {
   "cell_type": "code",
   "execution_count": 135,
   "metadata": {},
   "outputs": [
    {
     "data": {
      "text/plain": [
       "([3, 3], 2)"
      ]
     },
     "execution_count": 135,
     "metadata": {},
     "output_type": "execute_result"
    }
   ],
   "source": [
    "get_group([1, 1, 2, 2, 2, 2, 3, 3], 6)"
   ]
  },
  {
   "cell_type": "code",
   "execution_count": null,
   "metadata": {},
   "outputs": [],
   "source": [
    "def get_ids(data):\n",
    "    return [index//2 if index%2 == 0 else '.' for index, _ in enumerate(data)]\n"
   ]
  },
  {
   "cell_type": "code",
   "execution_count": 208,
   "metadata": {},
   "outputs": [
    {
     "name": "stdout",
     "output_type": "stream",
     "text": [
      "2333133121414131402\n"
     ]
    },
    {
     "data": {
      "text/plain": [
       "[0, '.', 1, '.', 2, '.', 3, '.', 4, '.', 5, '.', 6, '.', 7, '.', 8, '.', 9]"
      ]
     },
     "execution_count": 208,
     "metadata": {},
     "output_type": "execute_result"
    }
   ],
   "source": [
    "print(data_test)\n",
    "get_ids(data_test)"
   ]
  },
  {
   "cell_type": "code",
   "execution_count": null,
   "metadata": {},
   "outputs": [],
   "source": [
    "# def compact_disk_2(data):\n",
    "#     result = [elem for elem in data]\n",
    "#     ids = get_ids(result)\n",
    "#     ind_min, ind_max = 0, len(result)-1\n",
    "#     while ind_min<ind_max:\n",
    "#         if ids[ind_min] == '.':\n",
    "#             size_max = int(result[ind_min])\n",
    "#             size = int(result[ind_max])\n",
    "#             while size>size_max and size > 0:\n",
    "#                 ind_max -= 1\n",
    "#                 size = int(result[ind_max])\n",
    "#             if result[ind_max] != '.':\n",
    "#                 result[ind_min], result[ind_max] = result[ind_max], result[ind_min]\n",
    "#                 ids[ind_min], ids[ind_max] = ids[ind_max], ids[ind_min]\n",
    "#         ind_min += 1\n",
    "#     return result, ids\n"
   ]
  },
  {
   "cell_type": "code",
   "execution_count": null,
   "metadata": {},
   "outputs": [],
   "source": [
    "def compact_disk_2(disk):\n",
    "    result = disk.copy()\n",
    "    ind_min, ind_max = 0, len(result)-1\n",
    "    while ind_min < ind_max:\n",
    "        size_max = 100000\n",
    "        group_min, size_min = get_group(result, ind_min)\n",
    "        print('min :', ind_min, group_min, size_min)\n",
    "        if group_min[0] == '.':\n",
    "            group_max, size_max = get_group(result[::-1], len(result)-ind_max-1)\n",
    "            while size_max > size_min or group_max[0] == '.':\n",
    "                ind_max -= size_max\n",
    "                group_max, size_max = get_group(result[::-1], len(result)-ind_max-1)\n",
    "                if ind_min < ind_max:\n",
    "                    break\n",
    "            min_size = min(size_min, size_max)\n",
    "            print('max :', ind_max, group_max, size_max)\n",
    "            print('échange entre ', result[ind_min:ind_min+min_size], result[ind_max-min_size+1:ind_max+1])\n",
    "            print(result)\n",
    "            result[ind_min:ind_min+min_size], result[ind_max-min_size+1:ind_max+1] = result[ind_max-min_size+1:ind_max+1], result[ind_min:ind_min+min_size]\n",
    "            print(result)\n",
    "\n",
    "        ind_min += 1\n",
    "    return result"
   ]
  },
  {
   "cell_type": "code",
   "execution_count": 241,
   "metadata": {},
   "outputs": [
    {
     "name": "stdout",
     "output_type": "stream",
     "text": [
      "[0, 0, '.', '.', '.', 1, 1, 1, '.', '.', '.', 2, '.', '.', '.', 3, 3, 3, '.', 4, 4, '.', 5, 5, 5, 5, '.', 6, 6, 6, 6, '.', 7, 7, 7, '.', 8, 8, 8, 8, 9, 9]\n",
      "min : 0 [0, 0] 2\n",
      "min : 1 [0] 1\n",
      "min : 2 ['.', '.', '.'] 3\n",
      "max : 41 [9, 9] 2\n",
      "échange entre  ['.', '.'] [9, 9]\n",
      "[0, 0, '.', '.', '.', 1, 1, 1, '.', '.', '.', 2, '.', '.', '.', 3, 3, 3, '.', 4, 4, '.', 5, 5, 5, 5, '.', 6, 6, 6, 6, '.', 7, 7, 7, '.', 8, 8, 8, 8, 9, 9]\n",
      "[0, 0, 9, 9, '.', 1, 1, 1, '.', '.', '.', 2, '.', '.', '.', 3, 3, 3, '.', 4, 4, '.', 5, 5, 5, 5, '.', 6, 6, 6, 6, '.', 7, 7, 7, '.', 8, 8, 8, 8, '.', '.']\n",
      "min : 3 [9] 1\n",
      "min : 4 ['.'] 1\n",
      "max : 39 [8, 8, 8, 8] 4\n",
      "échange entre  ['.'] [8]\n",
      "[0, 0, 9, 9, '.', 1, 1, 1, '.', '.', '.', 2, '.', '.', '.', 3, 3, 3, '.', 4, 4, '.', 5, 5, 5, 5, '.', 6, 6, 6, 6, '.', 7, 7, 7, '.', 8, 8, 8, 8, '.', '.']\n",
      "[0, 0, 9, 9, 8, 1, 1, 1, '.', '.', '.', 2, '.', '.', '.', 3, 3, 3, '.', 4, 4, '.', 5, 5, 5, 5, '.', 6, 6, 6, 6, '.', 7, 7, 7, '.', 8, 8, 8, '.', '.', '.']\n",
      "min : 5 [1, 1, 1] 3\n",
      "min : 6 [1, 1] 2\n",
      "min : 7 [1] 1\n",
      "min : 8 ['.', '.', '.'] 3\n",
      "max : 38 [8, 8, 8] 3\n",
      "échange entre  ['.', '.', '.'] [8, 8, 8]\n",
      "[0, 0, 9, 9, 8, 1, 1, 1, '.', '.', '.', 2, '.', '.', '.', 3, 3, 3, '.', 4, 4, '.', 5, 5, 5, 5, '.', 6, 6, 6, 6, '.', 7, 7, 7, '.', 8, 8, 8, '.', '.', '.']\n",
      "[0, 0, 9, 9, 8, 1, 1, 1, 8, 8, 8, 2, '.', '.', '.', 3, 3, 3, '.', 4, 4, '.', 5, 5, 5, 5, '.', 6, 6, 6, 6, '.', 7, 7, 7, '.', '.', '.', '.', '.', '.', '.']\n",
      "min : 9 [8, 8] 2\n",
      "min : 10 [8] 1\n",
      "min : 11 [2] 1\n",
      "min : 12 ['.', '.', '.'] 3\n",
      "max : 34 [7, 7, 7] 3\n",
      "échange entre  ['.', '.', '.'] [7, 7, 7]\n",
      "[0, 0, 9, 9, 8, 1, 1, 1, 8, 8, 8, 2, '.', '.', '.', 3, 3, 3, '.', 4, 4, '.', 5, 5, 5, 5, '.', 6, 6, 6, 6, '.', 7, 7, 7, '.', '.', '.', '.', '.', '.', '.']\n",
      "[0, 0, 9, 9, 8, 1, 1, 1, 8, 8, 8, 2, 7, 7, 7, 3, 3, 3, '.', 4, 4, '.', 5, 5, 5, 5, '.', 6, 6, 6, 6, '.', '.', '.', '.', '.', '.', '.', '.', '.', '.', '.']\n",
      "min : 13 [7, 7] 2\n",
      "min : 14 [7] 1\n",
      "min : 15 [3, 3, 3] 3\n",
      "min : 16 [3, 3] 2\n",
      "min : 17 [3] 1\n",
      "min : 18 ['.'] 1\n",
      "max : 30 [6, 6, 6, 6] 4\n",
      "échange entre  ['.'] [6]\n",
      "[0, 0, 9, 9, 8, 1, 1, 1, 8, 8, 8, 2, 7, 7, 7, 3, 3, 3, '.', 4, 4, '.', 5, 5, 5, 5, '.', 6, 6, 6, 6, '.', '.', '.', '.', '.', '.', '.', '.', '.', '.', '.']\n",
      "[0, 0, 9, 9, 8, 1, 1, 1, 8, 8, 8, 2, 7, 7, 7, 3, 3, 3, 6, 4, 4, '.', 5, 5, 5, 5, '.', 6, 6, 6, '.', '.', '.', '.', '.', '.', '.', '.', '.', '.', '.', '.']\n",
      "min : 19 [4, 4] 2\n",
      "min : 20 [4] 1\n",
      "min : 21 ['.'] 1\n",
      "max : 29 [6, 6, 6] 3\n",
      "échange entre  ['.'] [6]\n",
      "[0, 0, 9, 9, 8, 1, 1, 1, 8, 8, 8, 2, 7, 7, 7, 3, 3, 3, 6, 4, 4, '.', 5, 5, 5, 5, '.', 6, 6, 6, '.', '.', '.', '.', '.', '.', '.', '.', '.', '.', '.', '.']\n",
      "[0, 0, 9, 9, 8, 1, 1, 1, 8, 8, 8, 2, 7, 7, 7, 3, 3, 3, 6, 4, 4, 6, 5, 5, 5, 5, '.', 6, 6, '.', '.', '.', '.', '.', '.', '.', '.', '.', '.', '.', '.', '.']\n",
      "min : 22 [5, 5, 5, 5] 4\n",
      "min : 23 [5, 5, 5] 3\n",
      "min : 24 [5, 5] 2\n",
      "min : 25 [5] 1\n",
      "min : 26 ['.'] 1\n",
      "max : 28 [6, 6] 2\n",
      "échange entre  ['.'] [6]\n",
      "[0, 0, 9, 9, 8, 1, 1, 1, 8, 8, 8, 2, 7, 7, 7, 3, 3, 3, 6, 4, 4, 6, 5, 5, 5, 5, '.', 6, 6, '.', '.', '.', '.', '.', '.', '.', '.', '.', '.', '.', '.', '.']\n",
      "[0, 0, 9, 9, 8, 1, 1, 1, 8, 8, 8, 2, 7, 7, 7, 3, 3, 3, 6, 4, 4, 6, 5, 5, 5, 5, 6, 6, '.', '.', '.', '.', '.', '.', '.', '.', '.', '.', '.', '.', '.', '.']\n",
      "min : 27 [6] 1\n",
      "[0, 0, 9, 9, 8, 1, 1, 1, 8, 8, 8, 2, 7, 7, 7, 3, 3, 3, 6, 4, 4, 6, 5, 5, 5, 5, 6, 6, '.', '.', '.', '.', '.', '.', '.', '.', '.', '.', '.', '.', '.', '.']\n",
      "min : 0 [0, 0] 2\n",
      "min : 1 [0] 1\n",
      "min : 2 [9, 9] 2\n",
      "min : 3 [9] 1\n",
      "min : 4 [8] 1\n",
      "min : 5 [1, 1, 1] 3\n",
      "min : 6 [1, 1] 2\n",
      "min : 7 [1] 1\n",
      "min : 8 [8, 8, 8] 3\n",
      "min : 9 [8, 8] 2\n",
      "min : 10 [8] 1\n",
      "min : 11 [2] 1\n",
      "min : 12 [7, 7, 7] 3\n",
      "min : 13 [7, 7] 2\n",
      "min : 14 [7] 1\n",
      "min : 15 [3, 3, 3] 3\n",
      "min : 16 [3, 3] 2\n",
      "min : 17 [3] 1\n",
      "min : 18 [6] 1\n",
      "min : 19 [4, 4] 2\n",
      "min : 20 [4] 1\n",
      "min : 21 [6] 1\n",
      "min : 22 [5, 5, 5, 5] 4\n",
      "min : 23 [5, 5, 5] 3\n",
      "min : 24 [5, 5] 2\n",
      "min : 25 [5] 1\n",
      "min : 26 [6, 6] 2\n",
      "min : 27 [6] 1\n",
      "min : 28 ['.', '.', '.', '.', '.', '.', '.', '.', '.', '.', '.', '.', '.', '.'] 14\n",
      "max : 27 [6, 6] 2\n",
      "échange entre  ['.', '.'] [6, 6]\n",
      "[0, 0, 9, 9, 8, 1, 1, 1, 8, 8, 8, 2, 7, 7, 7, 3, 3, 3, 6, 4, 4, 6, 5, 5, 5, 5, 6, 6, '.', '.', '.', '.', '.', '.', '.', '.', '.', '.', '.', '.', '.', '.']\n",
      "[0, 0, 9, 9, 8, 1, 1, 1, 8, 8, 8, 2, 7, 7, 7, 3, 3, 3, 6, 4, 4, 6, 5, 5, 5, 5, '.', '.', 6, 6, '.', '.', '.', '.', '.', '.', '.', '.', '.', '.', '.', '.']\n",
      "[0, 0, 9, 9, 8, 1, 1, 1, 8, 8, 8, 2, 7, 7, 7, 3, 3, 3, 6, 4, 4, 6, 5, 5, 5, 5, '.', '.', 6, 6, '.', '.', '.', '.', '.', '.', '.', '.', '.', '.', '.', '.']\n"
     ]
    }
   ],
   "source": [
    "print(disk_test)\n",
    "iter_1 = compact_disk_2(disk_test)\n",
    "print(iter_1)\n",
    "iter_2 = compact_disk_2(iter_1)\n",
    "print(iter_2)"
   ]
  },
  {
   "cell_type": "code",
   "execution_count": null,
   "metadata": {},
   "outputs": [],
   "source": []
  },
  {
   "cell_type": "code",
   "execution_count": null,
   "metadata": {},
   "outputs": [],
   "source": []
  }
 ],
 "metadata": {
  "kernelspec": {
   "display_name": "env_perso",
   "language": "python",
   "name": "python3"
  },
  "language_info": {
   "codemirror_mode": {
    "name": "ipython",
    "version": 3
   },
   "file_extension": ".py",
   "mimetype": "text/x-python",
   "name": "python",
   "nbconvert_exporter": "python",
   "pygments_lexer": "ipython3",
   "version": "3.10.6"
  }
 },
 "nbformat": 4,
 "nbformat_minor": 2
}
