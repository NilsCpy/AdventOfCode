{
 "cells": [
  {
   "cell_type": "code",
   "execution_count": 1,
   "metadata": {},
   "outputs": [],
   "source": [
    "import numpy as np\n",
    "import pandas as pd"
   ]
  },
  {
   "cell_type": "code",
   "execution_count": 2,
   "metadata": {},
   "outputs": [],
   "source": [
    "data = open('data/day9.txt', 'r').read()\n",
    "data_test = '2333133121414131402'"
   ]
  },
  {
   "cell_type": "code",
   "execution_count": 3,
   "metadata": {},
   "outputs": [],
   "source": [
    "data_list = [elem for elem in data][:-1]"
   ]
  },
  {
   "cell_type": "code",
   "execution_count": 5,
   "metadata": {},
   "outputs": [],
   "source": [
    "def generate_disk(data_l):\n",
    "    result = []\n",
    "    for index, elem in enumerate(data_l):\n",
    "        # file\n",
    "        if index % 2 == 0:\n",
    "            result = result + [int(index/2)] * int(elem)\n",
    "        # empty space\n",
    "        else:\n",
    "            result = result + ['.'] * int(elem)\n",
    "    return result"
   ]
  },
  {
   "cell_type": "code",
   "execution_count": 6,
   "metadata": {},
   "outputs": [],
   "source": [
    "def del_last_pts(l):\n",
    "    result = l[::-1]\n",
    "    nb_del = 0\n",
    "    for elem in result:\n",
    "        if elem == '.':\n",
    "            nb_del += 1\n",
    "        else:\n",
    "            break\n",
    "    return result[nb_del:][::-1]"
   ]
  },
  {
   "cell_type": "code",
   "execution_count": 7,
   "metadata": {},
   "outputs": [],
   "source": [
    "def compact_disk(disk_l):\n",
    "    result = disk_l.copy()\n",
    "    total_len = len([elem for elem in disk_l if elem != '.'])\n",
    "    index = 0\n",
    "    while len([elem for elem in result if elem != '.']) != len(del_last_pts(result)):\n",
    "        elem = result[index]\n",
    "\n",
    "        if elem == '.':\n",
    "            elem_repl = result[-1]\n",
    "            while elem_repl=='.':\n",
    "                result.pop(-1)\n",
    "                elem_repl = result[-1]\n",
    "            result.pop(-1)\n",
    "            result[index] = elem_repl\n",
    "\n",
    "        index = index + 1\n",
    "\n",
    "    return result"
   ]
  },
  {
   "cell_type": "code",
   "execution_count": 102,
   "metadata": {},
   "outputs": [],
   "source": [
    "def checksum(disk):\n",
    "    result = 0\n",
    "    for index, elem in enumerate(disk):\n",
    "        if elem == '.':\n",
    "            continue\n",
    "        result = result + index*int(elem)\n",
    "    return result"
   ]
  },
  {
   "cell_type": "code",
   "execution_count": 9,
   "metadata": {},
   "outputs": [
    {
     "data": {
      "text/plain": [
       "1928"
      ]
     },
     "execution_count": 9,
     "metadata": {},
     "output_type": "execute_result"
    }
   ],
   "source": [
    "disk_test = generate_disk([elem for elem in data_test])\n",
    "disk_test_compact = compact_disk(disk_test)\n",
    "checksum(disk_test_compact)"
   ]
  },
  {
   "cell_type": "code",
   "execution_count": 10,
   "metadata": {},
   "outputs": [
    {
     "data": {
      "text/plain": [
       "6390180901651"
      ]
     },
     "execution_count": 10,
     "metadata": {},
     "output_type": "execute_result"
    }
   ],
   "source": [
    "disk = generate_disk(data_list)\n",
    "disk_compact = compact_disk(disk)\n",
    "checksum(del_last_pts(disk_compact))"
   ]
  },
  {
   "cell_type": "code",
   "execution_count": 21,
   "metadata": {},
   "outputs": [],
   "source": [
    "def get_group(disk, ind):\n",
    "    group = [disk[ind]]\n",
    "    while ind+1<len(disk) and disk[ind+1] == group[-1]:\n",
    "        group.append(disk[ind+1])\n",
    "        ind = ind+1\n",
    "    return group, len(group)"
   ]
  },
  {
   "cell_type": "code",
   "execution_count": 95,
   "metadata": {},
   "outputs": [],
   "source": [
    "def compact_disk_2(disk):\n",
    "    result = disk.copy()\n",
    "    for ind_max in range(len(result))[::-1]:\n",
    "        if result[ind_max] != '.':\n",
    "            if ind_max != len(result)-1 and result[ind_max]==result[ind_max+1]:\n",
    "                continue\n",
    "            group, size = get_group(result[::-1], len(result)-ind_max-1)\n",
    "            # print(group, size)\n",
    "            for ind in range(ind_max):\n",
    "                if result[ind] == '.':\n",
    "                    new_g, new_size = get_group(result, ind)\n",
    "                    # print('new :', new_g, new_size)\n",
    "                    if new_size >= size:\n",
    "                        # print('Échange :', result[ind:ind+size], result[ind_max-size+1:ind_max+1])\n",
    "                        result[ind:ind+size], result[ind_max-size+1:ind_max+1] = result[ind_max-size+1:ind_max+1], result[ind:ind+size]\n",
    "                        # print(result)\n",
    "                        break\n",
    "    return result"
   ]
  },
  {
   "cell_type": "code",
   "execution_count": 112,
   "metadata": {},
   "outputs": [
    {
     "data": {
      "text/plain": [
       "2858"
      ]
     },
     "execution_count": 112,
     "metadata": {},
     "output_type": "execute_result"
    }
   ],
   "source": [
    "res_test = compact_disk_2(disk_test)\n",
    "checksum(res_test)"
   ]
  },
  {
   "cell_type": "code",
   "execution_count": 109,
   "metadata": {},
   "outputs": [
    {
     "data": {
      "text/plain": [
       "6412390114238"
      ]
     },
     "execution_count": 109,
     "metadata": {},
     "output_type": "execute_result"
    }
   ],
   "source": [
    "disk = generate_disk(data_list)\n",
    "compact_2_disk = compact_disk_2(disk)\n",
    "checksum(compact_2_disk)"
   ]
  }
 ],
 "metadata": {
  "kernelspec": {
   "display_name": "env_perso",
   "language": "python",
   "name": "python3"
  },
  "language_info": {
   "codemirror_mode": {
    "name": "ipython",
    "version": 3
   },
   "file_extension": ".py",
   "mimetype": "text/x-python",
   "name": "python",
   "nbconvert_exporter": "python",
   "pygments_lexer": "ipython3",
   "version": "3.10.6"
  }
 },
 "nbformat": 4,
 "nbformat_minor": 2
}
