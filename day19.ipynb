{
 "cells": [
  {
   "cell_type": "code",
   "execution_count": 58,
   "metadata": {},
   "outputs": [],
   "source": [
    "import numpy as np"
   ]
  },
  {
   "cell_type": "code",
   "execution_count": 59,
   "metadata": {},
   "outputs": [],
   "source": [
    "class Day19():\n",
    "\n",
    "    def __init__(self, data_link):\n",
    "        self.data = open(data_link, 'r').read().split('\\n\\n')\n",
    "        self.patterns = self.data[0].split(', ')\n",
    "        self.designs = self.data[1].split('\\n')[:-1]\n",
    "        self.memory = {}\n",
    "\n",
    "    def starts(self, pattern, design):\n",
    "        return len(pattern) <= len(design) and pattern == design[:len(pattern)]\n",
    "\n",
    "    def is_possible(self, design):\n",
    "        if len(design) == 0:\n",
    "            return True\n",
    "        for pattern in self.patterns:\n",
    "            if self.starts(pattern, design) and self.is_possible(design[len(pattern):]):\n",
    "                return True\n",
    "        return False\n",
    "\n",
    "    def main(self):\n",
    "        return len([design for design in self.designs if self.is_possible(design)])\n",
    "\n",
    "    def count_possibilities(self, design):\n",
    "        poss = 0\n",
    "        if design in self.memory.keys():\n",
    "            return self.memory[design]\n",
    "        if len(design) == 0:\n",
    "            return 1\n",
    "        for pattern in self.patterns:\n",
    "            if self.starts(pattern, design):\n",
    "                poss += self.count_possibilities(design[len(pattern):])\n",
    "        self.memory[design] = poss\n",
    "        return poss\n",
    "\n",
    "    def main_2(self):\n",
    "        return sum([self.count_possibilities(design) for design in self.designs])"
   ]
  },
  {
   "cell_type": "code",
   "execution_count": 60,
   "metadata": {},
   "outputs": [
    {
     "data": {
      "text/plain": [
       "6"
      ]
     },
     "execution_count": 60,
     "metadata": {},
     "output_type": "execute_result"
    }
   ],
   "source": [
    "day19_test = Day19('other/day19_test.txt')\n",
    "day19_test.main()"
   ]
  },
  {
   "cell_type": "code",
   "execution_count": 61,
   "metadata": {},
   "outputs": [
    {
     "data": {
      "text/plain": [
       "242"
      ]
     },
     "execution_count": 61,
     "metadata": {},
     "output_type": "execute_result"
    }
   ],
   "source": [
    "day19 = Day19('data/day19.txt')\n",
    "day19.main()"
   ]
  },
  {
   "cell_type": "code",
   "execution_count": 62,
   "metadata": {},
   "outputs": [
    {
     "data": {
      "text/plain": [
       "16"
      ]
     },
     "execution_count": 62,
     "metadata": {},
     "output_type": "execute_result"
    }
   ],
   "source": [
    "day19_test = Day19('other/day19_test.txt')\n",
    "day19_test.main_2()"
   ]
  },
  {
   "cell_type": "code",
   "execution_count": 63,
   "metadata": {},
   "outputs": [
    {
     "data": {
      "text/plain": [
       "595975512785325"
      ]
     },
     "execution_count": 63,
     "metadata": {},
     "output_type": "execute_result"
    }
   ],
   "source": [
    "day19 = Day19('data/day19.txt')\n",
    "day19.main_2()"
   ]
  }
 ],
 "metadata": {
  "kernelspec": {
   "display_name": "env_perso",
   "language": "python",
   "name": "python3"
  },
  "language_info": {
   "codemirror_mode": {
    "name": "ipython",
    "version": 3
   },
   "file_extension": ".py",
   "mimetype": "text/x-python",
   "name": "python",
   "nbconvert_exporter": "python",
   "pygments_lexer": "ipython3",
   "version": "3.10.6"
  }
 },
 "nbformat": 4,
 "nbformat_minor": 2
}
