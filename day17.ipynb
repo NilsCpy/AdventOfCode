{
 "cells": [
  {
   "cell_type": "code",
   "execution_count": 98,
   "metadata": {},
   "outputs": [],
   "source": [
    "import numpy as np"
   ]
  },
  {
   "cell_type": "code",
   "execution_count": 208,
   "metadata": {},
   "outputs": [],
   "source": [
    "class Day17():\n",
    "\n",
    "    def __init__(self, data_link):\n",
    "        self.data = open(data_link, 'r').read().split('\\n')\n",
    "        self.A = int(self.data[0][12:])\n",
    "        self.B = int(self.data[1][12:])\n",
    "        self.C = int(self.data[2][12:])\n",
    "        self.prog = self.data[4][9:].split(',')\n",
    "        self.max_len = len(self.prog)\n",
    "        self.pointer = 0\n",
    "        self.output = []\n",
    "\n",
    "    def reset(self, A, B, C):\n",
    "        self.A, self.B, self.C = A, B, C\n",
    "        self.pointer = 0\n",
    "        self.output = []\n",
    "\n",
    "    def operation(self):\n",
    "        opcode = int(self.prog[self.pointer])\n",
    "        lit_op = int(self.prog[self.pointer+1])\n",
    "        combo_op = [0, 1, 2, 3, self.A, self.B, self.C, 0][lit_op]\n",
    "\n",
    "        if opcode == 0:\n",
    "            self.A = self.A // (2**combo_op)\n",
    "\n",
    "        elif opcode == 1:\n",
    "            self.B = self.B^lit_op\n",
    "\n",
    "        elif opcode == 2:\n",
    "            self.B = combo_op%8\n",
    "\n",
    "        elif opcode == 3:\n",
    "            if self.A != 0:\n",
    "                self.pointer = lit_op\n",
    "                return self\n",
    "\n",
    "        elif opcode == 4:\n",
    "            self.B = self.B^self.C\n",
    "\n",
    "        elif opcode == 5:\n",
    "            self.output.append(str(combo_op%8))\n",
    "\n",
    "        elif opcode == 6:\n",
    "            self.B = self.A // (2**combo_op)\n",
    "\n",
    "        elif opcode == 7:\n",
    "            self.C = self.A // (2**combo_op)\n",
    "\n",
    "        self.pointer += 2\n",
    "\n",
    "        return self\n",
    "\n",
    "    def main(self):\n",
    "        while self.pointer < len(self.prog)-1:\n",
    "            self.operation()\n",
    "        return self\n",
    "\n",
    "    def out(self):\n",
    "        return ','.join(self.output)\n",
    "\n",
    "    def main_2(self):\n",
    "        rev = self.prog[::-1]\n",
    "        A = [0]\n",
    "        for index in range(len(rev)):\n",
    "            elem = rev[index]\n",
    "            A_fut = []\n",
    "            for a in A:\n",
    "                for i in range(8):\n",
    "                    self.reset(a+i, 0, 0)\n",
    "                    self.main()\n",
    "                    if self.output[0] == elem:\n",
    "                        if index == len(rev)-1:\n",
    "                            return a+i\n",
    "                        A_fut.append((a+i)*8)\n",
    "            A = A_fut.copy()\n",
    "        return False\n"
   ]
  },
  {
   "cell_type": "code",
   "execution_count": 217,
   "metadata": {},
   "outputs": [
    {
     "data": {
      "text/plain": [
       "'4,6,3,5,6,3,5,2,1,0'"
      ]
     },
     "execution_count": 217,
     "metadata": {},
     "output_type": "execute_result"
    }
   ],
   "source": [
    "day17_test = Day17('other/day17_test.txt')\n",
    "day17_test.main().out()"
   ]
  },
  {
   "cell_type": "code",
   "execution_count": 218,
   "metadata": {},
   "outputs": [
    {
     "data": {
      "text/plain": [
       "'2,1,4,7,6,0,3,1,4'"
      ]
     },
     "execution_count": 218,
     "metadata": {},
     "output_type": "execute_result"
    }
   ],
   "source": [
    "day17 = Day17('data/day17.txt')\n",
    "day17.main().out()"
   ]
  },
  {
   "cell_type": "code",
   "execution_count": 219,
   "metadata": {},
   "outputs": [
    {
     "data": {
      "text/plain": [
       "117440"
      ]
     },
     "execution_count": 219,
     "metadata": {},
     "output_type": "execute_result"
    }
   ],
   "source": [
    "day17_test = Day17('other/day17_test2.txt')\n",
    "day17_test.main_2()"
   ]
  },
  {
   "cell_type": "code",
   "execution_count": 220,
   "metadata": {},
   "outputs": [
    {
     "data": {
      "text/plain": [
       "266932601404433"
      ]
     },
     "execution_count": 220,
     "metadata": {},
     "output_type": "execute_result"
    }
   ],
   "source": [
    "day17 = Day17('data/day17.txt')\n",
    "day17.main_2()"
   ]
  },
  {
   "cell_type": "code",
   "execution_count": null,
   "metadata": {},
   "outputs": [],
   "source": []
  }
 ],
 "metadata": {
  "kernelspec": {
   "display_name": "global_env",
   "language": "python",
   "name": "python3"
  },
  "language_info": {
   "codemirror_mode": {
    "name": "ipython",
    "version": 3
   },
   "file_extension": ".py",
   "mimetype": "text/x-python",
   "name": "python",
   "nbconvert_exporter": "python",
   "pygments_lexer": "ipython3",
   "version": "3.10.6"
  }
 },
 "nbformat": 4,
 "nbformat_minor": 2
}
