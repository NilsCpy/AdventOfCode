{
 "cells": [
  {
   "cell_type": "code",
   "execution_count": 59,
   "metadata": {},
   "outputs": [],
   "source": [
    "import numpy as np"
   ]
  },
  {
   "cell_type": "code",
   "execution_count": 60,
   "metadata": {},
   "outputs": [
    {
     "data": {
      "text/plain": [
       "[8793800, 1629, 65, 5, 960, 0, 138983, 85629]"
      ]
     },
     "execution_count": 60,
     "metadata": {},
     "output_type": "execute_result"
    }
   ],
   "source": [
    "data = open('data/day11.txt', 'r').read()[:-1]\n",
    "data_list = [int(elem) for elem in data.split(' ')]\n",
    "data_list"
   ]
  },
  {
   "cell_type": "code",
   "execution_count": 61,
   "metadata": {},
   "outputs": [],
   "source": [
    "data_test = [125, 17]"
   ]
  },
  {
   "cell_type": "code",
   "execution_count": 62,
   "metadata": {},
   "outputs": [],
   "source": [
    "def change_stone(number):\n",
    "    l = len(str(number))\n",
    "    if number == 0:\n",
    "        return [1]\n",
    "    if l%2 == 0:\n",
    "        return [int(str(number)[:l//2]), int(str(number)[l//2:])]\n",
    "    else:\n",
    "        return [number * 2024]\n"
   ]
  },
  {
   "cell_type": "code",
   "execution_count": 63,
   "metadata": {},
   "outputs": [],
   "source": [
    "def blink(stones):\n",
    "    result = []\n",
    "    for stone in stones:\n",
    "        for elem in change_stone(stone):\n",
    "            result.append(elem)\n",
    "    return result"
   ]
  },
  {
   "cell_type": "code",
   "execution_count": 101,
   "metadata": {},
   "outputs": [],
   "source": [
    "def nb_stones(data, nb_blinks):\n",
    "    stones = data.copy()\n",
    "    for b in range(nb_blinks):\n",
    "        stones = blink(stones)\n",
    "    return len(stones)"
   ]
  },
  {
   "cell_type": "code",
   "execution_count": 102,
   "metadata": {},
   "outputs": [
    {
     "data": {
      "text/plain": [
       "194557"
      ]
     },
     "execution_count": 102,
     "metadata": {},
     "output_type": "execute_result"
    }
   ],
   "source": [
    "nb_stones(data_list, 25)"
   ]
  },
  {
   "cell_type": "code",
   "execution_count": 118,
   "metadata": {},
   "outputs": [],
   "source": [
    "known = {}\n",
    "\n",
    "def blink_2(data, nb_blinks):\n",
    "    if type(data) == list:\n",
    "        return sum([blink_2(int(elem), nb_blinks) for elem in data])\n",
    "    if nb_blinks==0:\n",
    "        size = 1\n",
    "    if (data, nb_blinks) in known:\n",
    "        return known[(data, nb_blinks)]\n",
    "    if data == 0:\n",
    "        size = blink_2(1, nb_blinks-1)\n",
    "\n",
    "    l = len(str(data))\n",
    "    if l%2 == 0:\n",
    "        size =  blink_2(int(str(data)[:l//2]), nb_blinks-1) + blink_2(int(str(data)[l//2:]), nb_blinks-1)\n",
    "    else:\n",
    "        size =  blink_2(2024*data, nb_blinks-1)\n",
    "\n",
    "    if (data, nb_blinks) not in known:\n",
    "        known[(data, nb_blinks)] = size\n",
    "\n",
    "    return size\n"
   ]
  },
  {
   "cell_type": "code",
   "execution_count": 120,
   "metadata": {},
   "outputs": [
    {
     "ename": "RecursionError",
     "evalue": "maximum recursion depth exceeded while getting the str of an object",
     "output_type": "error",
     "traceback": [
      "\u001b[0;31m---------------------------------------------------------------------------\u001b[0m",
      "\u001b[0;31mRecursionError\u001b[0m                            Traceback (most recent call last)",
      "Cell \u001b[0;32mIn[120], line 1\u001b[0m\n\u001b[0;32m----> 1\u001b[0m \u001b[43mblink_2\u001b[49m\u001b[43m(\u001b[49m\u001b[43mdata_list\u001b[49m\u001b[43m,\u001b[49m\u001b[43m \u001b[49m\u001b[38;5;241;43m10\u001b[39;49m\u001b[43m)\u001b[49m\n",
      "Cell \u001b[0;32mIn[118], line 5\u001b[0m, in \u001b[0;36mblink_2\u001b[0;34m(data, nb_blinks)\u001b[0m\n\u001b[1;32m      3\u001b[0m \u001b[38;5;28;01mdef\u001b[39;00m \u001b[38;5;21mblink_2\u001b[39m(data, nb_blinks):\n\u001b[1;32m      4\u001b[0m     \u001b[38;5;28;01mif\u001b[39;00m \u001b[38;5;28mtype\u001b[39m(data) \u001b[38;5;241m==\u001b[39m \u001b[38;5;28mlist\u001b[39m:\n\u001b[0;32m----> 5\u001b[0m         \u001b[38;5;28;01mreturn\u001b[39;00m \u001b[38;5;28msum\u001b[39m([blink_2(\u001b[38;5;28mint\u001b[39m(elem), nb_blinks) \u001b[38;5;28;01mfor\u001b[39;00m elem \u001b[38;5;129;01min\u001b[39;00m data])\n\u001b[1;32m      6\u001b[0m     \u001b[38;5;28;01mif\u001b[39;00m nb_blinks\u001b[38;5;241m==\u001b[39m\u001b[38;5;241m0\u001b[39m:\n\u001b[1;32m      7\u001b[0m         size \u001b[38;5;241m=\u001b[39m \u001b[38;5;241m1\u001b[39m\n",
      "Cell \u001b[0;32mIn[118], line 5\u001b[0m, in \u001b[0;36m<listcomp>\u001b[0;34m(.0)\u001b[0m\n\u001b[1;32m      3\u001b[0m \u001b[38;5;28;01mdef\u001b[39;00m \u001b[38;5;21mblink_2\u001b[39m(data, nb_blinks):\n\u001b[1;32m      4\u001b[0m     \u001b[38;5;28;01mif\u001b[39;00m \u001b[38;5;28mtype\u001b[39m(data) \u001b[38;5;241m==\u001b[39m \u001b[38;5;28mlist\u001b[39m:\n\u001b[0;32m----> 5\u001b[0m         \u001b[38;5;28;01mreturn\u001b[39;00m \u001b[38;5;28msum\u001b[39m([\u001b[43mblink_2\u001b[49m\u001b[43m(\u001b[49m\u001b[38;5;28;43mint\u001b[39;49m\u001b[43m(\u001b[49m\u001b[43melem\u001b[49m\u001b[43m)\u001b[49m\u001b[43m,\u001b[49m\u001b[43m \u001b[49m\u001b[43mnb_blinks\u001b[49m\u001b[43m)\u001b[49m \u001b[38;5;28;01mfor\u001b[39;00m elem \u001b[38;5;129;01min\u001b[39;00m data])\n\u001b[1;32m      6\u001b[0m     \u001b[38;5;28;01mif\u001b[39;00m nb_blinks\u001b[38;5;241m==\u001b[39m\u001b[38;5;241m0\u001b[39m:\n\u001b[1;32m      7\u001b[0m         size \u001b[38;5;241m=\u001b[39m \u001b[38;5;241m1\u001b[39m\n",
      "Cell \u001b[0;32mIn[118], line 17\u001b[0m, in \u001b[0;36mblink_2\u001b[0;34m(data, nb_blinks)\u001b[0m\n\u001b[1;32m     15\u001b[0m     size \u001b[38;5;241m=\u001b[39m  blink_2(\u001b[38;5;28mint\u001b[39m(\u001b[38;5;28mstr\u001b[39m(data)[:l\u001b[38;5;241m/\u001b[39m\u001b[38;5;241m/\u001b[39m\u001b[38;5;241m2\u001b[39m]), nb_blinks\u001b[38;5;241m-\u001b[39m\u001b[38;5;241m1\u001b[39m) \u001b[38;5;241m+\u001b[39m blink_2(\u001b[38;5;28mint\u001b[39m(\u001b[38;5;28mstr\u001b[39m(data)[l\u001b[38;5;241m/\u001b[39m\u001b[38;5;241m/\u001b[39m\u001b[38;5;241m2\u001b[39m:]), nb_blinks\u001b[38;5;241m-\u001b[39m\u001b[38;5;241m1\u001b[39m)\n\u001b[1;32m     16\u001b[0m \u001b[38;5;28;01melse\u001b[39;00m:\n\u001b[0;32m---> 17\u001b[0m     size \u001b[38;5;241m=\u001b[39m  \u001b[43mblink_2\u001b[49m\u001b[43m(\u001b[49m\u001b[38;5;241;43m2024\u001b[39;49m\u001b[38;5;241;43m*\u001b[39;49m\u001b[43mdata\u001b[49m\u001b[43m,\u001b[49m\u001b[43m \u001b[49m\u001b[43mnb_blinks\u001b[49m\u001b[38;5;241;43m-\u001b[39;49m\u001b[38;5;241;43m1\u001b[39;49m\u001b[43m)\u001b[49m\n\u001b[1;32m     19\u001b[0m \u001b[38;5;28;01mif\u001b[39;00m (data, nb_blinks) \u001b[38;5;129;01mnot\u001b[39;00m \u001b[38;5;129;01min\u001b[39;00m known:\n\u001b[1;32m     20\u001b[0m     known[(data, nb_blinks)] \u001b[38;5;241m=\u001b[39m size\n",
      "Cell \u001b[0;32mIn[118], line 17\u001b[0m, in \u001b[0;36mblink_2\u001b[0;34m(data, nb_blinks)\u001b[0m\n\u001b[1;32m     15\u001b[0m     size \u001b[38;5;241m=\u001b[39m  blink_2(\u001b[38;5;28mint\u001b[39m(\u001b[38;5;28mstr\u001b[39m(data)[:l\u001b[38;5;241m/\u001b[39m\u001b[38;5;241m/\u001b[39m\u001b[38;5;241m2\u001b[39m]), nb_blinks\u001b[38;5;241m-\u001b[39m\u001b[38;5;241m1\u001b[39m) \u001b[38;5;241m+\u001b[39m blink_2(\u001b[38;5;28mint\u001b[39m(\u001b[38;5;28mstr\u001b[39m(data)[l\u001b[38;5;241m/\u001b[39m\u001b[38;5;241m/\u001b[39m\u001b[38;5;241m2\u001b[39m:]), nb_blinks\u001b[38;5;241m-\u001b[39m\u001b[38;5;241m1\u001b[39m)\n\u001b[1;32m     16\u001b[0m \u001b[38;5;28;01melse\u001b[39;00m:\n\u001b[0;32m---> 17\u001b[0m     size \u001b[38;5;241m=\u001b[39m  \u001b[43mblink_2\u001b[49m\u001b[43m(\u001b[49m\u001b[38;5;241;43m2024\u001b[39;49m\u001b[38;5;241;43m*\u001b[39;49m\u001b[43mdata\u001b[49m\u001b[43m,\u001b[49m\u001b[43m \u001b[49m\u001b[43mnb_blinks\u001b[49m\u001b[38;5;241;43m-\u001b[39;49m\u001b[38;5;241;43m1\u001b[39;49m\u001b[43m)\u001b[49m\n\u001b[1;32m     19\u001b[0m \u001b[38;5;28;01mif\u001b[39;00m (data, nb_blinks) \u001b[38;5;129;01mnot\u001b[39;00m \u001b[38;5;129;01min\u001b[39;00m known:\n\u001b[1;32m     20\u001b[0m     known[(data, nb_blinks)] \u001b[38;5;241m=\u001b[39m size\n",
      "Cell \u001b[0;32mIn[118], line 15\u001b[0m, in \u001b[0;36mblink_2\u001b[0;34m(data, nb_blinks)\u001b[0m\n\u001b[1;32m     13\u001b[0m l \u001b[38;5;241m=\u001b[39m \u001b[38;5;28mlen\u001b[39m(\u001b[38;5;28mstr\u001b[39m(data))\n\u001b[1;32m     14\u001b[0m \u001b[38;5;28;01mif\u001b[39;00m l\u001b[38;5;241m%\u001b[39m\u001b[38;5;241m2\u001b[39m \u001b[38;5;241m==\u001b[39m \u001b[38;5;241m0\u001b[39m:\n\u001b[0;32m---> 15\u001b[0m     size \u001b[38;5;241m=\u001b[39m  \u001b[43mblink_2\u001b[49m\u001b[43m(\u001b[49m\u001b[38;5;28;43mint\u001b[39;49m\u001b[43m(\u001b[49m\u001b[38;5;28;43mstr\u001b[39;49m\u001b[43m(\u001b[49m\u001b[43mdata\u001b[49m\u001b[43m)\u001b[49m\u001b[43m[\u001b[49m\u001b[43m:\u001b[49m\u001b[43ml\u001b[49m\u001b[38;5;241;43m/\u001b[39;49m\u001b[38;5;241;43m/\u001b[39;49m\u001b[38;5;241;43m2\u001b[39;49m\u001b[43m]\u001b[49m\u001b[43m)\u001b[49m\u001b[43m,\u001b[49m\u001b[43m \u001b[49m\u001b[43mnb_blinks\u001b[49m\u001b[38;5;241;43m-\u001b[39;49m\u001b[38;5;241;43m1\u001b[39;49m\u001b[43m)\u001b[49m \u001b[38;5;241m+\u001b[39m blink_2(\u001b[38;5;28mint\u001b[39m(\u001b[38;5;28mstr\u001b[39m(data)[l\u001b[38;5;241m/\u001b[39m\u001b[38;5;241m/\u001b[39m\u001b[38;5;241m2\u001b[39m:]), nb_blinks\u001b[38;5;241m-\u001b[39m\u001b[38;5;241m1\u001b[39m)\n\u001b[1;32m     16\u001b[0m \u001b[38;5;28;01melse\u001b[39;00m:\n\u001b[1;32m     17\u001b[0m     size \u001b[38;5;241m=\u001b[39m  blink_2(\u001b[38;5;241m2024\u001b[39m\u001b[38;5;241m*\u001b[39mdata, nb_blinks\u001b[38;5;241m-\u001b[39m\u001b[38;5;241m1\u001b[39m)\n",
      "    \u001b[0;31m[... skipping similar frames: blink_2 at line 17 (1 times)]\u001b[0m\n",
      "Cell \u001b[0;32mIn[118], line 15\u001b[0m, in \u001b[0;36mblink_2\u001b[0;34m(data, nb_blinks)\u001b[0m\n\u001b[1;32m     13\u001b[0m l \u001b[38;5;241m=\u001b[39m \u001b[38;5;28mlen\u001b[39m(\u001b[38;5;28mstr\u001b[39m(data))\n\u001b[1;32m     14\u001b[0m \u001b[38;5;28;01mif\u001b[39;00m l\u001b[38;5;241m%\u001b[39m\u001b[38;5;241m2\u001b[39m \u001b[38;5;241m==\u001b[39m \u001b[38;5;241m0\u001b[39m:\n\u001b[0;32m---> 15\u001b[0m     size \u001b[38;5;241m=\u001b[39m  \u001b[43mblink_2\u001b[49m\u001b[43m(\u001b[49m\u001b[38;5;28;43mint\u001b[39;49m\u001b[43m(\u001b[49m\u001b[38;5;28;43mstr\u001b[39;49m\u001b[43m(\u001b[49m\u001b[43mdata\u001b[49m\u001b[43m)\u001b[49m\u001b[43m[\u001b[49m\u001b[43m:\u001b[49m\u001b[43ml\u001b[49m\u001b[38;5;241;43m/\u001b[39;49m\u001b[38;5;241;43m/\u001b[39;49m\u001b[38;5;241;43m2\u001b[39;49m\u001b[43m]\u001b[49m\u001b[43m)\u001b[49m\u001b[43m,\u001b[49m\u001b[43m \u001b[49m\u001b[43mnb_blinks\u001b[49m\u001b[38;5;241;43m-\u001b[39;49m\u001b[38;5;241;43m1\u001b[39;49m\u001b[43m)\u001b[49m \u001b[38;5;241m+\u001b[39m blink_2(\u001b[38;5;28mint\u001b[39m(\u001b[38;5;28mstr\u001b[39m(data)[l\u001b[38;5;241m/\u001b[39m\u001b[38;5;241m/\u001b[39m\u001b[38;5;241m2\u001b[39m:]), nb_blinks\u001b[38;5;241m-\u001b[39m\u001b[38;5;241m1\u001b[39m)\n\u001b[1;32m     16\u001b[0m \u001b[38;5;28;01melse\u001b[39;00m:\n\u001b[1;32m     17\u001b[0m     size \u001b[38;5;241m=\u001b[39m  blink_2(\u001b[38;5;241m2024\u001b[39m\u001b[38;5;241m*\u001b[39mdata, nb_blinks\u001b[38;5;241m-\u001b[39m\u001b[38;5;241m1\u001b[39m)\n",
      "    \u001b[0;31m[... skipping similar frames: blink_2 at line 15 (1868 times), blink_2 at line 17 (1092 times)]\u001b[0m\n",
      "Cell \u001b[0;32mIn[118], line 15\u001b[0m, in \u001b[0;36mblink_2\u001b[0;34m(data, nb_blinks)\u001b[0m\n\u001b[1;32m     13\u001b[0m l \u001b[38;5;241m=\u001b[39m \u001b[38;5;28mlen\u001b[39m(\u001b[38;5;28mstr\u001b[39m(data))\n\u001b[1;32m     14\u001b[0m \u001b[38;5;28;01mif\u001b[39;00m l\u001b[38;5;241m%\u001b[39m\u001b[38;5;241m2\u001b[39m \u001b[38;5;241m==\u001b[39m \u001b[38;5;241m0\u001b[39m:\n\u001b[0;32m---> 15\u001b[0m     size \u001b[38;5;241m=\u001b[39m  \u001b[43mblink_2\u001b[49m\u001b[43m(\u001b[49m\u001b[38;5;28;43mint\u001b[39;49m\u001b[43m(\u001b[49m\u001b[38;5;28;43mstr\u001b[39;49m\u001b[43m(\u001b[49m\u001b[43mdata\u001b[49m\u001b[43m)\u001b[49m\u001b[43m[\u001b[49m\u001b[43m:\u001b[49m\u001b[43ml\u001b[49m\u001b[38;5;241;43m/\u001b[39;49m\u001b[38;5;241;43m/\u001b[39;49m\u001b[38;5;241;43m2\u001b[39;49m\u001b[43m]\u001b[49m\u001b[43m)\u001b[49m\u001b[43m,\u001b[49m\u001b[43m \u001b[49m\u001b[43mnb_blinks\u001b[49m\u001b[38;5;241;43m-\u001b[39;49m\u001b[38;5;241;43m1\u001b[39;49m\u001b[43m)\u001b[49m \u001b[38;5;241m+\u001b[39m blink_2(\u001b[38;5;28mint\u001b[39m(\u001b[38;5;28mstr\u001b[39m(data)[l\u001b[38;5;241m/\u001b[39m\u001b[38;5;241m/\u001b[39m\u001b[38;5;241m2\u001b[39m:]), nb_blinks\u001b[38;5;241m-\u001b[39m\u001b[38;5;241m1\u001b[39m)\n\u001b[1;32m     16\u001b[0m \u001b[38;5;28;01melse\u001b[39;00m:\n\u001b[1;32m     17\u001b[0m     size \u001b[38;5;241m=\u001b[39m  blink_2(\u001b[38;5;241m2024\u001b[39m\u001b[38;5;241m*\u001b[39mdata, nb_blinks\u001b[38;5;241m-\u001b[39m\u001b[38;5;241m1\u001b[39m)\n",
      "    \u001b[0;31m[... skipping similar frames: blink_2 at line 17 (1 times)]\u001b[0m\n",
      "Cell \u001b[0;32mIn[118], line 17\u001b[0m, in \u001b[0;36mblink_2\u001b[0;34m(data, nb_blinks)\u001b[0m\n\u001b[1;32m     15\u001b[0m     size \u001b[38;5;241m=\u001b[39m  blink_2(\u001b[38;5;28mint\u001b[39m(\u001b[38;5;28mstr\u001b[39m(data)[:l\u001b[38;5;241m/\u001b[39m\u001b[38;5;241m/\u001b[39m\u001b[38;5;241m2\u001b[39m]), nb_blinks\u001b[38;5;241m-\u001b[39m\u001b[38;5;241m1\u001b[39m) \u001b[38;5;241m+\u001b[39m blink_2(\u001b[38;5;28mint\u001b[39m(\u001b[38;5;28mstr\u001b[39m(data)[l\u001b[38;5;241m/\u001b[39m\u001b[38;5;241m/\u001b[39m\u001b[38;5;241m2\u001b[39m:]), nb_blinks\u001b[38;5;241m-\u001b[39m\u001b[38;5;241m1\u001b[39m)\n\u001b[1;32m     16\u001b[0m \u001b[38;5;28;01melse\u001b[39;00m:\n\u001b[0;32m---> 17\u001b[0m     size \u001b[38;5;241m=\u001b[39m  \u001b[43mblink_2\u001b[49m\u001b[43m(\u001b[49m\u001b[38;5;241;43m2024\u001b[39;49m\u001b[38;5;241;43m*\u001b[39;49m\u001b[43mdata\u001b[49m\u001b[43m,\u001b[49m\u001b[43m \u001b[49m\u001b[43mnb_blinks\u001b[49m\u001b[38;5;241;43m-\u001b[39;49m\u001b[38;5;241;43m1\u001b[39;49m\u001b[43m)\u001b[49m\n\u001b[1;32m     19\u001b[0m \u001b[38;5;28;01mif\u001b[39;00m (data, nb_blinks) \u001b[38;5;129;01mnot\u001b[39;00m \u001b[38;5;129;01min\u001b[39;00m known:\n\u001b[1;32m     20\u001b[0m     known[(data, nb_blinks)] \u001b[38;5;241m=\u001b[39m size\n",
      "Cell \u001b[0;32mIn[118], line 13\u001b[0m, in \u001b[0;36mblink_2\u001b[0;34m(data, nb_blinks)\u001b[0m\n\u001b[1;32m     10\u001b[0m \u001b[38;5;28;01mif\u001b[39;00m data \u001b[38;5;241m==\u001b[39m \u001b[38;5;241m0\u001b[39m:\n\u001b[1;32m     11\u001b[0m     size \u001b[38;5;241m=\u001b[39m blink_2(\u001b[38;5;241m1\u001b[39m, nb_blinks\u001b[38;5;241m-\u001b[39m\u001b[38;5;241m1\u001b[39m)\n\u001b[0;32m---> 13\u001b[0m l \u001b[38;5;241m=\u001b[39m \u001b[38;5;28mlen\u001b[39m(\u001b[38;5;28;43mstr\u001b[39;49m\u001b[43m(\u001b[49m\u001b[43mdata\u001b[49m\u001b[43m)\u001b[49m)\n\u001b[1;32m     14\u001b[0m \u001b[38;5;28;01mif\u001b[39;00m l\u001b[38;5;241m%\u001b[39m\u001b[38;5;241m2\u001b[39m \u001b[38;5;241m==\u001b[39m \u001b[38;5;241m0\u001b[39m:\n\u001b[1;32m     15\u001b[0m     size \u001b[38;5;241m=\u001b[39m  blink_2(\u001b[38;5;28mint\u001b[39m(\u001b[38;5;28mstr\u001b[39m(data)[:l\u001b[38;5;241m/\u001b[39m\u001b[38;5;241m/\u001b[39m\u001b[38;5;241m2\u001b[39m]), nb_blinks\u001b[38;5;241m-\u001b[39m\u001b[38;5;241m1\u001b[39m) \u001b[38;5;241m+\u001b[39m blink_2(\u001b[38;5;28mint\u001b[39m(\u001b[38;5;28mstr\u001b[39m(data)[l\u001b[38;5;241m/\u001b[39m\u001b[38;5;241m/\u001b[39m\u001b[38;5;241m2\u001b[39m:]), nb_blinks\u001b[38;5;241m-\u001b[39m\u001b[38;5;241m1\u001b[39m)\n",
      "\u001b[0;31mRecursionError\u001b[0m: maximum recursion depth exceeded while getting the str of an object"
     ]
    }
   ],
   "source": [
    "blink_2(data_list, 10)"
   ]
  },
  {
   "cell_type": "code",
   "execution_count": 109,
   "metadata": {},
   "outputs": [],
   "source": [
    "from math import log, floor\n",
    "\n",
    "\n",
    "class Solution():\n",
    "    tracking = {}\n",
    "\n",
    "    def blink(self, stone, times):\n",
    "        if times == 0:\n",
    "            return 1\n",
    "\n",
    "        if (stone, times) in self.tracking:\n",
    "            return self.tracking[(stone, times)]\n",
    "\n",
    "        if stone == 0:\n",
    "            size = self.blink(1, times - 1)\n",
    "            \"\"\"\n",
    "        elif (digits := len(stone_str := str(stone))) % 2 < 1:\n",
    "            left = int(stone_str[: digits // 2])\n",
    "            right = int(stone_str[digits // 2 :])\n",
    "            size = self.blink(left, times - 1) + self.blink(right, times - 1)\n",
    "            \"\"\"\n",
    "        elif (digits := (floor(log(stone, 10)) + 1)) % 2 < 1:\n",
    "            left = stone // 10 ** (digits // 2)\n",
    "            right = stone % 10 ** (digits // 2)\n",
    "            size = self.blink(left, times - 1) + self.blink(right, times - 1)\n",
    "        else:\n",
    "            size = self.blink(stone * 2024, times - 1)\n",
    "\n",
    "        if (stone, times) not in self.tracking:\n",
    "            self.tracking[(stone, times)] = size\n",
    "\n",
    "        return size\n",
    "\n",
    "    def part1(self, data):\n",
    "        stones = map(int, data.split(' '))\n",
    "        count = sum(self.blink(stone, 25) for stone in stones)\n",
    "        return count\n",
    "\n",
    "    def part2(self, data):\n",
    "        stones = map(int, data.split(' '))\n",
    "        count = sum(self.blink(stone, 75) for stone in stones)\n",
    "        return count"
   ]
  },
  {
   "cell_type": "code",
   "execution_count": 110,
   "metadata": {},
   "outputs": [
    {
     "data": {
      "text/plain": [
       "194557"
      ]
     },
     "execution_count": 110,
     "metadata": {},
     "output_type": "execute_result"
    }
   ],
   "source": [
    "sol = Solution()\n",
    "sol.part1(data)"
   ]
  },
  {
   "cell_type": "code",
   "execution_count": 111,
   "metadata": {},
   "outputs": [
    {
     "data": {
      "text/plain": [
       "231532558973909"
      ]
     },
     "execution_count": 111,
     "metadata": {},
     "output_type": "execute_result"
    }
   ],
   "source": [
    "sol.part2(data)"
   ]
  },
  {
   "cell_type": "code",
   "execution_count": null,
   "metadata": {},
   "outputs": [],
   "source": []
  }
 ],
 "metadata": {
  "kernelspec": {
   "display_name": "env_perso",
   "language": "python",
   "name": "python3"
  },
  "language_info": {
   "codemirror_mode": {
    "name": "ipython",
    "version": 3
   },
   "file_extension": ".py",
   "mimetype": "text/x-python",
   "name": "python",
   "nbconvert_exporter": "python",
   "pygments_lexer": "ipython3",
   "version": "3.10.6"
  }
 },
 "nbformat": 4,
 "nbformat_minor": 2
}
