{
 "cells": [
  {
   "cell_type": "code",
   "execution_count": 1,
   "metadata": {},
   "outputs": [],
   "source": [
    "import numpy as np\n",
    "import math"
   ]
  },
  {
   "cell_type": "code",
   "execution_count": 2,
   "metadata": {},
   "outputs": [
    {
     "data": {
      "text/plain": [
       "[8793800, 1629, 65, 5, 960, 0, 138983, 85629]"
      ]
     },
     "execution_count": 2,
     "metadata": {},
     "output_type": "execute_result"
    }
   ],
   "source": [
    "data = open('data/day11.txt', 'r').read()[:-1]\n",
    "data_list = [int(elem) for elem in data.split(' ')]\n",
    "data_list"
   ]
  },
  {
   "cell_type": "code",
   "execution_count": 3,
   "metadata": {},
   "outputs": [],
   "source": [
    "data_test = [125, 17]"
   ]
  },
  {
   "cell_type": "code",
   "execution_count": 4,
   "metadata": {},
   "outputs": [],
   "source": [
    "def change_stone(number):\n",
    "    l = len(str(number))\n",
    "    if number == 0:\n",
    "        return [1]\n",
    "    if l%2 == 0:\n",
    "        return [int(str(number)[:l//2]), int(str(number)[l//2:])]\n",
    "    else:\n",
    "        return [number * 2024]\n"
   ]
  },
  {
   "cell_type": "code",
   "execution_count": 5,
   "metadata": {},
   "outputs": [],
   "source": [
    "def blink(stones):\n",
    "    result = []\n",
    "    for stone in stones:\n",
    "        for elem in change_stone(stone):\n",
    "            result.append(elem)\n",
    "    return result"
   ]
  },
  {
   "cell_type": "code",
   "execution_count": 6,
   "metadata": {},
   "outputs": [],
   "source": [
    "def nb_stones(data, nb_blinks):\n",
    "    stones = data.copy()\n",
    "    for _ in range(nb_blinks):\n",
    "        stones = blink(stones)\n",
    "    return len(stones)"
   ]
  },
  {
   "cell_type": "code",
   "execution_count": 7,
   "metadata": {},
   "outputs": [
    {
     "data": {
      "text/plain": [
       "194557"
      ]
     },
     "execution_count": 7,
     "metadata": {},
     "output_type": "execute_result"
    }
   ],
   "source": [
    "nb_stones(data_list, 25)"
   ]
  },
  {
   "cell_type": "code",
   "execution_count": 12,
   "metadata": {},
   "outputs": [],
   "source": [
    "known = {}\n",
    "\n",
    "def blink_2(data, nb_blinks):\n",
    "    if nb_blinks==0:\n",
    "        return 1\n",
    "    if (data, nb_blinks) in known:\n",
    "        return known[(data, nb_blinks)]\n",
    "    elif data == 0:\n",
    "        size = blink_2(1, nb_blinks-1)\n",
    "    elif (digits := (math.floor(math.log(data, 10)) + 1)) % 2 < 1:\n",
    "        left = data // 10 ** (digits // 2)\n",
    "        right = data % 10 ** (digits // 2)\n",
    "        size = blink_2(left, nb_blinks - 1) + blink_2(right, nb_blinks - 1)\n",
    "    else:\n",
    "        size = blink_2(2024*data, nb_blinks-1)\n",
    "\n",
    "    if (data, nb_blinks) not in known:\n",
    "        known[(data, nb_blinks)] = size\n",
    "\n",
    "    return size"
   ]
  },
  {
   "cell_type": "code",
   "execution_count": 13,
   "metadata": {},
   "outputs": [
    {
     "data": {
      "text/plain": [
       "231532558973909"
      ]
     },
     "execution_count": 13,
     "metadata": {},
     "output_type": "execute_result"
    }
   ],
   "source": [
    "sum([blink_2(elem, 75) for elem in data_list])"
   ]
  },
  {
   "cell_type": "code",
   "execution_count": null,
   "metadata": {},
   "outputs": [],
   "source": []
  }
 ],
 "metadata": {
  "kernelspec": {
   "display_name": "env_perso",
   "language": "python",
   "name": "python3"
  },
  "language_info": {
   "codemirror_mode": {
    "name": "ipython",
    "version": 3
   },
   "file_extension": ".py",
   "mimetype": "text/x-python",
   "name": "python",
   "nbconvert_exporter": "python",
   "pygments_lexer": "ipython3",
   "version": "3.10.6"
  }
 },
 "nbformat": 4,
 "nbformat_minor": 2
}
