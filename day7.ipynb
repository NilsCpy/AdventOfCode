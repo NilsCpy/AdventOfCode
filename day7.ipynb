{
 "cells": [
  {
   "cell_type": "code",
   "execution_count": 101,
   "metadata": {},
   "outputs": [],
   "source": [
    "import numpy as np\n",
    "import pandas as pd"
   ]
  },
  {
   "cell_type": "code",
   "execution_count": 27,
   "metadata": {},
   "outputs": [
    {
     "data": {
      "text/html": [
       "<div>\n",
       "<style scoped>\n",
       "    .dataframe tbody tr th:only-of-type {\n",
       "        vertical-align: middle;\n",
       "    }\n",
       "\n",
       "    .dataframe tbody tr th {\n",
       "        vertical-align: top;\n",
       "    }\n",
       "\n",
       "    .dataframe thead th {\n",
       "        text-align: right;\n",
       "    }\n",
       "</style>\n",
       "<table border=\"1\" class=\"dataframe\">\n",
       "  <thead>\n",
       "    <tr style=\"text-align: right;\">\n",
       "      <th></th>\n",
       "      <th>resultat</th>\n",
       "      <th>inputs</th>\n",
       "    </tr>\n",
       "  </thead>\n",
       "  <tbody>\n",
       "    <tr>\n",
       "      <th>0</th>\n",
       "      <td>64288413730</td>\n",
       "      <td>[91, 79, 4, 9, 7, 8, 91, 7, 30]</td>\n",
       "    </tr>\n",
       "    <tr>\n",
       "      <th>1</th>\n",
       "      <td>230456169</td>\n",
       "      <td>[3, 630, 12, 7, 2, 1, 6, 26, 3, 69]</td>\n",
       "    </tr>\n",
       "    <tr>\n",
       "      <th>2</th>\n",
       "      <td>376955</td>\n",
       "      <td>[7, 96, 4, 914, 387]</td>\n",
       "    </tr>\n",
       "    <tr>\n",
       "      <th>3</th>\n",
       "      <td>2102493</td>\n",
       "      <td>[259, 8, 30, 467, 9, 17]</td>\n",
       "    </tr>\n",
       "    <tr>\n",
       "      <th>4</th>\n",
       "      <td>144043977</td>\n",
       "      <td>[96, 25, 7, 5, 1, 3, 4, 5, 5, 67, 3, 1]</td>\n",
       "    </tr>\n",
       "    <tr>\n",
       "      <th>...</th>\n",
       "      <td>...</td>\n",
       "      <td>...</td>\n",
       "    </tr>\n",
       "    <tr>\n",
       "      <th>845</th>\n",
       "      <td>19697057</td>\n",
       "      <td>[98, 2, 505, 199, 37]</td>\n",
       "    </tr>\n",
       "    <tr>\n",
       "      <th>846</th>\n",
       "      <td>8286699609</td>\n",
       "      <td>[7, 299, 91, 46, 7, 3, 39, 9, 9]</td>\n",
       "    </tr>\n",
       "    <tr>\n",
       "      <th>847</th>\n",
       "      <td>857291</td>\n",
       "      <td>[80, 1, 73, 674, 98, 84]</td>\n",
       "    </tr>\n",
       "    <tr>\n",
       "      <th>848</th>\n",
       "      <td>921274333</td>\n",
       "      <td>[376, 926, 6, 63, 86, 2, 3, 1, 7]</td>\n",
       "    </tr>\n",
       "    <tr>\n",
       "      <th>849</th>\n",
       "      <td>540968278</td>\n",
       "      <td>[7, 118, 76, 275]</td>\n",
       "    </tr>\n",
       "  </tbody>\n",
       "</table>\n",
       "<p>850 rows × 2 columns</p>\n",
       "</div>"
      ],
      "text/plain": [
       "        resultat                                   inputs\n",
       "0    64288413730          [91, 79, 4, 9, 7, 8, 91, 7, 30]\n",
       "1      230456169      [3, 630, 12, 7, 2, 1, 6, 26, 3, 69]\n",
       "2         376955                     [7, 96, 4, 914, 387]\n",
       "3        2102493                 [259, 8, 30, 467, 9, 17]\n",
       "4      144043977  [96, 25, 7, 5, 1, 3, 4, 5, 5, 67, 3, 1]\n",
       "..           ...                                      ...\n",
       "845     19697057                    [98, 2, 505, 199, 37]\n",
       "846   8286699609         [7, 299, 91, 46, 7, 3, 39, 9, 9]\n",
       "847       857291                 [80, 1, 73, 674, 98, 84]\n",
       "848    921274333        [376, 926, 6, 63, 86, 2, 3, 1, 7]\n",
       "849    540968278                        [7, 118, 76, 275]\n",
       "\n",
       "[850 rows x 2 columns]"
      ]
     },
     "execution_count": 27,
     "metadata": {},
     "output_type": "execute_result"
    }
   ],
   "source": [
    "data_str = pd.read_csv('data/day7.txt', header = None, sep = ':')\n",
    "\n",
    "data_str.columns = ['resultat', 'inputs']\n",
    "\n",
    "data = data_str.copy()\n",
    "data['inputs'] = data_str.inputs.apply(lambda x:[int(elem) for elem in x.split(' ')[1:]])\n",
    "data['resultat'] = data_str.resultat.apply(int)\n",
    "\n",
    "data"
   ]
  },
  {
   "cell_type": "code",
   "execution_count": 99,
   "metadata": {},
   "outputs": [],
   "source": [
    "def check_line(target, inputs):\n",
    "    nb_op = len(inputs)-1\n",
    "    for i in range(pow(2, nb_op)):\n",
    "        binary = f\"{bin(i)[2:]:0>{nb_op}}\"\n",
    "        result = inputs[0]\n",
    "        for index, operator in enumerate(binary):\n",
    "            if operator == '0':\n",
    "                result += inputs[index+1]\n",
    "            if operator == '1':\n",
    "                result *= inputs[index+1]\n",
    "        if result == target:\n",
    "            return True\n",
    "    return False"
   ]
  },
  {
   "cell_type": "code",
   "execution_count": 100,
   "metadata": {},
   "outputs": [
    {
     "data": {
      "text/plain": [
       "4122618559853"
      ]
     },
     "execution_count": 100,
     "metadata": {},
     "output_type": "execute_result"
    }
   ],
   "source": [
    "sum([data.iloc[index].resultat if check_line(data.iloc[index].resultat, data.iloc[index].inputs) else 0 for index in range(len(data))])"
   ]
  },
  {
   "cell_type": "code",
   "execution_count": 109,
   "metadata": {},
   "outputs": [],
   "source": [
    "def check_line_ter(target, inputs):\n",
    "    nb_op = len(inputs)-1\n",
    "    for i in range(pow(3, nb_op)):\n",
    "        ternary = f\"{np.base_repr(i, 3):0>{nb_op}}\"\n",
    "        result = inputs[0]\n",
    "        for index, operator in enumerate(ternary):\n",
    "            if operator == '0':\n",
    "                result += inputs[index+1]\n",
    "            if operator == '1':\n",
    "                result *= inputs[index+1]\n",
    "            if operator == '2':\n",
    "                result = int(str(result)+str(inputs[index+1]))\n",
    "        if result == target:\n",
    "            return True\n",
    "    return False"
   ]
  },
  {
   "cell_type": "code",
   "execution_count": 110,
   "metadata": {},
   "outputs": [
    {
     "data": {
      "text/plain": [
       "227615740238334"
      ]
     },
     "execution_count": 110,
     "metadata": {},
     "output_type": "execute_result"
    }
   ],
   "source": [
    "sum([data.iloc[index].resultat if check_line_ter(data.iloc[index].resultat, data.iloc[index].inputs) else 0 for index in range(len(data))])"
   ]
  },
  {
   "cell_type": "code",
   "execution_count": null,
   "metadata": {},
   "outputs": [],
   "source": []
  }
 ],
 "metadata": {
  "kernelspec": {
   "display_name": "env_perso",
   "language": "python",
   "name": "python3"
  },
  "language_info": {
   "codemirror_mode": {
    "name": "ipython",
    "version": 3
   },
   "file_extension": ".py",
   "mimetype": "text/x-python",
   "name": "python",
   "nbconvert_exporter": "python",
   "pygments_lexer": "ipython3",
   "version": "3.10.6"
  }
 },
 "nbformat": 4,
 "nbformat_minor": 2
}
