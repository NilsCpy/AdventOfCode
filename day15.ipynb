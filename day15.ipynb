{
 "cells": [
  {
   "cell_type": "code",
   "execution_count": 4,
   "metadata": {},
   "outputs": [],
   "source": [
    "import numpy as np"
   ]
  },
  {
   "cell_type": "code",
   "execution_count": 151,
   "metadata": {},
   "outputs": [],
   "source": [
    "class Day15():\n",
    "\n",
    "    def __init__(self, input_link):\n",
    "        self.link = input_link\n",
    "        self.data_txt = open(input_link, 'r').read()\n",
    "\n",
    "        board_flat, moves_flat = self.data_txt.split('\\n\\n')\n",
    "        self.board = np.array([[letter for letter in elem] for elem in board_flat.split('\\n')])\n",
    "        self.moves = moves_flat.replace('\\n', '')\n",
    "\n",
    "        self.x, self.y = np.argwhere(self.board == '@')[0]\n",
    "        return\n",
    "\n",
    "    def display(self):\n",
    "        print('\\n'.join([''.join(list(line)) for line in self.board]))\n",
    "        print()\n",
    "\n",
    "    def move(self, direction):\n",
    "        x, y = self.x, self.y\n",
    "        elem = self.board[x, y]\n",
    "        count = 0\n",
    "\n",
    "        if direction == '>':\n",
    "            while elem != '.':\n",
    "                count += 1\n",
    "                elem = self.board[x, y+count]\n",
    "                if elem == '#':\n",
    "                    return self\n",
    "            self.board[self.x, self.y:self.y+count+1] = np.hstack((np.array(['.']), self.board[self.x, self.y:self.y+count]))\n",
    "            self.y = self.y + 1\n",
    "\n",
    "        if direction == '<':\n",
    "            while elem != '.':\n",
    "                count += 1\n",
    "                elem = self.board[x, y-count]\n",
    "                if elem == '#':\n",
    "                    return self\n",
    "            self.board[self.x, self.y-count:self.y+1] = np.hstack((self.board[self.x, self.y-count+1:self.y+1], np.array(['.'])))\n",
    "            self.y = self.y - 1\n",
    "\n",
    "        if direction == 'v':\n",
    "            while elem != '.':\n",
    "                count += 1\n",
    "                elem = self.board[x+count, y]\n",
    "                if elem == '#':\n",
    "                    return self\n",
    "            self.board[self.x:self.x+count+1, self.y] = np.hstack((np.array(['.']), self.board[self.x:self.x+count, self.y]))\n",
    "            self.x = self.x + 1\n",
    "\n",
    "        if direction == '^':\n",
    "            while elem != '.':\n",
    "                count += 1\n",
    "                elem = self.board[x-count, y]\n",
    "                if elem == '#':\n",
    "                    return self\n",
    "            self.board[self.x-count:self.x+1, self.y] = np.hstack((self.board[self.x-count+1:self.x+1, self.y], np.array(['.'])))\n",
    "            self.x = self.x - 1\n",
    "\n",
    "    def all_moves(self):\n",
    "        for move in self.moves:\n",
    "            self.move(move)\n",
    "\n",
    "    def get_score(self):\n",
    "        return np.sum([100*elem[0] + elem[1] for elem in np.argwhere(self.board == 'O')])\n"
   ]
  },
  {
   "cell_type": "code",
   "execution_count": 154,
   "metadata": {},
   "outputs": [
    {
     "data": {
      "text/plain": [
       "10092"
      ]
     },
     "execution_count": 154,
     "metadata": {},
     "output_type": "execute_result"
    }
   ],
   "source": [
    "day15_test = Day15('other/day15_test.txt')\n",
    "day15_test.all_moves()\n",
    "day15_test.get_score()"
   ]
  },
  {
   "cell_type": "code",
   "execution_count": 155,
   "metadata": {},
   "outputs": [
    {
     "data": {
      "text/plain": [
       "1499739"
      ]
     },
     "execution_count": 155,
     "metadata": {},
     "output_type": "execute_result"
    }
   ],
   "source": [
    "day15 = Day15('data/day15.txt')\n",
    "day15.all_moves()\n",
    "day15.get_score()"
   ]
  },
  {
   "cell_type": "code",
   "execution_count": null,
   "metadata": {},
   "outputs": [],
   "source": []
  }
 ],
 "metadata": {
  "kernelspec": {
   "display_name": "global_env",
   "language": "python",
   "name": "python3"
  },
  "language_info": {
   "codemirror_mode": {
    "name": "ipython",
    "version": 3
   },
   "file_extension": ".py",
   "mimetype": "text/x-python",
   "name": "python",
   "nbconvert_exporter": "python",
   "pygments_lexer": "ipython3",
   "version": "3.10.6"
  }
 },
 "nbformat": 4,
 "nbformat_minor": 2
}
